{
 "cells": [
  {
   "cell_type": "markdown",
   "metadata": {},
   "source": [
    "# Анализ пользовательского поведения в мобильном приложении"
   ]
  },
  {
   "cell_type": "markdown",
   "metadata": {
    "toc": true
   },
   "source": [
    "<h1>Оглавление<span class=\"tocSkip\"></span></h1>\n",
    "<div class=\"toc\"><ul class=\"toc-item\"><li><span><a href=\"#Описание-данных\" data-toc-modified-id=\"Описание-данных-1\"><span class=\"toc-item-num\">1&nbsp;&nbsp;</span>Описание данных</a></span></li><li><span><a href=\"#Подготовка-данных\" data-toc-modified-id=\"Подготовка-данных-2\"><span class=\"toc-item-num\">2&nbsp;&nbsp;</span>Подготовка данных</a></span><ul class=\"toc-item\"><li><span><a href=\"#Столбец-name\" data-toc-modified-id=\"Столбец-name-2.1\"><span class=\"toc-item-num\">2.1&nbsp;&nbsp;</span>Столбец name</a></span></li><li><span><a href=\"#Столбец-year_of_release\" data-toc-modified-id=\"Столбец-year_of_release-2.2\"><span class=\"toc-item-num\">2.2&nbsp;&nbsp;</span>Столбец year_of_release</a></span></li><li><span><a href=\"#Столбец-rating\" data-toc-modified-id=\"Столбец-rating-2.3\"><span class=\"toc-item-num\">2.3&nbsp;&nbsp;</span>Столбец rating</a></span></li><li><span><a href=\"#Столбец-critic_score\" data-toc-modified-id=\"Столбец-critic_score-2.4\"><span class=\"toc-item-num\">2.4&nbsp;&nbsp;</span>Столбец critic_score</a></span></li><li><span><a href=\"#Столбец-user_score\" data-toc-modified-id=\"Столбец-user_score-2.5\"><span class=\"toc-item-num\">2.5&nbsp;&nbsp;</span>Столбец user_score</a></span></li></ul></li><li><span><a href=\"#Количество-выпущенных-игр-по-платформам.\" data-toc-modified-id=\"Количество-выпущенных-игр-по-платформам.-3\"><span class=\"toc-item-num\">3&nbsp;&nbsp;</span>Количество выпущенных игр по платформам.</a></span></li><li><span><a href=\"#Динамика-продаж-игр-по-платформам.\" data-toc-modified-id=\"Динамика-продаж-игр-по-платформам.-4\"><span class=\"toc-item-num\">4&nbsp;&nbsp;</span>Динамика продаж игр по платформам.</a></span><ul class=\"toc-item\"><li><span><a href=\"#Общие-продажи\" data-toc-modified-id=\"Общие-продажи-4.1\"><span class=\"toc-item-num\">4.1&nbsp;&nbsp;</span>Общие продажи</a></span></li><li><span><a href=\"#Динамика-продаж-игр-по-платформам-2014---2016-гг.\" data-toc-modified-id=\"Динамика-продаж-игр-по-платформам-2014---2016-гг.-4.2\"><span class=\"toc-item-num\">4.2&nbsp;&nbsp;</span>Динамика продаж игр по платформам 2014 - 2016 гг.</a></span></li></ul></li><li><span><a href=\"#График-«ящик-с-усами»-по-глобальным-продажам-игр-в-разбивке-по-платформам.\" data-toc-modified-id=\"График-«ящик-с-усами»-по-глобальным-продажам-игр-в-разбивке-по-платформам.-5\"><span class=\"toc-item-num\">5&nbsp;&nbsp;</span>График «ящик с усами» по глобальным продажам игр в разбивке по платформам.</a></span></li><li><span><a href=\"#Влияние-отзывов-пользователей-и-критиков-на-продажи-внутри-одной-популярной-платформы.\" data-toc-modified-id=\"Влияние-отзывов-пользователей-и-критиков-на-продажи-внутри-одной-популярной-платформы.-6\"><span class=\"toc-item-num\">6&nbsp;&nbsp;</span>Влияние отзывов пользователей и критиков на продажи внутри одной популярной платформы.</a></span></li><li><span><a href=\"#Определение-прибыльных-жанров\" data-toc-modified-id=\"Определение-прибыльных-жанров-7\"><span class=\"toc-item-num\">7&nbsp;&nbsp;</span>Определение прибыльных жанров</a></span></li><li><span><a href=\"#Портрет-пользователя-регионов-NA,-EU,-JP\" data-toc-modified-id=\"Портрет-пользователя-регионов-NA,-EU,-JP-8\"><span class=\"toc-item-num\">8&nbsp;&nbsp;</span>Портрет пользователя регионов NA, EU, JP</a></span><ul class=\"toc-item\"><li><span><a href=\"#Самые-популярные-платформы-(топ-5)\" data-toc-modified-id=\"Самые-популярные-платформы-(топ-5)-8.1\"><span class=\"toc-item-num\">8.1&nbsp;&nbsp;</span>Самые популярные платформы (топ-5)</a></span></li><li><span><a href=\"#Самые-популярные-жанры-(топ-5)\" data-toc-modified-id=\"Самые-популярные-жанры-(топ-5)-8.2\"><span class=\"toc-item-num\">8.2&nbsp;&nbsp;</span>Самые популярные жанры (топ-5)</a></span></li><li><span><a href=\"#Влияние-рейтинга-ESRB-на-продажи-в-отдельном-регионе.\" data-toc-modified-id=\"Влияние-рейтинга-ESRB-на-продажи-в-отдельном-регионе.-8.3\"><span class=\"toc-item-num\">8.3&nbsp;&nbsp;</span>Влияние рейтинга ESRB на продажи в отдельном регионе.</a></span></li></ul></li><li><span><a href=\"#Проверка-гипотез\" data-toc-modified-id=\"Проверка-гипотез-9\"><span class=\"toc-item-num\">9&nbsp;&nbsp;</span>Проверка гипотез</a></span><ul class=\"toc-item\"><li><span><a href=\"#Средние-пользовательские-рейтинги-платформ-Xbox-One-и-PC-одинаковые\" data-toc-modified-id=\"Средние-пользовательские-рейтинги-платформ-Xbox-One-и-PC-одинаковые-9.1\"><span class=\"toc-item-num\">9.1&nbsp;&nbsp;</span>Средние пользовательские рейтинги платформ Xbox One и PC одинаковые</a></span></li><li><span><a href=\"#Средние-пользовательские-рейтинги-жанров-Action-и-Sports-разные\" data-toc-modified-id=\"Средние-пользовательские-рейтинги-жанров-Action-и-Sports-разные-9.2\"><span class=\"toc-item-num\">9.2&nbsp;&nbsp;</span>Средние пользовательские рейтинги жанров Action и Sports разные</a></span></li></ul></li><li><span><a href=\"#Итоговый-вывод\" data-toc-modified-id=\"Итоговый-вывод-10\"><span class=\"toc-item-num\">10&nbsp;&nbsp;</span>Итоговый вывод</a></span></li></ul></div>"
   ]
  },
  {
   "cell_type": "markdown",
   "metadata": {},
   "source": [
    "## Описание данных"
   ]
  },
  {
   "cell_type": "code",
   "execution_count": 1,
   "metadata": {},
   "outputs": [],
   "source": [
    "import pandas as pd\n",
    "import matplotlib.pyplot as plt\n",
    "import seaborn as sns\n",
    "import matplotlib.ticker as ticker\n",
    "import numpy as np\n",
    "from scipy import stats as st"
   ]
  },
  {
   "cell_type": "code",
   "execution_count": 2,
   "metadata": {},
   "outputs": [],
   "source": [
    "try:\n",
    "    df = pd.read_csv('/datasets/games.csv')\n",
    "except:\n",
    "    DATA_DIR = 'data/'\n",
    "    data_name = DATA_DIR\n",
    "    df = pd.read_csv('games.csv')"
   ]
  },
  {
   "cell_type": "code",
   "execution_count": 3,
   "metadata": {},
   "outputs": [
    {
     "name": "stdout",
     "output_type": "stream",
     "text": [
      "<class 'pandas.core.frame.DataFrame'>\n",
      "RangeIndex: 16715 entries, 0 to 16714\n",
      "Data columns (total 11 columns):\n",
      " #   Column           Non-Null Count  Dtype  \n",
      "---  ------           --------------  -----  \n",
      " 0   Name             16713 non-null  object \n",
      " 1   Platform         16715 non-null  object \n",
      " 2   Year_of_Release  16446 non-null  float64\n",
      " 3   Genre            16713 non-null  object \n",
      " 4   NA_sales         16715 non-null  float64\n",
      " 5   EU_sales         16715 non-null  float64\n",
      " 6   JP_sales         16715 non-null  float64\n",
      " 7   Other_sales      16715 non-null  float64\n",
      " 8   Critic_Score     8137 non-null   float64\n",
      " 9   User_Score       10014 non-null  object \n",
      " 10  Rating           9949 non-null   object \n",
      "dtypes: float64(6), object(5)\n",
      "memory usage: 1.4+ MB\n"
     ]
    }
   ],
   "source": [
    "df.info()"
   ]
  },
  {
   "cell_type": "markdown",
   "metadata": {},
   "source": [
    "Нужно изменить тип данных в столбцах Year_of_Release, Critic_Score и User_Score на числовой. Вызывает вопрос значение object в столбце User_Score."
   ]
  },
  {
   "cell_type": "code",
   "execution_count": 4,
   "metadata": {},
   "outputs": [
    {
     "data": {
      "text/html": [
       "<div>\n",
       "<style scoped>\n",
       "    .dataframe tbody tr th:only-of-type {\n",
       "        vertical-align: middle;\n",
       "    }\n",
       "\n",
       "    .dataframe tbody tr th {\n",
       "        vertical-align: top;\n",
       "    }\n",
       "\n",
       "    .dataframe thead th {\n",
       "        text-align: right;\n",
       "    }\n",
       "</style>\n",
       "<table border=\"1\" class=\"dataframe\">\n",
       "  <thead>\n",
       "    <tr style=\"text-align: right;\">\n",
       "      <th></th>\n",
       "      <th>Name</th>\n",
       "      <th>Platform</th>\n",
       "      <th>Year_of_Release</th>\n",
       "      <th>Genre</th>\n",
       "      <th>NA_sales</th>\n",
       "      <th>EU_sales</th>\n",
       "      <th>JP_sales</th>\n",
       "      <th>Other_sales</th>\n",
       "      <th>Critic_Score</th>\n",
       "      <th>User_Score</th>\n",
       "      <th>Rating</th>\n",
       "    </tr>\n",
       "  </thead>\n",
       "  <tbody>\n",
       "    <tr>\n",
       "      <th>0</th>\n",
       "      <td>Wii Sports</td>\n",
       "      <td>Wii</td>\n",
       "      <td>2006.0</td>\n",
       "      <td>Sports</td>\n",
       "      <td>41.36</td>\n",
       "      <td>28.96</td>\n",
       "      <td>3.77</td>\n",
       "      <td>8.45</td>\n",
       "      <td>76.0</td>\n",
       "      <td>8</td>\n",
       "      <td>E</td>\n",
       "    </tr>\n",
       "    <tr>\n",
       "      <th>1</th>\n",
       "      <td>Super Mario Bros.</td>\n",
       "      <td>NES</td>\n",
       "      <td>1985.0</td>\n",
       "      <td>Platform</td>\n",
       "      <td>29.08</td>\n",
       "      <td>3.58</td>\n",
       "      <td>6.81</td>\n",
       "      <td>0.77</td>\n",
       "      <td>NaN</td>\n",
       "      <td>NaN</td>\n",
       "      <td>NaN</td>\n",
       "    </tr>\n",
       "    <tr>\n",
       "      <th>2</th>\n",
       "      <td>Mario Kart Wii</td>\n",
       "      <td>Wii</td>\n",
       "      <td>2008.0</td>\n",
       "      <td>Racing</td>\n",
       "      <td>15.68</td>\n",
       "      <td>12.76</td>\n",
       "      <td>3.79</td>\n",
       "      <td>3.29</td>\n",
       "      <td>82.0</td>\n",
       "      <td>8.3</td>\n",
       "      <td>E</td>\n",
       "    </tr>\n",
       "    <tr>\n",
       "      <th>3</th>\n",
       "      <td>Wii Sports Resort</td>\n",
       "      <td>Wii</td>\n",
       "      <td>2009.0</td>\n",
       "      <td>Sports</td>\n",
       "      <td>15.61</td>\n",
       "      <td>10.93</td>\n",
       "      <td>3.28</td>\n",
       "      <td>2.95</td>\n",
       "      <td>80.0</td>\n",
       "      <td>8</td>\n",
       "      <td>E</td>\n",
       "    </tr>\n",
       "    <tr>\n",
       "      <th>4</th>\n",
       "      <td>Pokemon Red/Pokemon Blue</td>\n",
       "      <td>GB</td>\n",
       "      <td>1996.0</td>\n",
       "      <td>Role-Playing</td>\n",
       "      <td>11.27</td>\n",
       "      <td>8.89</td>\n",
       "      <td>10.22</td>\n",
       "      <td>1.00</td>\n",
       "      <td>NaN</td>\n",
       "      <td>NaN</td>\n",
       "      <td>NaN</td>\n",
       "    </tr>\n",
       "  </tbody>\n",
       "</table>\n",
       "</div>"
      ],
      "text/plain": [
       "                       Name Platform  Year_of_Release         Genre  NA_sales  \\\n",
       "0                Wii Sports      Wii           2006.0        Sports     41.36   \n",
       "1         Super Mario Bros.      NES           1985.0      Platform     29.08   \n",
       "2            Mario Kart Wii      Wii           2008.0        Racing     15.68   \n",
       "3         Wii Sports Resort      Wii           2009.0        Sports     15.61   \n",
       "4  Pokemon Red/Pokemon Blue       GB           1996.0  Role-Playing     11.27   \n",
       "\n",
       "   EU_sales  JP_sales  Other_sales  Critic_Score User_Score Rating  \n",
       "0     28.96      3.77         8.45          76.0          8      E  \n",
       "1      3.58      6.81         0.77           NaN        NaN    NaN  \n",
       "2     12.76      3.79         3.29          82.0        8.3      E  \n",
       "3     10.93      3.28         2.95          80.0          8      E  \n",
       "4      8.89     10.22         1.00           NaN        NaN    NaN  "
      ]
     },
     "execution_count": 4,
     "metadata": {},
     "output_type": "execute_result"
    }
   ],
   "source": [
    "df.head()"
   ]
  },
  {
   "cell_type": "markdown",
   "metadata": {},
   "source": [
    "Посмотрим доли пропусков в столбцах"
   ]
  },
  {
   "cell_type": "code",
   "execution_count": 5,
   "metadata": {},
   "outputs": [
    {
     "data": {
      "text/plain": [
       "Name               0.000120\n",
       "Platform           0.000000\n",
       "Year_of_Release    0.016093\n",
       "Genre              0.000120\n",
       "NA_sales           0.000000\n",
       "EU_sales           0.000000\n",
       "JP_sales           0.000000\n",
       "Other_sales        0.000000\n",
       "Critic_Score       0.513192\n",
       "User_Score         0.400897\n",
       "Rating             0.404786\n",
       "dtype: float64"
      ]
     },
     "execution_count": 5,
     "metadata": {},
     "output_type": "execute_result"
    }
   ],
   "source": [
    "df.isna().mean()"
   ]
  },
  {
   "cell_type": "markdown",
   "metadata": {},
   "source": [
    "Больше всего пропусков в последних колонках, 40-50 %. \n",
    "Как поступим:\n",
    "\n",
    "* Critic_Score - оценка критиков - вполне возможно, что игры не оценивались критиками, т.к. тогда не было такого \"обычая\". Было бы неправильно заполнить рейтинг игры средним или медианой, даже если бы мы их считали внутри для каждого жанра отдельно. Тем не менее, чтобы иметь возможность быстрой фильтрации данных и возможность их беспрепятственно обрабатывать, поставим этим играм рейтинг -5  (вдруг у какой-то игры есть нулевой рейтинг, поставив -5 , мы никогда не перемешаем игры с NaN и с реально нулевым рейтингом);\n",
    "\n",
    "* Rating - рейтинг от ESRB - может быть, в те времена не было такой организации, вот и рейтинга от неё тоже нет. Здесь то же самое. Невозможно дать рейтинг игре, посчитав его как среднее рейтингов игр того же жанра. Поставим рейтинг \"Unknown\";\n",
    "\n",
    "* User_Score - те же причины, вероятно, ранее не было сервисов, которые собирали бы рейтинги игроков. Поэтому и присутствуют пропуски. Поступим так же, как и со столбцом Critic_Score.\n",
    "\n",
    "Остальные пропуски можно будет удалить. "
   ]
  },
  {
   "cell_type": "code",
   "execution_count": 6,
   "metadata": {},
   "outputs": [],
   "source": [
    "def first_look (df):\n",
    "  for element in df.columns:\n",
    "    if df[element].isna().sum() > 0: \n",
    "      print(element, ' - ', df[element].isna().sum(), 'пропусков')\n",
    "      count = +1\n",
    "  if count == 0:\n",
    "\n",
    "    print('Дубликатов: ', df.duplicated().sum())\n",
    "  else:\n",
    "    print('Дубликатов НЕТ')"
   ]
  },
  {
   "cell_type": "code",
   "execution_count": 7,
   "metadata": {},
   "outputs": [
    {
     "name": "stdout",
     "output_type": "stream",
     "text": [
      "Name  -  2 пропусков\n",
      "Year_of_Release  -  269 пропусков\n",
      "Genre  -  2 пропусков\n",
      "Critic_Score  -  8578 пропусков\n",
      "User_Score  -  6701 пропусков\n",
      "Rating  -  6766 пропусков\n",
      "Дубликатов НЕТ\n"
     ]
    }
   ],
   "source": [
    "first_look(df)"
   ]
  },
  {
   "cell_type": "markdown",
   "metadata": {},
   "source": [
    "* Дубликатов нет.\n",
    "* Необходимо обработать пропуски и изменить типы данных. \n",
    "* Нужно изменить названия столбцов."
   ]
  },
  {
   "cell_type": "markdown",
   "metadata": {},
   "source": [
    "## Подготовка данных"
   ]
  },
  {
   "cell_type": "markdown",
   "metadata": {},
   "source": [
    "Для удобства приведем названия столбцов к нижнему регистру."
   ]
  },
  {
   "cell_type": "code",
   "execution_count": 8,
   "metadata": {},
   "outputs": [],
   "source": [
    "df.columns = df.columns.str.lower()"
   ]
  },
  {
   "cell_type": "markdown",
   "metadata": {},
   "source": [
    "Займемся удалением пропусков."
   ]
  },
  {
   "cell_type": "markdown",
   "metadata": {},
   "source": [
    "### Столбец name"
   ]
  },
  {
   "cell_type": "code",
   "execution_count": 9,
   "metadata": {},
   "outputs": [
    {
     "data": {
      "text/html": [
       "<div>\n",
       "<style scoped>\n",
       "    .dataframe tbody tr th:only-of-type {\n",
       "        vertical-align: middle;\n",
       "    }\n",
       "\n",
       "    .dataframe tbody tr th {\n",
       "        vertical-align: top;\n",
       "    }\n",
       "\n",
       "    .dataframe thead th {\n",
       "        text-align: right;\n",
       "    }\n",
       "</style>\n",
       "<table border=\"1\" class=\"dataframe\">\n",
       "  <thead>\n",
       "    <tr style=\"text-align: right;\">\n",
       "      <th></th>\n",
       "      <th>name</th>\n",
       "      <th>platform</th>\n",
       "      <th>year_of_release</th>\n",
       "      <th>genre</th>\n",
       "      <th>na_sales</th>\n",
       "      <th>eu_sales</th>\n",
       "      <th>jp_sales</th>\n",
       "      <th>other_sales</th>\n",
       "      <th>critic_score</th>\n",
       "      <th>user_score</th>\n",
       "      <th>rating</th>\n",
       "    </tr>\n",
       "  </thead>\n",
       "  <tbody>\n",
       "    <tr>\n",
       "      <th>659</th>\n",
       "      <td>NaN</td>\n",
       "      <td>GEN</td>\n",
       "      <td>1993.0</td>\n",
       "      <td>NaN</td>\n",
       "      <td>1.78</td>\n",
       "      <td>0.53</td>\n",
       "      <td>0.00</td>\n",
       "      <td>0.08</td>\n",
       "      <td>NaN</td>\n",
       "      <td>NaN</td>\n",
       "      <td>NaN</td>\n",
       "    </tr>\n",
       "    <tr>\n",
       "      <th>14244</th>\n",
       "      <td>NaN</td>\n",
       "      <td>GEN</td>\n",
       "      <td>1993.0</td>\n",
       "      <td>NaN</td>\n",
       "      <td>0.00</td>\n",
       "      <td>0.00</td>\n",
       "      <td>0.03</td>\n",
       "      <td>0.00</td>\n",
       "      <td>NaN</td>\n",
       "      <td>NaN</td>\n",
       "      <td>NaN</td>\n",
       "    </tr>\n",
       "  </tbody>\n",
       "</table>\n",
       "</div>"
      ],
      "text/plain": [
       "      name platform  year_of_release genre  na_sales  eu_sales  jp_sales  \\\n",
       "659    NaN      GEN           1993.0   NaN      1.78      0.53      0.00   \n",
       "14244  NaN      GEN           1993.0   NaN      0.00      0.00      0.03   \n",
       "\n",
       "       other_sales  critic_score user_score rating  \n",
       "659           0.08           NaN        NaN    NaN  \n",
       "14244         0.00           NaN        NaN    NaN  "
      ]
     },
     "execution_count": 9,
     "metadata": {},
     "output_type": "execute_result"
    }
   ],
   "source": [
    "df[df['name'].isnull()]"
   ]
  },
  {
   "cell_type": "markdown",
   "metadata": {},
   "source": [
    "Информации по играм почти нет, поэтому удаляем эти строки."
   ]
  },
  {
   "cell_type": "code",
   "execution_count": 10,
   "metadata": {},
   "outputs": [
    {
     "data": {
      "text/plain": [
       "(16715, 11)"
      ]
     },
     "execution_count": 10,
     "metadata": {},
     "output_type": "execute_result"
    }
   ],
   "source": [
    "df.shape"
   ]
  },
  {
   "cell_type": "code",
   "execution_count": 11,
   "metadata": {},
   "outputs": [],
   "source": [
    "df = df.dropna(subset = ['name'])"
   ]
  },
  {
   "cell_type": "code",
   "execution_count": 12,
   "metadata": {},
   "outputs": [
    {
     "data": {
      "text/plain": [
       "(16713, 11)"
      ]
     },
     "execution_count": 12,
     "metadata": {},
     "output_type": "execute_result"
    }
   ],
   "source": [
    "df.shape"
   ]
  },
  {
   "cell_type": "markdown",
   "metadata": {},
   "source": [
    "### Столбец year_of_release"
   ]
  },
  {
   "cell_type": "markdown",
   "metadata": {},
   "source": [
    "Пропуски в годах выпуска игры. "
   ]
  },
  {
   "cell_type": "code",
   "execution_count": 13,
   "metadata": {},
   "outputs": [
    {
     "data": {
      "text/html": [
       "<div>\n",
       "<style scoped>\n",
       "    .dataframe tbody tr th:only-of-type {\n",
       "        vertical-align: middle;\n",
       "    }\n",
       "\n",
       "    .dataframe tbody tr th {\n",
       "        vertical-align: top;\n",
       "    }\n",
       "\n",
       "    .dataframe thead th {\n",
       "        text-align: right;\n",
       "    }\n",
       "</style>\n",
       "<table border=\"1\" class=\"dataframe\">\n",
       "  <thead>\n",
       "    <tr style=\"text-align: right;\">\n",
       "      <th></th>\n",
       "      <th>name</th>\n",
       "      <th>platform</th>\n",
       "      <th>year_of_release</th>\n",
       "      <th>genre</th>\n",
       "      <th>na_sales</th>\n",
       "      <th>eu_sales</th>\n",
       "      <th>jp_sales</th>\n",
       "      <th>other_sales</th>\n",
       "      <th>critic_score</th>\n",
       "      <th>user_score</th>\n",
       "      <th>rating</th>\n",
       "    </tr>\n",
       "  </thead>\n",
       "  <tbody>\n",
       "    <tr>\n",
       "      <th>183</th>\n",
       "      <td>Madden NFL 2004</td>\n",
       "      <td>PS2</td>\n",
       "      <td>NaN</td>\n",
       "      <td>Sports</td>\n",
       "      <td>4.26</td>\n",
       "      <td>0.26</td>\n",
       "      <td>0.01</td>\n",
       "      <td>0.71</td>\n",
       "      <td>94.0</td>\n",
       "      <td>8.5</td>\n",
       "      <td>E</td>\n",
       "    </tr>\n",
       "    <tr>\n",
       "      <th>377</th>\n",
       "      <td>FIFA Soccer 2004</td>\n",
       "      <td>PS2</td>\n",
       "      <td>NaN</td>\n",
       "      <td>Sports</td>\n",
       "      <td>0.59</td>\n",
       "      <td>2.36</td>\n",
       "      <td>0.04</td>\n",
       "      <td>0.51</td>\n",
       "      <td>84.0</td>\n",
       "      <td>6.4</td>\n",
       "      <td>E</td>\n",
       "    </tr>\n",
       "    <tr>\n",
       "      <th>456</th>\n",
       "      <td>LEGO Batman: The Videogame</td>\n",
       "      <td>Wii</td>\n",
       "      <td>NaN</td>\n",
       "      <td>Action</td>\n",
       "      <td>1.80</td>\n",
       "      <td>0.97</td>\n",
       "      <td>0.00</td>\n",
       "      <td>0.29</td>\n",
       "      <td>74.0</td>\n",
       "      <td>7.9</td>\n",
       "      <td>E10+</td>\n",
       "    </tr>\n",
       "    <tr>\n",
       "      <th>475</th>\n",
       "      <td>wwe Smackdown vs. Raw 2006</td>\n",
       "      <td>PS2</td>\n",
       "      <td>NaN</td>\n",
       "      <td>Fighting</td>\n",
       "      <td>1.57</td>\n",
       "      <td>1.02</td>\n",
       "      <td>0.00</td>\n",
       "      <td>0.41</td>\n",
       "      <td>NaN</td>\n",
       "      <td>NaN</td>\n",
       "      <td>NaN</td>\n",
       "    </tr>\n",
       "    <tr>\n",
       "      <th>609</th>\n",
       "      <td>Space Invaders</td>\n",
       "      <td>2600</td>\n",
       "      <td>NaN</td>\n",
       "      <td>Shooter</td>\n",
       "      <td>2.36</td>\n",
       "      <td>0.14</td>\n",
       "      <td>0.00</td>\n",
       "      <td>0.03</td>\n",
       "      <td>NaN</td>\n",
       "      <td>NaN</td>\n",
       "      <td>NaN</td>\n",
       "    </tr>\n",
       "    <tr>\n",
       "      <th>...</th>\n",
       "      <td>...</td>\n",
       "      <td>...</td>\n",
       "      <td>...</td>\n",
       "      <td>...</td>\n",
       "      <td>...</td>\n",
       "      <td>...</td>\n",
       "      <td>...</td>\n",
       "      <td>...</td>\n",
       "      <td>...</td>\n",
       "      <td>...</td>\n",
       "      <td>...</td>\n",
       "    </tr>\n",
       "    <tr>\n",
       "      <th>16373</th>\n",
       "      <td>PDC World Championship Darts 2008</td>\n",
       "      <td>PSP</td>\n",
       "      <td>NaN</td>\n",
       "      <td>Sports</td>\n",
       "      <td>0.01</td>\n",
       "      <td>0.00</td>\n",
       "      <td>0.00</td>\n",
       "      <td>0.00</td>\n",
       "      <td>43.0</td>\n",
       "      <td>tbd</td>\n",
       "      <td>E10+</td>\n",
       "    </tr>\n",
       "    <tr>\n",
       "      <th>16405</th>\n",
       "      <td>Freaky Flyers</td>\n",
       "      <td>GC</td>\n",
       "      <td>NaN</td>\n",
       "      <td>Racing</td>\n",
       "      <td>0.01</td>\n",
       "      <td>0.00</td>\n",
       "      <td>0.00</td>\n",
       "      <td>0.00</td>\n",
       "      <td>69.0</td>\n",
       "      <td>6.5</td>\n",
       "      <td>T</td>\n",
       "    </tr>\n",
       "    <tr>\n",
       "      <th>16448</th>\n",
       "      <td>Inversion</td>\n",
       "      <td>PC</td>\n",
       "      <td>NaN</td>\n",
       "      <td>Shooter</td>\n",
       "      <td>0.01</td>\n",
       "      <td>0.00</td>\n",
       "      <td>0.00</td>\n",
       "      <td>0.00</td>\n",
       "      <td>59.0</td>\n",
       "      <td>6.7</td>\n",
       "      <td>M</td>\n",
       "    </tr>\n",
       "    <tr>\n",
       "      <th>16458</th>\n",
       "      <td>Hakuouki: Shinsengumi Kitan</td>\n",
       "      <td>PS3</td>\n",
       "      <td>NaN</td>\n",
       "      <td>Adventure</td>\n",
       "      <td>0.01</td>\n",
       "      <td>0.00</td>\n",
       "      <td>0.00</td>\n",
       "      <td>0.00</td>\n",
       "      <td>NaN</td>\n",
       "      <td>NaN</td>\n",
       "      <td>NaN</td>\n",
       "    </tr>\n",
       "    <tr>\n",
       "      <th>16522</th>\n",
       "      <td>Virtua Quest</td>\n",
       "      <td>GC</td>\n",
       "      <td>NaN</td>\n",
       "      <td>Role-Playing</td>\n",
       "      <td>0.01</td>\n",
       "      <td>0.00</td>\n",
       "      <td>0.00</td>\n",
       "      <td>0.00</td>\n",
       "      <td>55.0</td>\n",
       "      <td>5.5</td>\n",
       "      <td>T</td>\n",
       "    </tr>\n",
       "  </tbody>\n",
       "</table>\n",
       "<p>269 rows × 11 columns</p>\n",
       "</div>"
      ],
      "text/plain": [
       "                                    name platform  year_of_release  \\\n",
       "183                      Madden NFL 2004      PS2              NaN   \n",
       "377                     FIFA Soccer 2004      PS2              NaN   \n",
       "456           LEGO Batman: The Videogame      Wii              NaN   \n",
       "475           wwe Smackdown vs. Raw 2006      PS2              NaN   \n",
       "609                       Space Invaders     2600              NaN   \n",
       "...                                  ...      ...              ...   \n",
       "16373  PDC World Championship Darts 2008      PSP              NaN   \n",
       "16405                      Freaky Flyers       GC              NaN   \n",
       "16448                          Inversion       PC              NaN   \n",
       "16458        Hakuouki: Shinsengumi Kitan      PS3              NaN   \n",
       "16522                       Virtua Quest       GC              NaN   \n",
       "\n",
       "              genre  na_sales  eu_sales  jp_sales  other_sales  critic_score  \\\n",
       "183          Sports      4.26      0.26      0.01         0.71          94.0   \n",
       "377          Sports      0.59      2.36      0.04         0.51          84.0   \n",
       "456          Action      1.80      0.97      0.00         0.29          74.0   \n",
       "475        Fighting      1.57      1.02      0.00         0.41           NaN   \n",
       "609         Shooter      2.36      0.14      0.00         0.03           NaN   \n",
       "...             ...       ...       ...       ...          ...           ...   \n",
       "16373        Sports      0.01      0.00      0.00         0.00          43.0   \n",
       "16405        Racing      0.01      0.00      0.00         0.00          69.0   \n",
       "16448       Shooter      0.01      0.00      0.00         0.00          59.0   \n",
       "16458     Adventure      0.01      0.00      0.00         0.00           NaN   \n",
       "16522  Role-Playing      0.01      0.00      0.00         0.00          55.0   \n",
       "\n",
       "      user_score rating  \n",
       "183          8.5      E  \n",
       "377          6.4      E  \n",
       "456          7.9   E10+  \n",
       "475          NaN    NaN  \n",
       "609          NaN    NaN  \n",
       "...          ...    ...  \n",
       "16373        tbd   E10+  \n",
       "16405        6.5      T  \n",
       "16448        6.7      M  \n",
       "16458        NaN    NaN  \n",
       "16522        5.5      T  \n",
       "\n",
       "[269 rows x 11 columns]"
      ]
     },
     "execution_count": 13,
     "metadata": {},
     "output_type": "execute_result"
    }
   ],
   "source": [
    "df[df['year_of_release'].isnull()]"
   ]
  },
  {
   "cell_type": "code",
   "execution_count": 14,
   "metadata": {},
   "outputs": [
    {
     "data": {
      "text/plain": [
       "(16713, 11)"
      ]
     },
     "execution_count": 14,
     "metadata": {},
     "output_type": "execute_result"
    }
   ],
   "source": [
    "df.shape"
   ]
  },
  {
   "cell_type": "markdown",
   "metadata": {},
   "source": [
    "Удаляем для экономии времени обработки данных и меняем тип данных."
   ]
  },
  {
   "cell_type": "code",
   "execution_count": 15,
   "metadata": {},
   "outputs": [],
   "source": [
    "df = df.dropna(subset = ['year_of_release'])\n",
    "df['year_of_release'] = df['year_of_release'].astype('int')"
   ]
  },
  {
   "cell_type": "code",
   "execution_count": 16,
   "metadata": {},
   "outputs": [
    {
     "data": {
      "text/plain": [
       "(16444, 11)"
      ]
     },
     "execution_count": 16,
     "metadata": {},
     "output_type": "execute_result"
    }
   ],
   "source": [
    "df.shape"
   ]
  },
  {
   "cell_type": "markdown",
   "metadata": {},
   "source": [
    "### Столбец rating"
   ]
  },
  {
   "cell_type": "code",
   "execution_count": 17,
   "metadata": {},
   "outputs": [
    {
     "data": {
      "text/html": [
       "<div>\n",
       "<style scoped>\n",
       "    .dataframe tbody tr th:only-of-type {\n",
       "        vertical-align: middle;\n",
       "    }\n",
       "\n",
       "    .dataframe tbody tr th {\n",
       "        vertical-align: top;\n",
       "    }\n",
       "\n",
       "    .dataframe thead th {\n",
       "        text-align: right;\n",
       "    }\n",
       "</style>\n",
       "<table border=\"1\" class=\"dataframe\">\n",
       "  <thead>\n",
       "    <tr style=\"text-align: right;\">\n",
       "      <th></th>\n",
       "      <th>name</th>\n",
       "      <th>platform</th>\n",
       "      <th>year_of_release</th>\n",
       "      <th>genre</th>\n",
       "      <th>na_sales</th>\n",
       "      <th>eu_sales</th>\n",
       "      <th>jp_sales</th>\n",
       "      <th>other_sales</th>\n",
       "      <th>critic_score</th>\n",
       "      <th>user_score</th>\n",
       "      <th>rating</th>\n",
       "    </tr>\n",
       "  </thead>\n",
       "  <tbody>\n",
       "    <tr>\n",
       "      <th>1</th>\n",
       "      <td>Super Mario Bros.</td>\n",
       "      <td>NES</td>\n",
       "      <td>1985</td>\n",
       "      <td>Platform</td>\n",
       "      <td>29.08</td>\n",
       "      <td>3.58</td>\n",
       "      <td>6.81</td>\n",
       "      <td>0.77</td>\n",
       "      <td>NaN</td>\n",
       "      <td>NaN</td>\n",
       "      <td>NaN</td>\n",
       "    </tr>\n",
       "    <tr>\n",
       "      <th>4</th>\n",
       "      <td>Pokemon Red/Pokemon Blue</td>\n",
       "      <td>GB</td>\n",
       "      <td>1996</td>\n",
       "      <td>Role-Playing</td>\n",
       "      <td>11.27</td>\n",
       "      <td>8.89</td>\n",
       "      <td>10.22</td>\n",
       "      <td>1.00</td>\n",
       "      <td>NaN</td>\n",
       "      <td>NaN</td>\n",
       "      <td>NaN</td>\n",
       "    </tr>\n",
       "    <tr>\n",
       "      <th>5</th>\n",
       "      <td>Tetris</td>\n",
       "      <td>GB</td>\n",
       "      <td>1989</td>\n",
       "      <td>Puzzle</td>\n",
       "      <td>23.20</td>\n",
       "      <td>2.26</td>\n",
       "      <td>4.22</td>\n",
       "      <td>0.58</td>\n",
       "      <td>NaN</td>\n",
       "      <td>NaN</td>\n",
       "      <td>NaN</td>\n",
       "    </tr>\n",
       "    <tr>\n",
       "      <th>9</th>\n",
       "      <td>Duck Hunt</td>\n",
       "      <td>NES</td>\n",
       "      <td>1984</td>\n",
       "      <td>Shooter</td>\n",
       "      <td>26.93</td>\n",
       "      <td>0.63</td>\n",
       "      <td>0.28</td>\n",
       "      <td>0.47</td>\n",
       "      <td>NaN</td>\n",
       "      <td>NaN</td>\n",
       "      <td>NaN</td>\n",
       "    </tr>\n",
       "    <tr>\n",
       "      <th>10</th>\n",
       "      <td>Nintendogs</td>\n",
       "      <td>DS</td>\n",
       "      <td>2005</td>\n",
       "      <td>Simulation</td>\n",
       "      <td>9.05</td>\n",
       "      <td>10.95</td>\n",
       "      <td>1.93</td>\n",
       "      <td>2.74</td>\n",
       "      <td>NaN</td>\n",
       "      <td>NaN</td>\n",
       "      <td>NaN</td>\n",
       "    </tr>\n",
       "    <tr>\n",
       "      <th>...</th>\n",
       "      <td>...</td>\n",
       "      <td>...</td>\n",
       "      <td>...</td>\n",
       "      <td>...</td>\n",
       "      <td>...</td>\n",
       "      <td>...</td>\n",
       "      <td>...</td>\n",
       "      <td>...</td>\n",
       "      <td>...</td>\n",
       "      <td>...</td>\n",
       "      <td>...</td>\n",
       "    </tr>\n",
       "    <tr>\n",
       "      <th>16710</th>\n",
       "      <td>Samurai Warriors: Sanada Maru</td>\n",
       "      <td>PS3</td>\n",
       "      <td>2016</td>\n",
       "      <td>Action</td>\n",
       "      <td>0.00</td>\n",
       "      <td>0.00</td>\n",
       "      <td>0.01</td>\n",
       "      <td>0.00</td>\n",
       "      <td>NaN</td>\n",
       "      <td>NaN</td>\n",
       "      <td>NaN</td>\n",
       "    </tr>\n",
       "    <tr>\n",
       "      <th>16711</th>\n",
       "      <td>LMA Manager 2007</td>\n",
       "      <td>X360</td>\n",
       "      <td>2006</td>\n",
       "      <td>Sports</td>\n",
       "      <td>0.00</td>\n",
       "      <td>0.01</td>\n",
       "      <td>0.00</td>\n",
       "      <td>0.00</td>\n",
       "      <td>NaN</td>\n",
       "      <td>NaN</td>\n",
       "      <td>NaN</td>\n",
       "    </tr>\n",
       "    <tr>\n",
       "      <th>16712</th>\n",
       "      <td>Haitaka no Psychedelica</td>\n",
       "      <td>PSV</td>\n",
       "      <td>2016</td>\n",
       "      <td>Adventure</td>\n",
       "      <td>0.00</td>\n",
       "      <td>0.00</td>\n",
       "      <td>0.01</td>\n",
       "      <td>0.00</td>\n",
       "      <td>NaN</td>\n",
       "      <td>NaN</td>\n",
       "      <td>NaN</td>\n",
       "    </tr>\n",
       "    <tr>\n",
       "      <th>16713</th>\n",
       "      <td>Spirits &amp; Spells</td>\n",
       "      <td>GBA</td>\n",
       "      <td>2003</td>\n",
       "      <td>Platform</td>\n",
       "      <td>0.01</td>\n",
       "      <td>0.00</td>\n",
       "      <td>0.00</td>\n",
       "      <td>0.00</td>\n",
       "      <td>NaN</td>\n",
       "      <td>NaN</td>\n",
       "      <td>NaN</td>\n",
       "    </tr>\n",
       "    <tr>\n",
       "      <th>16714</th>\n",
       "      <td>Winning Post 8 2016</td>\n",
       "      <td>PSV</td>\n",
       "      <td>2016</td>\n",
       "      <td>Simulation</td>\n",
       "      <td>0.00</td>\n",
       "      <td>0.00</td>\n",
       "      <td>0.01</td>\n",
       "      <td>0.00</td>\n",
       "      <td>NaN</td>\n",
       "      <td>NaN</td>\n",
       "      <td>NaN</td>\n",
       "    </tr>\n",
       "  </tbody>\n",
       "</table>\n",
       "<p>6676 rows × 11 columns</p>\n",
       "</div>"
      ],
      "text/plain": [
       "                                name platform  year_of_release         genre  \\\n",
       "1                  Super Mario Bros.      NES             1985      Platform   \n",
       "4           Pokemon Red/Pokemon Blue       GB             1996  Role-Playing   \n",
       "5                             Tetris       GB             1989        Puzzle   \n",
       "9                          Duck Hunt      NES             1984       Shooter   \n",
       "10                        Nintendogs       DS             2005    Simulation   \n",
       "...                              ...      ...              ...           ...   \n",
       "16710  Samurai Warriors: Sanada Maru      PS3             2016        Action   \n",
       "16711               LMA Manager 2007     X360             2006        Sports   \n",
       "16712        Haitaka no Psychedelica      PSV             2016     Adventure   \n",
       "16713               Spirits & Spells      GBA             2003      Platform   \n",
       "16714            Winning Post 8 2016      PSV             2016    Simulation   \n",
       "\n",
       "       na_sales  eu_sales  jp_sales  other_sales  critic_score user_score  \\\n",
       "1         29.08      3.58      6.81         0.77           NaN        NaN   \n",
       "4         11.27      8.89     10.22         1.00           NaN        NaN   \n",
       "5         23.20      2.26      4.22         0.58           NaN        NaN   \n",
       "9         26.93      0.63      0.28         0.47           NaN        NaN   \n",
       "10         9.05     10.95      1.93         2.74           NaN        NaN   \n",
       "...         ...       ...       ...          ...           ...        ...   \n",
       "16710      0.00      0.00      0.01         0.00           NaN        NaN   \n",
       "16711      0.00      0.01      0.00         0.00           NaN        NaN   \n",
       "16712      0.00      0.00      0.01         0.00           NaN        NaN   \n",
       "16713      0.01      0.00      0.00         0.00           NaN        NaN   \n",
       "16714      0.00      0.00      0.01         0.00           NaN        NaN   \n",
       "\n",
       "      rating  \n",
       "1        NaN  \n",
       "4        NaN  \n",
       "5        NaN  \n",
       "9        NaN  \n",
       "10       NaN  \n",
       "...      ...  \n",
       "16710    NaN  \n",
       "16711    NaN  \n",
       "16712    NaN  \n",
       "16713    NaN  \n",
       "16714    NaN  \n",
       "\n",
       "[6676 rows x 11 columns]"
      ]
     },
     "execution_count": 17,
     "metadata": {},
     "output_type": "execute_result"
    }
   ],
   "source": [
    "df[df['rating'].isnull()]"
   ]
  },
  {
   "cell_type": "markdown",
   "metadata": {},
   "source": [
    "Как правило, пропущены одновременно и рейтинг, и оценка критиков, и оценка пользователей. Пропуски есть не только в новых играх. Пропусков рейтинга слишком много, что бы мы могли их восстановить. Удалить также нельзя.\n",
    "\n",
    "Посмотрим, какие значения рейтинга у нас вообще есть."
   ]
  },
  {
   "cell_type": "code",
   "execution_count": 18,
   "metadata": {},
   "outputs": [
    {
     "data": {
      "text/plain": [
       "Unknown    6676\n",
       "E          3921\n",
       "T          2905\n",
       "M          1536\n",
       "E10+       1393\n",
       "EC            8\n",
       "K-A           3\n",
       "RP            1\n",
       "AO            1\n",
       "Name: rating, dtype: int64"
      ]
     },
     "execution_count": 18,
     "metadata": {},
     "output_type": "execute_result"
    }
   ],
   "source": [
    "df['rating'] = df['rating'].fillna('Unknown')\n",
    "df['rating'].value_counts()"
   ]
  },
  {
   "cell_type": "markdown",
   "metadata": {},
   "source": [
    "4 вида рейтинга встречаются часто: Е, Т, М и Е10+. Еще 4 почти НЕ встречаются. \n",
    "\n",
    "* АО - («Adults Only 18+») — «Только для взрослых». Отличается от рейтинга М («Mature») — «Для взрослых» тем, что возраст с 17+. Думаю,их можно объединить для анализа.  \n",
    "* RP - фактически, рейтинг не известен. Можно заменить на Unknown;\n",
    "* ЕС -  («Early childhood») — «Для детей младшего возраста»: на Е;\n",
    "* К-А -не нашла, меняем тоже на Е."
   ]
  },
  {
   "cell_type": "code",
   "execution_count": 19,
   "metadata": {},
   "outputs": [],
   "source": [
    "df.loc[df['rating'] == 'AO', 'rating'] = 'M'\n",
    "df.loc[df['rating'] == 'RP', 'rating'] = 'Unknown'\n",
    "df.loc[df['rating'].isin(['EC', 'K-A']), 'rating'] = 'E'"
   ]
  },
  {
   "cell_type": "code",
   "execution_count": 20,
   "metadata": {},
   "outputs": [
    {
     "data": {
      "text/plain": [
       "Unknown    6677\n",
       "E          3932\n",
       "T          2905\n",
       "M          1537\n",
       "E10+       1393\n",
       "Name: rating, dtype: int64"
      ]
     },
     "execution_count": 20,
     "metadata": {},
     "output_type": "execute_result"
    }
   ],
   "source": [
    "df['rating'].value_counts()"
   ]
  },
  {
   "cell_type": "markdown",
   "metadata": {},
   "source": [
    "### Столбец critic_score"
   ]
  },
  {
   "cell_type": "code",
   "execution_count": 21,
   "metadata": {},
   "outputs": [
    {
     "data": {
      "text/html": [
       "<div>\n",
       "<style scoped>\n",
       "    .dataframe tbody tr th:only-of-type {\n",
       "        vertical-align: middle;\n",
       "    }\n",
       "\n",
       "    .dataframe tbody tr th {\n",
       "        vertical-align: top;\n",
       "    }\n",
       "\n",
       "    .dataframe thead th {\n",
       "        text-align: right;\n",
       "    }\n",
       "</style>\n",
       "<table border=\"1\" class=\"dataframe\">\n",
       "  <thead>\n",
       "    <tr style=\"text-align: right;\">\n",
       "      <th></th>\n",
       "      <th>name</th>\n",
       "      <th>platform</th>\n",
       "      <th>year_of_release</th>\n",
       "      <th>genre</th>\n",
       "      <th>na_sales</th>\n",
       "      <th>eu_sales</th>\n",
       "      <th>jp_sales</th>\n",
       "      <th>other_sales</th>\n",
       "      <th>critic_score</th>\n",
       "      <th>user_score</th>\n",
       "      <th>rating</th>\n",
       "    </tr>\n",
       "  </thead>\n",
       "  <tbody>\n",
       "    <tr>\n",
       "      <th>1</th>\n",
       "      <td>Super Mario Bros.</td>\n",
       "      <td>NES</td>\n",
       "      <td>1985</td>\n",
       "      <td>Platform</td>\n",
       "      <td>29.08</td>\n",
       "      <td>3.58</td>\n",
       "      <td>6.81</td>\n",
       "      <td>0.77</td>\n",
       "      <td>NaN</td>\n",
       "      <td>NaN</td>\n",
       "      <td>Unknown</td>\n",
       "    </tr>\n",
       "    <tr>\n",
       "      <th>4</th>\n",
       "      <td>Pokemon Red/Pokemon Blue</td>\n",
       "      <td>GB</td>\n",
       "      <td>1996</td>\n",
       "      <td>Role-Playing</td>\n",
       "      <td>11.27</td>\n",
       "      <td>8.89</td>\n",
       "      <td>10.22</td>\n",
       "      <td>1.00</td>\n",
       "      <td>NaN</td>\n",
       "      <td>NaN</td>\n",
       "      <td>Unknown</td>\n",
       "    </tr>\n",
       "    <tr>\n",
       "      <th>5</th>\n",
       "      <td>Tetris</td>\n",
       "      <td>GB</td>\n",
       "      <td>1989</td>\n",
       "      <td>Puzzle</td>\n",
       "      <td>23.20</td>\n",
       "      <td>2.26</td>\n",
       "      <td>4.22</td>\n",
       "      <td>0.58</td>\n",
       "      <td>NaN</td>\n",
       "      <td>NaN</td>\n",
       "      <td>Unknown</td>\n",
       "    </tr>\n",
       "    <tr>\n",
       "      <th>9</th>\n",
       "      <td>Duck Hunt</td>\n",
       "      <td>NES</td>\n",
       "      <td>1984</td>\n",
       "      <td>Shooter</td>\n",
       "      <td>26.93</td>\n",
       "      <td>0.63</td>\n",
       "      <td>0.28</td>\n",
       "      <td>0.47</td>\n",
       "      <td>NaN</td>\n",
       "      <td>NaN</td>\n",
       "      <td>Unknown</td>\n",
       "    </tr>\n",
       "    <tr>\n",
       "      <th>10</th>\n",
       "      <td>Nintendogs</td>\n",
       "      <td>DS</td>\n",
       "      <td>2005</td>\n",
       "      <td>Simulation</td>\n",
       "      <td>9.05</td>\n",
       "      <td>10.95</td>\n",
       "      <td>1.93</td>\n",
       "      <td>2.74</td>\n",
       "      <td>NaN</td>\n",
       "      <td>NaN</td>\n",
       "      <td>Unknown</td>\n",
       "    </tr>\n",
       "  </tbody>\n",
       "</table>\n",
       "</div>"
      ],
      "text/plain": [
       "                        name platform  year_of_release         genre  \\\n",
       "1          Super Mario Bros.      NES             1985      Platform   \n",
       "4   Pokemon Red/Pokemon Blue       GB             1996  Role-Playing   \n",
       "5                     Tetris       GB             1989        Puzzle   \n",
       "9                  Duck Hunt      NES             1984       Shooter   \n",
       "10                Nintendogs       DS             2005    Simulation   \n",
       "\n",
       "    na_sales  eu_sales  jp_sales  other_sales  critic_score user_score  \\\n",
       "1      29.08      3.58      6.81         0.77           NaN        NaN   \n",
       "4      11.27      8.89     10.22         1.00           NaN        NaN   \n",
       "5      23.20      2.26      4.22         0.58           NaN        NaN   \n",
       "9      26.93      0.63      0.28         0.47           NaN        NaN   \n",
       "10      9.05     10.95      1.93         2.74           NaN        NaN   \n",
       "\n",
       "     rating  \n",
       "1   Unknown  \n",
       "4   Unknown  \n",
       "5   Unknown  \n",
       "9   Unknown  \n",
       "10  Unknown  "
      ]
     },
     "execution_count": 21,
     "metadata": {},
     "output_type": "execute_result"
    }
   ],
   "source": [
    "df[df['critic_score'].isnull()].head()"
   ]
  },
  {
   "cell_type": "code",
   "execution_count": 22,
   "metadata": {},
   "outputs": [],
   "source": [
    "df['critic_score'] = df['critic_score'].replace(np.NaN, -5)\n",
    "df['critic_score'] = df['critic_score'].astype('float')"
   ]
  },
  {
   "cell_type": "markdown",
   "metadata": {},
   "source": [
    "### Столбец user_score"
   ]
  },
  {
   "cell_type": "code",
   "execution_count": 23,
   "metadata": {},
   "outputs": [
    {
     "data": {
      "text/html": [
       "<div>\n",
       "<style scoped>\n",
       "    .dataframe tbody tr th:only-of-type {\n",
       "        vertical-align: middle;\n",
       "    }\n",
       "\n",
       "    .dataframe tbody tr th {\n",
       "        vertical-align: top;\n",
       "    }\n",
       "\n",
       "    .dataframe thead th {\n",
       "        text-align: right;\n",
       "    }\n",
       "</style>\n",
       "<table border=\"1\" class=\"dataframe\">\n",
       "  <thead>\n",
       "    <tr style=\"text-align: right;\">\n",
       "      <th></th>\n",
       "      <th>name</th>\n",
       "      <th>platform</th>\n",
       "      <th>year_of_release</th>\n",
       "      <th>genre</th>\n",
       "      <th>na_sales</th>\n",
       "      <th>eu_sales</th>\n",
       "      <th>jp_sales</th>\n",
       "      <th>other_sales</th>\n",
       "      <th>critic_score</th>\n",
       "      <th>user_score</th>\n",
       "      <th>rating</th>\n",
       "    </tr>\n",
       "  </thead>\n",
       "  <tbody>\n",
       "    <tr>\n",
       "      <th>1</th>\n",
       "      <td>Super Mario Bros.</td>\n",
       "      <td>NES</td>\n",
       "      <td>1985</td>\n",
       "      <td>Platform</td>\n",
       "      <td>29.08</td>\n",
       "      <td>3.58</td>\n",
       "      <td>6.81</td>\n",
       "      <td>0.77</td>\n",
       "      <td>-5.0</td>\n",
       "      <td>NaN</td>\n",
       "      <td>Unknown</td>\n",
       "    </tr>\n",
       "    <tr>\n",
       "      <th>4</th>\n",
       "      <td>Pokemon Red/Pokemon Blue</td>\n",
       "      <td>GB</td>\n",
       "      <td>1996</td>\n",
       "      <td>Role-Playing</td>\n",
       "      <td>11.27</td>\n",
       "      <td>8.89</td>\n",
       "      <td>10.22</td>\n",
       "      <td>1.00</td>\n",
       "      <td>-5.0</td>\n",
       "      <td>NaN</td>\n",
       "      <td>Unknown</td>\n",
       "    </tr>\n",
       "    <tr>\n",
       "      <th>5</th>\n",
       "      <td>Tetris</td>\n",
       "      <td>GB</td>\n",
       "      <td>1989</td>\n",
       "      <td>Puzzle</td>\n",
       "      <td>23.20</td>\n",
       "      <td>2.26</td>\n",
       "      <td>4.22</td>\n",
       "      <td>0.58</td>\n",
       "      <td>-5.0</td>\n",
       "      <td>NaN</td>\n",
       "      <td>Unknown</td>\n",
       "    </tr>\n",
       "    <tr>\n",
       "      <th>9</th>\n",
       "      <td>Duck Hunt</td>\n",
       "      <td>NES</td>\n",
       "      <td>1984</td>\n",
       "      <td>Shooter</td>\n",
       "      <td>26.93</td>\n",
       "      <td>0.63</td>\n",
       "      <td>0.28</td>\n",
       "      <td>0.47</td>\n",
       "      <td>-5.0</td>\n",
       "      <td>NaN</td>\n",
       "      <td>Unknown</td>\n",
       "    </tr>\n",
       "    <tr>\n",
       "      <th>10</th>\n",
       "      <td>Nintendogs</td>\n",
       "      <td>DS</td>\n",
       "      <td>2005</td>\n",
       "      <td>Simulation</td>\n",
       "      <td>9.05</td>\n",
       "      <td>10.95</td>\n",
       "      <td>1.93</td>\n",
       "      <td>2.74</td>\n",
       "      <td>-5.0</td>\n",
       "      <td>NaN</td>\n",
       "      <td>Unknown</td>\n",
       "    </tr>\n",
       "  </tbody>\n",
       "</table>\n",
       "</div>"
      ],
      "text/plain": [
       "                        name platform  year_of_release         genre  \\\n",
       "1          Super Mario Bros.      NES             1985      Platform   \n",
       "4   Pokemon Red/Pokemon Blue       GB             1996  Role-Playing   \n",
       "5                     Tetris       GB             1989        Puzzle   \n",
       "9                  Duck Hunt      NES             1984       Shooter   \n",
       "10                Nintendogs       DS             2005    Simulation   \n",
       "\n",
       "    na_sales  eu_sales  jp_sales  other_sales  critic_score user_score  \\\n",
       "1      29.08      3.58      6.81         0.77          -5.0        NaN   \n",
       "4      11.27      8.89     10.22         1.00          -5.0        NaN   \n",
       "5      23.20      2.26      4.22         0.58          -5.0        NaN   \n",
       "9      26.93      0.63      0.28         0.47          -5.0        NaN   \n",
       "10      9.05     10.95      1.93         2.74          -5.0        NaN   \n",
       "\n",
       "     rating  \n",
       "1   Unknown  \n",
       "4   Unknown  \n",
       "5   Unknown  \n",
       "9   Unknown  \n",
       "10  Unknown  "
      ]
     },
     "execution_count": 23,
     "metadata": {},
     "output_type": "execute_result"
    }
   ],
   "source": [
    "df[df['user_score'].isnull()].head()"
   ]
  },
  {
   "cell_type": "markdown",
   "metadata": {},
   "source": [
    "Помним, что  формат столбца 'object, что очень странно, ведь если бы там были только числа и NaN'ы, то формат был бы 'float."
   ]
  },
  {
   "cell_type": "code",
   "execution_count": 24,
   "metadata": {},
   "outputs": [
    {
     "data": {
      "text/plain": [
       "array(['8', nan, '8.3', '8.5', '6.6', '8.4', '8.6', '7.7', '6.3', '7.4',\n",
       "       '8.2', '9', '7.9', '8.1', '8.7', '7.1', '3.4', '5.3', '4.8', '3.2',\n",
       "       '8.9', '6.4', '7.8', '7.5', '2.6', '7.2', '9.2', '7', '7.3', '4.3',\n",
       "       '7.6', '5.7', '5', '9.1', '6.5', 'tbd', '8.8', '6.9', '9.4', '6.8',\n",
       "       '6.1', '6.7', '5.4', '4', '4.9', '4.5', '9.3', '6.2', '4.2', '6',\n",
       "       '3.7', '4.1', '5.8', '5.6', '5.5', '4.4', '4.6', '5.9', '3.9',\n",
       "       '3.1', '2.9', '5.2', '3.3', '4.7', '5.1', '3.5', '2.5', '1.9', '3',\n",
       "       '2.7', '2.2', '2', '9.5', '2.1', '3.6', '2.8', '1.8', '3.8', '0',\n",
       "       '1.6', '9.6', '2.4', '1.7', '1.1', '0.3', '1.5', '0.7', '1.2',\n",
       "       '2.3', '0.5', '1.3', '0.2', '0.6', '1.4', '0.9', '1', '9.7'],\n",
       "      dtype=object)"
      ]
     },
     "execution_count": 24,
     "metadata": {},
     "output_type": "execute_result"
    }
   ],
   "source": [
    "df['user_score'].unique()"
   ]
  },
  {
   "cell_type": "markdown",
   "metadata": {},
   "source": [
    "Есть значение tbd. Поисковик выдает информацию: Note: TBD = to be determined. Примечание: ПО - Подлежит определению. Используется, если какая-то информация еще не определена или решение по вопросу не принято. 'tbd' фактически является NaN, заменим и NaN, и 'tbd' на значение -5 и приведем значение столбца к числовому:"
   ]
  },
  {
   "cell_type": "code",
   "execution_count": 25,
   "metadata": {},
   "outputs": [],
   "source": [
    "df['user_score'] = df['user_score'].replace('tbd', np.NaN)\n",
    "df['user_score'] = df['user_score'].astype('float')"
   ]
  },
  {
   "cell_type": "code",
   "execution_count": 26,
   "metadata": {},
   "outputs": [],
   "source": [
    "df['user_score'] = df['user_score'].fillna(-5)"
   ]
  },
  {
   "cell_type": "code",
   "execution_count": 27,
   "metadata": {},
   "outputs": [
    {
     "data": {
      "text/plain": [
       "name               0.0\n",
       "platform           0.0\n",
       "year_of_release    0.0\n",
       "genre              0.0\n",
       "na_sales           0.0\n",
       "eu_sales           0.0\n",
       "jp_sales           0.0\n",
       "other_sales        0.0\n",
       "critic_score       0.0\n",
       "user_score         0.0\n",
       "rating             0.0\n",
       "dtype: float64"
      ]
     },
     "execution_count": 27,
     "metadata": {},
     "output_type": "execute_result"
    }
   ],
   "source": [
    "df.isna().mean()"
   ]
  },
  {
   "cell_type": "markdown",
   "metadata": {},
   "source": [
    "Пропусков нет. Найдем общие продажи по регионам."
   ]
  },
  {
   "cell_type": "code",
   "execution_count": 28,
   "metadata": {},
   "outputs": [],
   "source": [
    "df['total_sales'] = df[['na_sales','eu_sales','jp_sales', 'other_sales']].sum(axis = 1)"
   ]
  },
  {
   "cell_type": "code",
   "execution_count": 29,
   "metadata": {},
   "outputs": [
    {
     "name": "stdout",
     "output_type": "stream",
     "text": [
      "<class 'pandas.core.frame.DataFrame'>\n",
      "Int64Index: 16444 entries, 0 to 16714\n",
      "Data columns (total 12 columns):\n",
      " #   Column           Non-Null Count  Dtype  \n",
      "---  ------           --------------  -----  \n",
      " 0   name             16444 non-null  object \n",
      " 1   platform         16444 non-null  object \n",
      " 2   year_of_release  16444 non-null  int64  \n",
      " 3   genre            16444 non-null  object \n",
      " 4   na_sales         16444 non-null  float64\n",
      " 5   eu_sales         16444 non-null  float64\n",
      " 6   jp_sales         16444 non-null  float64\n",
      " 7   other_sales      16444 non-null  float64\n",
      " 8   critic_score     16444 non-null  float64\n",
      " 9   user_score       16444 non-null  float64\n",
      " 10  rating           16444 non-null  object \n",
      " 11  total_sales      16444 non-null  float64\n",
      "dtypes: float64(7), int64(1), object(4)\n",
      "memory usage: 1.6+ MB\n"
     ]
    }
   ],
   "source": [
    "df.info()"
   ]
  },
  {
   "cell_type": "markdown",
   "metadata": {},
   "source": [
    "## Количество выпущенных игр по платформам."
   ]
  },
  {
   "cell_type": "markdown",
   "metadata": {},
   "source": [
    "Посмотрим, сколько игр выпускалось по годам:"
   ]
  },
  {
   "cell_type": "code",
   "execution_count": 30,
   "metadata": {
    "scrolled": true
   },
   "outputs": [
    {
     "data": {
      "image/png": "[encoded data removed]",
      "text/plain": [
       "<Figure size 1440x576 with 1 Axes>"
      ]
     },
     "metadata": {
      "needs_background": "light"
     },
     "output_type": "display_data"
    }
   ],
   "source": [
    "platform_sales = df.pivot_table(index='year_of_release', values='total_sales', aggfunc='count')\n",
    "plt.figure(figsize=(20, 8))\n",
    "(sns. barplot (data = platform_sales, x = platform_sales.index, y = 'total_sales')\n",
    "    .set(title = 'Динамика выпуска игр по годам', xlabel = 'Год', ylabel = 'Количество выпущенных игр'))\n",
    "plt.show()"
   ]
  },
  {
   "cell_type": "markdown",
   "metadata": {},
   "source": [
    "Наращивание объемов выпуска игр началось примерно в 1993 году. Резкий скачок по количеству игр, выпущенных в год, произошел в 2002 году. Пик - 2008-2009 года. После этого начался спад. Скорее всего, интерес к играм упал, из-за выхода на рынок мобильных устройств, дающих возможность играть на мобильной платформе. "
   ]
  },
  {
   "cell_type": "markdown",
   "metadata": {},
   "source": [
    "## Динамика продаж игр по платформам."
   ]
  },
  {
   "cell_type": "markdown",
   "metadata": {},
   "source": [
    "### Общие продажи"
   ]
  },
  {
   "cell_type": "markdown",
   "metadata": {},
   "source": [
    "Посмотрим общие продажи и какие платформы есть у нас в таблице с данными."
   ]
  },
  {
   "cell_type": "code",
   "execution_count": 31,
   "metadata": {},
   "outputs": [
    {
     "data": {
      "image/png": "[encoded data removed]",
      "text/plain": [
       "<Figure size 936x576 with 1 Axes>"
      ]
     },
     "metadata": {
      "needs_background": "light"
     },
     "output_type": "display_data"
    }
   ],
   "source": [
    "platform_sales = (\n",
    "    df\n",
    "    .pivot_table(index='platform', values='total_sales', aggfunc='sum')\n",
    "    .sort_values('total_sales', ascending=False)\n",
    ")\n",
    "plt.figure(figsize=(13, 8))\n",
    "(sns.barplot(data = platform_sales, x = platform_sales.index, y = 'total_sales')\n",
    "    .set(title = 'Продажи по платформам', xlabel = 'Платформы', ylabel = 'Общие продажи'))\n",
    "plt.show()"
   ]
  },
  {
   "cell_type": "markdown",
   "metadata": {},
   "source": [
    "Лидером является платформа PS2, далее идут Xbox360, PS3 и Wii.\n",
    "Самые редкие платформы из Японии."
   ]
  },
  {
   "cell_type": "code",
   "execution_count": 32,
   "metadata": {},
   "outputs": [
    {
     "name": "stdout",
     "output_type": "stream",
     "text": [
      "PS2\n"
     ]
    },
    {
     "data": {
      "image/png": "[encoded data removed]",
      "text/plain": [
       "<Figure size 432x288 with 1 Axes>"
      ]
     },
     "metadata": {
      "needs_background": "light"
     },
     "output_type": "display_data"
    },
    {
     "name": "stdout",
     "output_type": "stream",
     "text": [
      "X360\n"
     ]
    },
    {
     "data": {
      "image/png": "[encoded data removed]",
      "text/plain": [
       "<Figure size 432x288 with 1 Axes>"
      ]
     },
     "metadata": {
      "needs_background": "light"
     },
     "output_type": "display_data"
    },
    {
     "name": "stdout",
     "output_type": "stream",
     "text": [
      "PS3\n"
     ]
    },
    {
     "data": {
      "image/png": "[encoded data removed]",
      "text/plain": [
       "<Figure size 432x288 with 1 Axes>"
      ]
     },
     "metadata": {
      "needs_background": "light"
     },
     "output_type": "display_data"
    },
    {
     "name": "stdout",
     "output_type": "stream",
     "text": [
      "Wii\n"
     ]
    },
    {
     "data": {
      "image/png": "[encoded data removed]",
      "text/plain": [
       "<Figure size 432x288 with 1 Axes>"
      ]
     },
     "metadata": {
      "needs_background": "light"
     },
     "output_type": "display_data"
    },
    {
     "name": "stdout",
     "output_type": "stream",
     "text": [
      "DS\n"
     ]
    },
    {
     "data": {
      "image/png": "[encoded data removed]",
      "text/plain": [
       "<Figure size 432x288 with 1 Axes>"
      ]
     },
     "metadata": {
      "needs_background": "light"
     },
     "output_type": "display_data"
    },
    {
     "name": "stdout",
     "output_type": "stream",
     "text": [
      "PS\n"
     ]
    },
    {
     "data": {
      "image/png": "[encoded data removed]",
      "text/plain": [
       "<Figure size 432x288 with 1 Axes>"
      ]
     },
     "metadata": {
      "needs_background": "light"
     },
     "output_type": "display_data"
    }
   ],
   "source": [
    "for platform in platform_sales.index[:6]:\n",
    "    print(platform)\n",
    "    (df\n",
    "     .query('platform == @platform')\n",
    "     .pivot_table(index='year_of_release', values='total_sales', aggfunc='sum')\n",
    "     .plot(kind='bar')\n",
    "    )\n",
    "    plt.show()"
   ]
  },
  {
   "cell_type": "markdown",
   "metadata": {},
   "source": [
    "Нам необходимо выбрать актуальный период - период, за который мы будем оценивать наши данные, на основании выводов по которым будем строить предсказательные модели на 2017 год.\n",
    "\n",
    "На мой взгляд, актуальным периодом является период с 2014 по 2016 годы:у нас есть полная информация по ТОП-платформам и основные лидеры современного рынка уже или вышли, или вот-вот появяться на рынке. \n",
    "Предыдущие года отбросим.\n",
    "\n",
    "Убираем старые данные."
   ]
  },
  {
   "cell_type": "code",
   "execution_count": 33,
   "metadata": {},
   "outputs": [],
   "source": [
    "df_new = df.query('year_of_release >= 2014').copy()"
   ]
  },
  {
   "cell_type": "markdown",
   "metadata": {},
   "source": [
    "### Динамика продаж игр по платформам 2014 - 2016 гг."
   ]
  },
  {
   "cell_type": "code",
   "execution_count": 34,
   "metadata": {},
   "outputs": [
    {
     "data": {
      "image/png": "[encoded data removed]",
      "text/plain": [
       "<Figure size 936x576 with 1 Axes>"
      ]
     },
     "metadata": {
      "needs_background": "light"
     },
     "output_type": "display_data"
    }
   ],
   "source": [
    "platform_sales_new = (\n",
    "    df_new\n",
    "    .pivot_table(index='platform', values='total_sales', aggfunc='sum')\n",
    "    .sort_values('total_sales', ascending=False)\n",
    ")\n",
    "plt.figure(figsize=(13, 8))\n",
    "(sns.barplot(data = platform_sales_new, x = platform_sales_new.index, y = 'total_sales')\n",
    "    .set(title = 'Продажи по платформам за 2014-2016 гг', xlabel = 'Платформы', ylabel = 'Общие продажи'))\n",
    "plt.show()"
   ]
  },
  {
   "cell_type": "markdown",
   "metadata": {},
   "source": [
    "В ТОР-3 наконец года входят:\n",
    "* PS4;\n",
    "* XOne;\n",
    "* 3DS."
   ]
  },
  {
   "cell_type": "code",
   "execution_count": 35,
   "metadata": {
    "scrolled": false
   },
   "outputs": [
    {
     "name": "stdout",
     "output_type": "stream",
     "text": [
      "PS4\n"
     ]
    },
    {
     "data": {
      "image/png": "[encoded data removed]",
      "text/plain": [
       "<Figure size 432x288 with 1 Axes>"
      ]
     },
     "metadata": {
      "needs_background": "light"
     },
     "output_type": "display_data"
    },
    {
     "name": "stdout",
     "output_type": "stream",
     "text": [
      "XOne\n"
     ]
    },
    {
     "data": {
      "image/png": "[encoded data removed]",
      "text/plain": [
       "<Figure size 432x288 with 1 Axes>"
      ]
     },
     "metadata": {
      "needs_background": "light"
     },
     "output_type": "display_data"
    },
    {
     "name": "stdout",
     "output_type": "stream",
     "text": [
      "3DS\n"
     ]
    },
    {
     "data": {
      "image/png": "[encoded data removed]",
      "text/plain": [
       "<Figure size 432x288 with 1 Axes>"
      ]
     },
     "metadata": {
      "needs_background": "light"
     },
     "output_type": "display_data"
    },
    {
     "name": "stdout",
     "output_type": "stream",
     "text": [
      "PS3\n"
     ]
    },
    {
     "data": {
      "image/png": "[encoded data removed]",
      "text/plain": [
       "<Figure size 432x288 with 1 Axes>"
      ]
     },
     "metadata": {
      "needs_background": "light"
     },
     "output_type": "display_data"
    },
    {
     "name": "stdout",
     "output_type": "stream",
     "text": [
      "X360\n"
     ]
    },
    {
     "data": {
      "image/png": "[encoded data removed]",
      "text/plain": [
       "<Figure size 432x288 with 1 Axes>"
      ]
     },
     "metadata": {
      "needs_background": "light"
     },
     "output_type": "display_data"
    },
    {
     "name": "stdout",
     "output_type": "stream",
     "text": [
      "WiiU\n"
     ]
    },
    {
     "data": {
      "image/png": "[encoded data removed]",
      "text/plain": [
       "<Figure size 432x288 with 1 Axes>"
      ]
     },
     "metadata": {
      "needs_background": "light"
     },
     "output_type": "display_data"
    },
    {
     "name": "stdout",
     "output_type": "stream",
     "text": [
      "PC\n"
     ]
    },
    {
     "data": {
      "image/png": "[encoded data removed]",
      "text/plain": [
       "<Figure size 432x288 with 1 Axes>"
      ]
     },
     "metadata": {
      "needs_background": "light"
     },
     "output_type": "display_data"
    },
    {
     "name": "stdout",
     "output_type": "stream",
     "text": [
      "PSV\n"
     ]
    },
    {
     "data": {
      "image/png": "[encoded data removed]",
      "text/plain": [
       "<Figure size 432x288 with 1 Axes>"
      ]
     },
     "metadata": {
      "needs_background": "light"
     },
     "output_type": "display_data"
    },
    {
     "name": "stdout",
     "output_type": "stream",
     "text": [
      "Wii\n"
     ]
    },
    {
     "data": {
      "image/png": "[encoded data removed]",
      "text/plain": [
       "<Figure size 432x288 with 1 Axes>"
      ]
     },
     "metadata": {
      "needs_background": "light"
     },
     "output_type": "display_data"
    },
    {
     "name": "stdout",
     "output_type": "stream",
     "text": [
      "PSP\n"
     ]
    },
    {
     "data": {
      "image/png": "[encoded data removed]",
      "text/plain": [
       "<Figure size 432x288 with 1 Axes>"
      ]
     },
     "metadata": {
      "needs_background": "light"
     },
     "output_type": "display_data"
    }
   ],
   "source": [
    "for platform in platform_sales_new.index:\n",
    "    print(platform)\n",
    "    (df_new\n",
    "     .query('platform == @platform')\n",
    "     .pivot_table(index='year_of_release', values='total_sales', aggfunc='sum')\n",
    "     .plot(kind='bar')\n",
    "    )\n",
    "    plt.show()"
   ]
  },
  {
   "cell_type": "markdown",
   "metadata": {},
   "source": [
    "Исходя из данных, количество продаж игр, выпущенных на каждую из платформ, постепенно снижается. Таким образом, можно сказать, что весь рынок игр падает.\n",
    "\n",
    "Нужно определить, какие платформы еще добавим к анализу, помимо ТОР-3. \n",
    "    Консоли X360 и PSP сняты с производства с 2016 и 2014 года соответсвенно. PC оставляем, несмотря на небольшие продажи, по сравнению с TOP-3. PS3 это предыдущее поколение PS4, думаю его тоже можно убрать из анализа. Такая же ситуация с платформами Wii и WiiU, поэтому оставляем WiiU. "
   ]
  },
  {
   "cell_type": "code",
   "execution_count": 36,
   "metadata": {},
   "outputs": [
    {
     "data": {
      "text/html": [
       "<div>\n",
       "<style scoped>\n",
       "    .dataframe tbody tr th:only-of-type {\n",
       "        vertical-align: middle;\n",
       "    }\n",
       "\n",
       "    .dataframe tbody tr th {\n",
       "        vertical-align: top;\n",
       "    }\n",
       "\n",
       "    .dataframe thead th {\n",
       "        text-align: right;\n",
       "    }\n",
       "</style>\n",
       "<table border=\"1\" class=\"dataframe\">\n",
       "  <thead>\n",
       "    <tr style=\"text-align: right;\">\n",
       "      <th></th>\n",
       "      <th>name</th>\n",
       "      <th>platform</th>\n",
       "      <th>year_of_release</th>\n",
       "      <th>genre</th>\n",
       "      <th>na_sales</th>\n",
       "      <th>eu_sales</th>\n",
       "      <th>jp_sales</th>\n",
       "      <th>other_sales</th>\n",
       "      <th>critic_score</th>\n",
       "      <th>user_score</th>\n",
       "      <th>rating</th>\n",
       "      <th>total_sales</th>\n",
       "    </tr>\n",
       "  </thead>\n",
       "  <tbody>\n",
       "    <tr>\n",
       "      <th>31</th>\n",
       "      <td>Call of Duty: Black Ops 3</td>\n",
       "      <td>PS4</td>\n",
       "      <td>2015</td>\n",
       "      <td>Shooter</td>\n",
       "      <td>6.03</td>\n",
       "      <td>5.86</td>\n",
       "      <td>0.36</td>\n",
       "      <td>2.38</td>\n",
       "      <td>-5.0</td>\n",
       "      <td>-5.0</td>\n",
       "      <td>Unknown</td>\n",
       "      <td>14.63</td>\n",
       "    </tr>\n",
       "    <tr>\n",
       "      <th>42</th>\n",
       "      <td>Grand Theft Auto V</td>\n",
       "      <td>PS4</td>\n",
       "      <td>2014</td>\n",
       "      <td>Action</td>\n",
       "      <td>3.96</td>\n",
       "      <td>6.31</td>\n",
       "      <td>0.38</td>\n",
       "      <td>1.97</td>\n",
       "      <td>97.0</td>\n",
       "      <td>8.3</td>\n",
       "      <td>M</td>\n",
       "      <td>12.62</td>\n",
       "    </tr>\n",
       "    <tr>\n",
       "      <th>47</th>\n",
       "      <td>Pokemon Omega Ruby/Pokemon Alpha Sapphire</td>\n",
       "      <td>3DS</td>\n",
       "      <td>2014</td>\n",
       "      <td>Role-Playing</td>\n",
       "      <td>4.35</td>\n",
       "      <td>3.49</td>\n",
       "      <td>3.10</td>\n",
       "      <td>0.74</td>\n",
       "      <td>-5.0</td>\n",
       "      <td>-5.0</td>\n",
       "      <td>Unknown</td>\n",
       "      <td>11.68</td>\n",
       "    </tr>\n",
       "    <tr>\n",
       "      <th>77</th>\n",
       "      <td>FIFA 16</td>\n",
       "      <td>PS4</td>\n",
       "      <td>2015</td>\n",
       "      <td>Sports</td>\n",
       "      <td>1.12</td>\n",
       "      <td>6.12</td>\n",
       "      <td>0.06</td>\n",
       "      <td>1.28</td>\n",
       "      <td>82.0</td>\n",
       "      <td>4.3</td>\n",
       "      <td>E</td>\n",
       "      <td>8.58</td>\n",
       "    </tr>\n",
       "    <tr>\n",
       "      <th>87</th>\n",
       "      <td>Star Wars Battlefront (2015)</td>\n",
       "      <td>PS4</td>\n",
       "      <td>2015</td>\n",
       "      <td>Shooter</td>\n",
       "      <td>2.99</td>\n",
       "      <td>3.49</td>\n",
       "      <td>0.22</td>\n",
       "      <td>1.28</td>\n",
       "      <td>-5.0</td>\n",
       "      <td>-5.0</td>\n",
       "      <td>Unknown</td>\n",
       "      <td>7.98</td>\n",
       "    </tr>\n",
       "  </tbody>\n",
       "</table>\n",
       "</div>"
      ],
      "text/plain": [
       "                                         name platform  year_of_release  \\\n",
       "31                  Call of Duty: Black Ops 3      PS4             2015   \n",
       "42                         Grand Theft Auto V      PS4             2014   \n",
       "47  Pokemon Omega Ruby/Pokemon Alpha Sapphire      3DS             2014   \n",
       "77                                    FIFA 16      PS4             2015   \n",
       "87               Star Wars Battlefront (2015)      PS4             2015   \n",
       "\n",
       "           genre  na_sales  eu_sales  jp_sales  other_sales  critic_score  \\\n",
       "31       Shooter      6.03      5.86      0.36         2.38          -5.0   \n",
       "42        Action      3.96      6.31      0.38         1.97          97.0   \n",
       "47  Role-Playing      4.35      3.49      3.10         0.74          -5.0   \n",
       "77        Sports      1.12      6.12      0.06         1.28          82.0   \n",
       "87       Shooter      2.99      3.49      0.22         1.28          -5.0   \n",
       "\n",
       "    user_score   rating  total_sales  \n",
       "31        -5.0  Unknown        14.63  \n",
       "42         8.3        M        12.62  \n",
       "47        -5.0  Unknown        11.68  \n",
       "77         4.3        E         8.58  \n",
       "87        -5.0  Unknown         7.98  "
      ]
     },
     "execution_count": 36,
     "metadata": {},
     "output_type": "execute_result"
    }
   ],
   "source": [
    "df_new = df_new.query('platform in [\"PS4\", \"XOne\", \"3DS\", \"PC\", \"PSV\", \"WiiU\"]')\n",
    "df_new.head()"
   ]
  },
  {
   "cell_type": "markdown",
   "metadata": {},
   "source": [
    "## График «ящик с усами» по глобальным продажам игр в разбивке по платформам."
   ]
  },
  {
   "cell_type": "code",
   "execution_count": 37,
   "metadata": {},
   "outputs": [
    {
     "data": {
      "image/png": "[encoded data removed]",
      "text/plain": [
       "<Figure size 936x576 with 1 Axes>"
      ]
     },
     "metadata": {
      "needs_background": "light"
     },
     "output_type": "display_data"
    }
   ],
   "source": [
    "plt.figure(figsize=(13, 8))\n",
    "(sns.boxplot(data = df_new, y = 'total_sales', x='platform')\n",
    "    .set(title = 'Продажи по перспективным платформам за 2014-2016 гг', xlabel = 'Платформы', ylabel = 'Общие продажи', ylim=(0, 3)))\n",
    "plt.show()"
   ]
  },
  {
   "cell_type": "code",
   "execution_count": 38,
   "metadata": {},
   "outputs": [
    {
     "data": {
      "image/png": "[encoded data removed]",
      "text/plain": [
       "<Figure size 936x576 with 1 Axes>"
      ]
     },
     "metadata": {
      "needs_background": "light"
     },
     "output_type": "display_data"
    }
   ],
   "source": [
    "plt.figure(figsize=(13, 8))\n",
    "(sns.boxplot(data = df_new, y = 'total_sales', x='platform')\n",
    "    .set(title = 'Продажи по перспективным платформам за 2014-2016 гг', xlabel = 'Платформы', ylabel = 'Общие продажи', ylim=(0, 0.85)))\n",
    "\n",
    "plt.show()"
   ]
  },
  {
   "cell_type": "markdown",
   "metadata": {},
   "source": [
    "Верхняя граница предела, за которыми можно считать продажи вбросами, примерно от 1.2 до 1.6 млн. долларов по трем платформам:\n",
    "* PS4\n",
    "* XOne\n",
    "* WiiU\n",
    "\n",
    "3DS и PC верхняя граница примерно на одном уровне - 0.5 - 0.7 млн. долларов. PSV  верхняя граница 0.2 млн. долларов."
   ]
  },
  {
   "cell_type": "markdown",
   "metadata": {},
   "source": [
    "##  Влияние отзывов пользователей и критиков на продажи внутри одной популярной платформы."
   ]
  },
  {
   "cell_type": "markdown",
   "metadata": {},
   "source": [
    "Построим корреляцию для платформы PS4."
   ]
  },
  {
   "cell_type": "code",
   "execution_count": 39,
   "metadata": {},
   "outputs": [
    {
     "data": {
      "image/png": "[encoded data removed]",
      "text/plain": [
       "<Figure size 432x288 with 1 Axes>"
      ]
     },
     "metadata": {
      "needs_background": "light"
     },
     "output_type": "display_data"
    },
    {
     "data": {
      "image/png": "[encoded data removed]",
      "text/plain": [
       "<Figure size 432x288 with 1 Axes>"
      ]
     },
     "metadata": {
      "needs_background": "light"
     },
     "output_type": "display_data"
    },
    {
     "name": "stdout",
     "output_type": "stream",
     "text": [
      "critic_score    0.401903\n",
      "user_score     -0.043186\n",
      "total_sales     1.000000\n",
      "Name: total_sales, dtype: float64\n"
     ]
    }
   ],
   "source": [
    "games_on_platform = df_new.query('platform == \"PS4\"')\n",
    "games_on_platform[games_on_platform['critic_score'] != -5].plot(kind='scatter', x='critic_score', y='total_sales', ec='green')\n",
    "games_on_platform[games_on_platform['user_score'] != -5].plot(kind='scatter', x='user_score', y='total_sales', ec='green')\n",
    "plt.show()\n",
    "print(games_on_platform[(games_on_platform['critic_score'] != -5) \n",
    "                        & (games_on_platform['user_score'] != -5)]\n",
    "                       [['critic_score', 'user_score', 'total_sales']].corr()['total_sales'])"
   ]
  },
  {
   "cell_type": "markdown",
   "metadata": {},
   "source": [
    "С увеличением среднего рейтинга критиков средне растут продажи. А вот оценка пользователей на продажи не влияет. Помотрим на другие платформы."
   ]
  },
  {
   "cell_type": "code",
   "execution_count": 40,
   "metadata": {},
   "outputs": [
    {
     "name": "stdout",
     "output_type": "stream",
     "text": [
      "==============================\n",
      "3DS\n"
     ]
    },
    {
     "data": {
      "image/png": "[encoded data removed]",
      "text/plain": [
       "<Figure size 432x288 with 1 Axes>"
      ]
     },
     "metadata": {
      "needs_background": "light"
     },
     "output_type": "display_data"
    },
    {
     "data": {
      "image/png": "[encoded data removed]",
      "text/plain": [
       "<Figure size 432x288 with 1 Axes>"
      ]
     },
     "metadata": {
      "needs_background": "light"
     },
     "output_type": "display_data"
    },
    {
     "name": "stdout",
     "output_type": "stream",
     "text": [
      "critic_score    0.284686\n",
      "user_score      0.279850\n",
      "total_sales     1.000000\n",
      "Name: total_sales, dtype: float64\n",
      "==============================\n",
      "PC\n"
     ]
    },
    {
     "data": {
      "image/png": "[encoded data removed]",
      "text/plain": [
       "<Figure size 432x288 with 1 Axes>"
      ]
     },
     "metadata": {
      "needs_background": "light"
     },
     "output_type": "display_data"
    },
    {
     "data": {
      "image/png": "[encoded data removed]",
      "text/plain": [
       "<Figure size 432x288 with 1 Axes>"
      ]
     },
     "metadata": {
      "needs_background": "light"
     },
     "output_type": "display_data"
    },
    {
     "name": "stdout",
     "output_type": "stream",
     "text": [
      "critic_score    0.172061\n",
      "user_score     -0.089974\n",
      "total_sales     1.000000\n",
      "Name: total_sales, dtype: float64\n",
      "==============================\n",
      "PS4\n"
     ]
    },
    {
     "data": {
      "image/png": "[encoded data removed]",
      "text/plain": [
       "<Figure size 432x288 with 1 Axes>"
      ]
     },
     "metadata": {
      "needs_background": "light"
     },
     "output_type": "display_data"
    },
    {
     "data": {
      "image/png": "[encoded data removed]",
      "text/plain": [
       "<Figure size 432x288 with 1 Axes>"
      ]
     },
     "metadata": {
      "needs_background": "light"
     },
     "output_type": "display_data"
    },
    {
     "name": "stdout",
     "output_type": "stream",
     "text": [
      "critic_score    0.401903\n",
      "user_score     -0.043186\n",
      "total_sales     1.000000\n",
      "Name: total_sales, dtype: float64\n",
      "==============================\n",
      "PSV\n"
     ]
    },
    {
     "data": {
      "image/png": "[encoded data removed]",
      "text/plain": [
       "<Figure size 432x288 with 1 Axes>"
      ]
     },
     "metadata": {
      "needs_background": "light"
     },
     "output_type": "display_data"
    },
    {
     "data": {
      "image/png": "[encoded data removed]",
      "text/plain": [
       "<Figure size 432x288 with 1 Axes>"
      ]
     },
     "metadata": {
      "needs_background": "light"
     },
     "output_type": "display_data"
    },
    {
     "name": "stdout",
     "output_type": "stream",
     "text": [
      "critic_score    0.041029\n",
      "user_score      0.023528\n",
      "total_sales     1.000000\n",
      "Name: total_sales, dtype: float64\n",
      "==============================\n",
      "WiiU\n"
     ]
    },
    {
     "data": {
      "image/png": "[encoded data removed]",
      "text/plain": [
       "<Figure size 432x288 with 1 Axes>"
      ]
     },
     "metadata": {
      "needs_background": "light"
     },
     "output_type": "display_data"
    },
    {
     "data": {
      "image/png": "[encoded data removed]",
      "text/plain": [
       "<Figure size 432x288 with 1 Axes>"
      ]
     },
     "metadata": {
      "needs_background": "light"
     },
     "output_type": "display_data"
    },
    {
     "name": "stdout",
     "output_type": "stream",
     "text": [
      "critic_score    0.375640\n",
      "user_score      0.411451\n",
      "total_sales     1.000000\n",
      "Name: total_sales, dtype: float64\n",
      "==============================\n",
      "XOne\n"
     ]
    },
    {
     "data": {
      "image/png": "[encoded data removed]",
      "text/plain": [
       "<Figure size 432x288 with 1 Axes>"
      ]
     },
     "metadata": {
      "needs_background": "light"
     },
     "output_type": "display_data"
    },
    {
     "data": {
      "image/png": "[encoded data removed]",
      "text/plain": [
       "<Figure size 432x288 with 1 Axes>"
      ]
     },
     "metadata": {
      "needs_background": "light"
     },
     "output_type": "display_data"
    },
    {
     "name": "stdout",
     "output_type": "stream",
     "text": [
      "critic_score    0.422112\n",
      "user_score     -0.091734\n",
      "total_sales     1.000000\n",
      "Name: total_sales, dtype: float64\n"
     ]
    }
   ],
   "source": [
    "for platform, games_on_platform in df_new.groupby('platform'):\n",
    "    print('='*30)\n",
    "    print(platform)\n",
    "    games_on_platform[games_on_platform['critic_score'] != -5].plot(kind='scatter', x='critic_score', y='total_sales', ec='green')\n",
    "    games_on_platform[games_on_platform['user_score'] != -5].plot(kind='scatter', x='user_score', y='total_sales', ec='green')\n",
    "    plt.show()\n",
    "    print(games_on_platform[(games_on_platform['critic_score'] != -5) \n",
    "                        & (games_on_platform['user_score'] != -5)]\n",
    "                       [['critic_score', 'user_score', 'total_sales']].corr()['total_sales'])"
   ]
  },
  {
   "cell_type": "markdown",
   "metadata": {},
   "source": [
    "По платформам интересные выводы. В большинстве своем оценка критиков слабо влияет на увеличение продаж. Оценки пользователей не влияют на продажи на платформах PC и XOne и имеют слабое влияние на 3DS. Особенно слабое влияние оценок на платформе PSV. Продажи на WiiU коррелируются сильнее, чем по другим платформам."
   ]
  },
  {
   "cell_type": "markdown",
   "metadata": {},
   "source": [
    "## Определение прибыльных жанров"
   ]
  },
  {
   "cell_type": "code",
   "execution_count": 41,
   "metadata": {},
   "outputs": [
    {
     "data": {
      "image/png": "[encoded data removed]",
      "text/plain": [
       "<Figure size 936x576 with 1 Axes>"
      ]
     },
     "metadata": {
      "needs_background": "light"
     },
     "output_type": "display_data"
    }
   ],
   "source": [
    "platform_sales_fresh = (\n",
    "    df_new\n",
    "    .pivot_table(index='genre', values='total_sales', aggfunc='sum')\n",
    "    .sort_values('total_sales', ascending=False)\n",
    ")\n",
    "\n",
    "plt.figure(figsize=(13, 8))\n",
    "(sns.barplot(data = platform_sales_fresh, x = platform_sales_fresh.index, y = 'total_sales')\n",
    "    .set(title = 'Продажи по жанрам за 2014-2016 гг', xlabel = 'Платформы', ylabel = 'Общие продажи'))\n",
    "\n",
    "plt.show()"
   ]
  },
  {
   "cell_type": "markdown",
   "metadata": {},
   "source": [
    "Больше всего продано копий игр жанра Action. За ними идут игры Shooter, RPG и спортивные игры.  Возможно это связано с тем, что в производство этих игр вкладываются больше, чем в те же Puzzle и у них более широкий охват аудитории."
   ]
  },
  {
   "cell_type": "code",
   "execution_count": 42,
   "metadata": {},
   "outputs": [
    {
     "data": {
      "image/png": "[encoded data removed]",
      "text/plain": [
       "<Figure size 936x576 with 1 Axes>"
      ]
     },
     "metadata": {
      "needs_background": "light"
     },
     "output_type": "display_data"
    }
   ],
   "source": [
    "plt.figure(figsize=(13, 8))\n",
    "(sns.boxplot(data = df_new, y = 'total_sales', x='genre')\n",
    "    .set(title = 'Продажи по жанрам за 2014-2016 гг', xlabel = 'Платформы', ylabel = 'Общие продажи', ylim=(0, 1.9)))\n",
    "\n",
    "plt.show()"
   ]
  },
  {
   "cell_type": "code",
   "execution_count": 43,
   "metadata": {},
   "outputs": [
    {
     "data": {
      "image/png": "[encoded data removed]",
      "text/plain": [
       "<Figure size 936x576 with 1 Axes>"
      ]
     },
     "metadata": {
      "needs_background": "light"
     },
     "output_type": "display_data"
    }
   ],
   "source": [
    "plt.figure(figsize=(13, 8))\n",
    "(sns.boxplot(data = df_new, y = 'total_sales', x='genre')\n",
    "    .set(title = 'Продажи по жанрам за 2014-2016 гг', xlabel = 'Платформы', ylabel = 'Общие продажи', ylim=(0, .7)))\n",
    "\n",
    "plt.show()"
   ]
  },
  {
   "cell_type": "markdown",
   "metadata": {},
   "source": [
    "По выручке ТОР лидеров изменится. В ТОР будут направления Shooter, Sports и Platform. Отстающие жанры не изменились."
   ]
  },
  {
   "cell_type": "markdown",
   "metadata": {},
   "source": [
    "## Портрет пользователя регионов NA, EU, JP"
   ]
  },
  {
   "cell_type": "markdown",
   "metadata": {},
   "source": [
    "Определим для пользователя каждого региона (NA, EU, JP):\n",
    "\n",
    "* самые популярные платформы (ТОР-5), опишем различия в долях продаж;\n",
    "* самые популярные жанры (ТОР-5), поясним разницу;\n",
    "* определим, влияет ли рейтинг ESRB на продажи в отдельном регионе."
   ]
  },
  {
   "cell_type": "markdown",
   "metadata": {},
   "source": [
    "Сделаем отбор по регионам"
   ]
  },
  {
   "cell_type": "code",
   "execution_count": 43,
   "metadata": {},
   "outputs": [],
   "source": [
    "countries = df_new.columns[4:7]"
   ]
  },
  {
   "cell_type": "markdown",
   "metadata": {},
   "source": [
    "### Самые популярные платформы (топ-5)"
   ]
  },
  {
   "cell_type": "markdown",
   "metadata": {},
   "source": [
    "Построим круговую диаграмму для каждого региона по ТОР-5 платформ"
   ]
  },
  {
   "cell_type": "code",
   "execution_count": 44,
   "metadata": {},
   "outputs": [
    {
     "data": {
      "image/png": "[encoded data removed]",
      "text/plain": [
       "<Figure size 1080x360 with 3 Axes>"
      ]
     },
     "metadata": {},
     "output_type": "display_data"
    }
   ],
   "source": [
    "fig, axs = plt.subplots(1, 3, figsize=(15, 5))\n",
    "fig.suptitle('ТОП-5 платформ в регионах')\n",
    "for i in range(3):\n",
    "  df_i = (df_new.groupby('platform')[countries[i]].sum().\n",
    "             reset_index().\n",
    "             sort_values(countries[i], ascending = False, ignore_index = True).\n",
    "             head(5))\n",
    "  df_i = df_i.append({'platform': 'Other_platforms', countries[i]: df_new[countries[i]].sum() - df_i[countries[i]].sum()}, ignore_index= True)\n",
    "  axs[i].pie(df_i[countries[i]], labels = df_i['platform'], wedgeprops={'linewidth': 1.0, 'edgecolor': 'white'},\n",
    "       textprops={'size': 'x-large'})\n",
    "  \n",
    "    # Зададим название региона.\n",
    "  axs[i].set_title(df_i.columns[1].split('_')[0].upper())\n",
    "plt.show()"
   ]
  },
  {
   "cell_type": "markdown",
   "metadata": {},
   "source": [
    "ТОП-5 популярных платформ во всех трех регионах охватывает более 95% рынка. Примечательно, что для рынков Северной Америки и ЕВРОПЫ лидеры это PS4 и XOne, а в Японии 3DS, PS4 и PSV. "
   ]
  },
  {
   "cell_type": "markdown",
   "metadata": {},
   "source": [
    "### Самые популярные жанры (топ-5)"
   ]
  },
  {
   "cell_type": "code",
   "execution_count": 45,
   "metadata": {},
   "outputs": [
    {
     "data": {
      "image/png": "[encoded data removed]",
      "text/plain": [
       "<Figure size 1080x360 with 3 Axes>"
      ]
     },
     "metadata": {},
     "output_type": "display_data"
    }
   ],
   "source": [
    "fig, axs = plt.subplots(1, 3, figsize=(15, 5))\n",
    "fig.suptitle('ТОП-5 популярные жанры')\n",
    "for i in range(3):\n",
    "  df_i = (df_new.groupby('genre')[countries[i]].sum().\n",
    "             reset_index().\n",
    "             sort_values(countries[i], ascending = False, ignore_index = True).\n",
    "             head(5))\n",
    "  df_i = df_i.append({'genre': 'Other_genres', countries[i]: df_new[countries[i]].sum() - df_i[countries[i]].sum()}, ignore_index= True)\n",
    "  axs[i].pie(df_i[countries[i]], labels = df_i['genre'], wedgeprops={'linewidth': 1.0, 'edgecolor': 'white'},\n",
    "       textprops={'size': 'x-large'})\n",
    "\n",
    "  # Зададим название региона.\n",
    "  axs[i].set_title(df_i.columns[1].split('_')[0].upper())\n",
    "plt.show()"
   ]
  },
  {
   "cell_type": "markdown",
   "metadata": {},
   "source": [
    "Предпочтения по жанрам в Северной Америке и Европе схожи: и там, и там живут фанаты экшнов, спортивных игр и шутеров. В Северной Америке больше играют в файтинг, в Европе же чаще выбирают гонки.\n",
    "\n",
    "В Японии вкус совершенно иной - на первом месте ролевые игры, причем с большим отрывом. Далее экшны и  \"другие\" игры."
   ]
  },
  {
   "cell_type": "markdown",
   "metadata": {},
   "source": [
    "### Влияние рейтинга ESRB на продажи в отдельном регионе."
   ]
  },
  {
   "cell_type": "markdown",
   "metadata": {},
   "source": [
    "Добавим столбец с разъяснениями, какая буква рейтинга, что означает."
   ]
  },
  {
   "cell_type": "code",
   "execution_count": 46,
   "metadata": {},
   "outputs": [],
   "source": [
    "ESRB_dict = {'E': 'Для всех', 'M': '> 17 лет', 'T': '13-19 лет', 'E10+': '>10 лет'}"
   ]
  },
  {
   "cell_type": "code",
   "execution_count": 47,
   "metadata": {},
   "outputs": [],
   "source": [
    "df_new['ESRB_description'] = df_new[df_new['rating'].notnull()]['rating'].map(ESRB_dict)"
   ]
  },
  {
   "cell_type": "code",
   "execution_count": 48,
   "metadata": {},
   "outputs": [
    {
     "data": {
      "image/png": "[encoded data removed]",
      "text/plain": [
       "<Figure size 1080x360 with 3 Axes>"
      ]
     },
     "metadata": {},
     "output_type": "display_data"
    }
   ],
   "source": [
    "fig, axs = plt.subplots(1, 3, figsize=(15, 5))\n",
    "fig.suptitle('TOP-5 рейтинга ESRB')\n",
    "for i in range(3):\n",
    "  df_i = (df_new.groupby('ESRB_description')[countries[i]].sum().\n",
    "             reset_index().\n",
    "             sort_values(countries[i], ascending = False, ignore_index = True).\n",
    "             head(5))\n",
    "  df_i = df_i.append({'ESRB_description': 'Неизвестен', countries[i]: df_new[countries[i]].sum() - df_i[countries[i]].sum()}, ignore_index= True)\n",
    "  axs[i].pie(df_i[countries[i]], labels = df_i['ESRB_description'], wedgeprops={'linewidth': 1.0, 'edgecolor': 'white'},\n",
    "       textprops={'size': 'x-large'})\n",
    "\n",
    "  # Зададим название региона.\n",
    "  axs[i].set_title(df_i.columns[1].split('_')[0].upper())\n",
    "plt.show()"
   ]
  },
  {
   "cell_type": "markdown",
   "metadata": {},
   "source": [
    "В Северной Америке и в Европе картина практически одинаковая. Большая часть выручки получено с игр с рейтингом \"для лиц старше 17 лет\" и  \"Для всех\". На третьем месте игры без рейтинга. \n",
    "\n",
    "В Японии опять не так. На втором - игры для лиц от 13 до 19 лет, а на первом месте игры без рейтинга. Скорее всего, в Японии существует своя система цензурного проставления рейтинга. "
   ]
  },
  {
   "cell_type": "markdown",
   "metadata": {},
   "source": [
    "В Северной Америке и Европе среднестатистические игроки похожи, они старше 17 лет, предпочитает играть на PS4 и XOne в экшнили шутер.\n",
    "В Японии среднестатистический игрок 13-19 лет, играет на 3DS, PS4 и PSV в ролевые игры или экшн. "
   ]
  },
  {
   "cell_type": "markdown",
   "metadata": {},
   "source": [
    "## Проверка гипотез"
   ]
  },
  {
   "cell_type": "markdown",
   "metadata": {},
   "source": [
    "### Средние пользовательские рейтинги платформ Xbox One и PC одинаковые"
   ]
  },
  {
   "cell_type": "markdown",
   "metadata": {},
   "source": [
    "**H0**: Средние пользовательские рейтинги платформ Xbox One и PC одинаковые.\n",
    "\n",
    "**H1**: Средние пользовательские рейтинги платформ Xbox One и PC различаются."
   ]
  },
  {
   "cell_type": "markdown",
   "metadata": {},
   "source": [
    "Удаляем значения-заглушки"
   ]
  },
  {
   "cell_type": "code",
   "execution_count": 49,
   "metadata": {},
   "outputs": [
    {
     "name": "stdout",
     "output_type": "stream",
     "text": [
      "Средний пользовательский рейтинг платформ Xbox One 3.49\n",
      "Средний пользовательский рейтинг платформ PC 4.52\n",
      "\n",
      "p-значение: 0.005783758782219333\n",
      "Отвергаем нулевую гипотезу\n"
     ]
    }
   ],
   "source": [
    "df[df['user_score'] != -5]\n",
    "\n",
    "print('Средний пользовательский рейтинг платформ Xbox One', round(df.query('platform == \"XOne\"')['user_score'].mean(),2))\n",
    "print('Средний пользовательский рейтинг платформ PC', round(df.query('platform == \"PC\"')['user_score'].mean(),2))\n",
    "print()\n",
    "\n",
    "results = st.ttest_ind(\n",
    "    df.query('platform == \"XOne\"')['user_score'], \n",
    "    df.query('platform == \"PC\"')['user_score'], \n",
    "    equal_var=False)\n",
    "\n",
    "alpha = 0.05\n",
    "print('p-значение:', results.pvalue)\n",
    "\n",
    "if results.pvalue < alpha:\n",
    "    print(\"Отвергаем нулевую гипотезу\")\n",
    "else:\n",
    "    print(\"Не получилось отвергнуть нулевую гипотезу\")"
   ]
  },
  {
   "cell_type": "markdown",
   "metadata": {},
   "source": [
    "Смело отклоняем нулевую гипотезу.\n",
    "Верно утверждение: средние пользовательские рейтинги платформ Xbox One и PC отличаются между собой.\n",
    "Компьютерные игры получают оценки статистически значимо выше, чем игры для Xbox One. "
   ]
  },
  {
   "cell_type": "markdown",
   "metadata": {},
   "source": [
    "### Средние пользовательские рейтинги жанров Action и Sports разные"
   ]
  },
  {
   "cell_type": "markdown",
   "metadata": {},
   "source": [
    "**H0**: Средние пользовательские рейтинги жанров Action и Sports одинаковые.\n",
    "\n",
    "**H1**: Средние пользовательские рейтинги жанров Action и Sports различаются."
   ]
  },
  {
   "cell_type": "code",
   "execution_count": 50,
   "metadata": {},
   "outputs": [
    {
     "name": "stdout",
     "output_type": "stream",
     "text": [
      "Средний пользовательский рейтинг жанра Action  1.55\n",
      "Средний пользовательский рейтинг жанра Sports 0.6\n",
      "\n",
      "p-значение: 1.0302783744803537e-08\n",
      "Отвергаем нулевую гипотезу\n"
     ]
    }
   ],
   "source": [
    "print('Средний пользовательский рейтинг жанра Action ', round(df.query('genre == \"Action\"')['user_score'].mean(),2))\n",
    "print('Средний пользовательский рейтинг жанра Sports', round(df.query('genre == \"Sports\"')['user_score'].mean(),2))\n",
    "print()\n",
    "\n",
    "results = st.ttest_ind(\n",
    "    df.query('genre == \"Action\"')['user_score'], \n",
    "    df.query('genre == \"Sports\"')['user_score'], \n",
    "    equal_var=False)\n",
    "\n",
    "alpha = 0.05\n",
    "print('p-значение:', results.pvalue)\n",
    "\n",
    "if results.pvalue < alpha:\n",
    "    print(\"Отвергаем нулевую гипотезу\")\n",
    "else:\n",
    "    print(\"Не получилось отвергнуть нулевую гипотезу\")"
   ]
  },
  {
   "cell_type": "markdown",
   "metadata": {},
   "source": [
    "Нулевая гипотеза не потвердилась. Верно утверждение: Средние пользовательские рейтинги жанров Action и Sports различаются. Причем, пользовательский рейтинг игр Action выше, чем у Sports. Скорее всего это связано с тем, что в Action играет больше пользователей. "
   ]
  },
  {
   "cell_type": "markdown",
   "metadata": {},
   "source": [
    "## Итоговый вывод"
   ]
  },
  {
   "cell_type": "markdown",
   "metadata": {},
   "source": [
    "Наша задача была выявить закономерности, определяющие успешность игр, для того, чтобы сделать ставку на потенциально популярный продукт и спланировать рекламные кампании для интернет-магазина.\n",
    "\n",
    "Исходя из данных, количество продаж игр, выпущенных на каждую из платформ, постепенно снижается. Таким образом, можно сказать, что весь рынок игр падает. На продажи игр влияет средний рейтинг критиков и почти не влияет оценка пользователей. В ТОР-3 наконец года для Российского рынка входят платформы PS4, XOne и PC. Можно сделать ставку на рекламу кросс-платформенных игр жанра Shoote, Action и Sport с высокими оценками критиков. "
   ]
  }
 ],
 "metadata": {
  "ExecuteTimeLog": [
   {
    "duration": 1285,
    "start_time": "2022-04-19T07:47:16.464Z"
   },
   {
    "duration": 37,
    "start_time": "2022-04-19T07:47:17.750Z"
   },
   {
    "duration": 11,
    "start_time": "2022-04-19T07:47:17.789Z"
   },
   {
    "duration": 12,
    "start_time": "2022-04-19T07:47:17.801Z"
   },
   {
    "duration": 6,
    "start_time": "2022-04-19T07:47:17.815Z"
   },
   {
    "duration": 5,
    "start_time": "2022-04-19T07:47:17.822Z"
   },
   {
    "duration": 114,
    "start_time": "2022-04-19T07:47:17.828Z"
   },
   {
    "duration": 1,
    "start_time": "2022-04-19T07:47:17.949Z"
   },
   {
    "duration": 0,
    "start_time": "2022-04-19T07:47:17.951Z"
   },
   {
    "duration": 0,
    "start_time": "2022-04-19T07:47:17.952Z"
   },
   {
    "duration": 0,
    "start_time": "2022-04-19T07:47:17.954Z"
   },
   {
    "duration": 0,
    "start_time": "2022-04-19T07:47:17.955Z"
   },
   {
    "duration": 0,
    "start_time": "2022-04-19T07:47:17.957Z"
   },
   {
    "duration": 0,
    "start_time": "2022-04-19T07:47:17.958Z"
   },
   {
    "duration": 0,
    "start_time": "2022-04-19T07:47:17.960Z"
   },
   {
    "duration": 0,
    "start_time": "2022-04-19T07:47:17.961Z"
   },
   {
    "duration": 0,
    "start_time": "2022-04-19T07:47:17.963Z"
   },
   {
    "duration": 0,
    "start_time": "2022-04-19T07:47:17.964Z"
   },
   {
    "duration": 0,
    "start_time": "2022-04-19T07:47:17.965Z"
   },
   {
    "duration": 0,
    "start_time": "2022-04-19T07:47:17.966Z"
   },
   {
    "duration": 3,
    "start_time": "2022-04-19T07:47:32.829Z"
   },
   {
    "duration": 42,
    "start_time": "2022-04-19T07:47:33.332Z"
   },
   {
    "duration": 13,
    "start_time": "2022-04-19T07:47:34.108Z"
   },
   {
    "duration": 1078,
    "start_time": "2022-04-19T07:47:39.891Z"
   },
   {
    "duration": 35,
    "start_time": "2022-04-19T07:47:40.971Z"
   },
   {
    "duration": 14,
    "start_time": "2022-04-19T07:47:41.008Z"
   },
   {
    "duration": 27,
    "start_time": "2022-04-19T07:47:41.024Z"
   },
   {
    "duration": 14,
    "start_time": "2022-04-19T07:47:41.053Z"
   },
   {
    "duration": 7,
    "start_time": "2022-04-19T07:47:41.069Z"
   },
   {
    "duration": 17,
    "start_time": "2022-04-19T07:47:41.077Z"
   },
   {
    "duration": 3,
    "start_time": "2022-04-19T07:47:41.095Z"
   },
   {
    "duration": 20,
    "start_time": "2022-04-19T07:47:41.099Z"
   },
   {
    "duration": 30,
    "start_time": "2022-04-19T07:47:41.122Z"
   },
   {
    "duration": 33,
    "start_time": "2022-04-19T07:47:41.154Z"
   },
   {
    "duration": 10,
    "start_time": "2022-04-19T07:47:41.189Z"
   },
   {
    "duration": 19,
    "start_time": "2022-04-19T07:47:41.200Z"
   },
   {
    "duration": 7,
    "start_time": "2022-04-19T07:47:41.220Z"
   },
   {
    "duration": 23,
    "start_time": "2022-04-19T07:47:41.228Z"
   },
   {
    "duration": 15,
    "start_time": "2022-04-19T07:47:41.255Z"
   },
   {
    "duration": 16,
    "start_time": "2022-04-19T07:47:41.272Z"
   },
   {
    "duration": 4,
    "start_time": "2022-04-19T07:47:41.289Z"
   },
   {
    "duration": 17,
    "start_time": "2022-04-19T07:47:41.295Z"
   },
   {
    "duration": 8,
    "start_time": "2022-04-19T07:47:41.313Z"
   },
   {
    "duration": 10,
    "start_time": "2022-04-19T08:12:58.646Z"
   },
   {
    "duration": 5,
    "start_time": "2022-04-19T08:13:19.238Z"
   },
   {
    "duration": 3,
    "start_time": "2022-04-19T08:15:25.993Z"
   },
   {
    "duration": 9,
    "start_time": "2022-04-19T08:15:51.178Z"
   },
   {
    "duration": 5,
    "start_time": "2022-04-19T08:17:44.028Z"
   },
   {
    "duration": 20,
    "start_time": "2022-04-19T08:17:55.116Z"
   },
   {
    "duration": 185,
    "start_time": "2022-04-19T08:18:43.997Z"
   },
   {
    "duration": 1617,
    "start_time": "2022-04-19T08:20:46.326Z"
   },
   {
    "duration": 299,
    "start_time": "2022-04-19T08:20:47.947Z"
   },
   {
    "duration": 17,
    "start_time": "2022-04-19T08:20:48.248Z"
   },
   {
    "duration": 19,
    "start_time": "2022-04-19T08:20:48.268Z"
   },
   {
    "duration": 9,
    "start_time": "2022-04-19T08:20:48.288Z"
   },
   {
    "duration": 5,
    "start_time": "2022-04-19T08:20:48.299Z"
   },
   {
    "duration": 42,
    "start_time": "2022-04-19T08:20:48.306Z"
   },
   {
    "duration": 4,
    "start_time": "2022-04-19T08:20:48.350Z"
   },
   {
    "duration": 22,
    "start_time": "2022-04-19T08:20:48.356Z"
   },
   {
    "duration": 10,
    "start_time": "2022-04-19T08:20:48.380Z"
   },
   {
    "duration": 19,
    "start_time": "2022-04-19T08:20:48.391Z"
   },
   {
    "duration": 7,
    "start_time": "2022-04-19T08:20:48.412Z"
   },
   {
    "duration": 40,
    "start_time": "2022-04-19T08:20:48.420Z"
   },
   {
    "duration": 12,
    "start_time": "2022-04-19T08:20:48.462Z"
   },
   {
    "duration": 12,
    "start_time": "2022-04-19T08:20:48.476Z"
   },
   {
    "duration": 10,
    "start_time": "2022-04-19T08:20:48.490Z"
   },
   {
    "duration": 18,
    "start_time": "2022-04-19T08:20:48.501Z"
   },
   {
    "duration": 5,
    "start_time": "2022-04-19T08:20:48.549Z"
   },
   {
    "duration": 23,
    "start_time": "2022-04-19T08:20:48.556Z"
   },
   {
    "duration": 5,
    "start_time": "2022-04-19T08:20:48.580Z"
   },
   {
    "duration": 8,
    "start_time": "2022-04-19T08:20:48.586Z"
   },
   {
    "duration": 3,
    "start_time": "2022-04-19T08:20:48.595Z"
   },
   {
    "duration": 10,
    "start_time": "2022-04-19T08:20:48.600Z"
   },
   {
    "duration": 5,
    "start_time": "2022-04-19T08:20:48.611Z"
   },
   {
    "duration": 46,
    "start_time": "2022-04-19T08:20:48.618Z"
   },
   {
    "duration": 201,
    "start_time": "2022-04-19T08:20:48.666Z"
   },
   {
    "duration": 303,
    "start_time": "2022-04-19T08:23:32.408Z"
   },
   {
    "duration": 1091,
    "start_time": "2022-04-19T08:24:06.433Z"
   },
   {
    "duration": 163,
    "start_time": "2022-04-19T08:38:47.084Z"
   },
   {
    "duration": 167,
    "start_time": "2022-04-19T08:39:41.182Z"
   },
   {
    "duration": 261,
    "start_time": "2022-04-19T08:40:22.511Z"
   },
   {
    "duration": 171,
    "start_time": "2022-04-19T08:40:34.544Z"
   },
   {
    "duration": 165,
    "start_time": "2022-04-19T08:40:58.849Z"
   },
   {
    "duration": 22,
    "start_time": "2022-04-19T08:42:43.179Z"
   },
   {
    "duration": 159,
    "start_time": "2022-04-19T08:43:12.324Z"
   },
   {
    "duration": 17,
    "start_time": "2022-04-19T08:52:11.651Z"
   },
   {
    "duration": 160,
    "start_time": "2022-04-19T08:52:27.522Z"
   },
   {
    "duration": 346,
    "start_time": "2022-04-19T08:53:10.778Z"
   },
   {
    "duration": 6,
    "start_time": "2022-04-19T08:57:40.790Z"
   },
   {
    "duration": 166,
    "start_time": "2022-04-19T09:00:36.175Z"
   },
   {
    "duration": 1911,
    "start_time": "2022-04-19T09:01:05.399Z"
   },
   {
    "duration": 57,
    "start_time": "2022-04-19T09:01:40.799Z"
   },
   {
    "duration": 51,
    "start_time": "2022-04-19T09:02:06.041Z"
   },
   {
    "duration": 1571,
    "start_time": "2022-04-20T16:39:19.552Z"
   },
   {
    "duration": 61,
    "start_time": "2022-04-20T16:39:21.126Z"
   },
   {
    "duration": 18,
    "start_time": "2022-04-20T16:39:21.188Z"
   },
   {
    "duration": 33,
    "start_time": "2022-04-20T16:39:21.208Z"
   },
   {
    "duration": 13,
    "start_time": "2022-04-20T16:39:21.244Z"
   },
   {
    "duration": 4,
    "start_time": "2022-04-20T16:39:21.259Z"
   },
   {
    "duration": 39,
    "start_time": "2022-04-20T16:39:21.265Z"
   },
   {
    "duration": 4,
    "start_time": "2022-04-20T16:39:21.306Z"
   },
   {
    "duration": 44,
    "start_time": "2022-04-20T16:39:21.312Z"
   },
   {
    "duration": 10,
    "start_time": "2022-04-20T16:39:21.358Z"
   },
   {
    "duration": 24,
    "start_time": "2022-04-20T16:39:21.370Z"
   },
   {
    "duration": 10,
    "start_time": "2022-04-20T16:39:21.396Z"
   },
   {
    "duration": 55,
    "start_time": "2022-04-20T16:39:21.408Z"
   },
   {
    "duration": 12,
    "start_time": "2022-04-20T16:39:21.468Z"
   },
   {
    "duration": 11,
    "start_time": "2022-04-20T16:39:21.482Z"
   },
   {
    "duration": 9,
    "start_time": "2022-04-20T16:39:21.495Z"
   },
   {
    "duration": 50,
    "start_time": "2022-04-20T16:39:21.505Z"
   },
   {
    "duration": 5,
    "start_time": "2022-04-20T16:39:21.558Z"
   },
   {
    "duration": 23,
    "start_time": "2022-04-20T16:39:21.565Z"
   },
   {
    "duration": 7,
    "start_time": "2022-04-20T16:39:21.590Z"
   },
   {
    "duration": 48,
    "start_time": "2022-04-20T16:39:21.599Z"
   },
   {
    "duration": 11,
    "start_time": "2022-04-20T16:39:21.650Z"
   },
   {
    "duration": 14,
    "start_time": "2022-04-20T16:39:21.663Z"
   },
   {
    "duration": 9,
    "start_time": "2022-04-20T16:39:21.679Z"
   },
   {
    "duration": 22,
    "start_time": "2022-04-20T16:39:21.690Z"
   },
   {
    "duration": 266,
    "start_time": "2022-04-20T16:39:21.742Z"
   },
   {
    "duration": 474,
    "start_time": "2022-04-20T16:39:22.010Z"
   },
   {
    "duration": 158,
    "start_time": "2022-04-20T16:39:22.485Z"
   },
   {
    "duration": 0,
    "start_time": "2022-04-20T16:39:22.646Z"
   },
   {
    "duration": 0,
    "start_time": "2022-04-20T16:39:22.647Z"
   },
   {
    "duration": 0,
    "start_time": "2022-04-20T16:39:22.649Z"
   },
   {
    "duration": 0,
    "start_time": "2022-04-20T16:39:22.651Z"
   },
   {
    "duration": 496,
    "start_time": "2022-04-20T16:40:31.418Z"
   },
   {
    "duration": 11,
    "start_time": "2022-04-20T16:40:34.665Z"
   },
   {
    "duration": 408,
    "start_time": "2022-04-20T16:40:43.347Z"
   },
   {
    "duration": 1389,
    "start_time": "2022-04-20T16:40:59.635Z"
   },
   {
    "duration": 9,
    "start_time": "2022-04-20T16:41:03.930Z"
   },
   {
    "duration": 247,
    "start_time": "2022-04-20T16:41:07.002Z"
   },
   {
    "duration": 2064,
    "start_time": "2022-04-20T16:41:10.522Z"
   },
   {
    "duration": 95,
    "start_time": "2022-04-20T16:41:13.698Z"
   },
   {
    "duration": 431,
    "start_time": "2022-04-20T16:41:36.859Z"
   },
   {
    "duration": 477,
    "start_time": "2022-04-20T16:41:46.379Z"
   },
   {
    "duration": 447,
    "start_time": "2022-04-20T16:41:59.771Z"
   },
   {
    "duration": 558,
    "start_time": "2022-04-20T16:42:05.046Z"
   },
   {
    "duration": 481,
    "start_time": "2022-04-20T16:42:11.580Z"
   },
   {
    "duration": 452,
    "start_time": "2022-04-20T16:42:22.397Z"
   },
   {
    "duration": 349,
    "start_time": "2022-04-20T16:44:51.383Z"
   },
   {
    "duration": 1258,
    "start_time": "2022-04-20T16:44:58.432Z"
   },
   {
    "duration": 265,
    "start_time": "2022-04-20T16:47:35.827Z"
   },
   {
    "duration": 7,
    "start_time": "2022-04-20T16:49:39.277Z"
   },
   {
    "duration": 1904,
    "start_time": "2022-04-20T16:51:54.578Z"
   },
   {
    "duration": 78,
    "start_time": "2022-04-20T17:14:55.824Z"
   },
   {
    "duration": 48,
    "start_time": "2022-04-20T17:15:24.193Z"
   },
   {
    "duration": 8,
    "start_time": "2022-04-20T17:16:03.300Z"
   },
   {
    "duration": 21,
    "start_time": "2022-04-20T17:17:00.443Z"
   },
   {
    "duration": 1281,
    "start_time": "2022-04-20T17:17:27.002Z"
   },
   {
    "duration": 44,
    "start_time": "2022-04-20T17:17:28.285Z"
   },
   {
    "duration": 16,
    "start_time": "2022-04-20T17:17:28.331Z"
   },
   {
    "duration": 21,
    "start_time": "2022-04-20T17:17:28.349Z"
   },
   {
    "duration": 10,
    "start_time": "2022-04-20T17:17:28.372Z"
   },
   {
    "duration": 5,
    "start_time": "2022-04-20T17:17:28.383Z"
   },
   {
    "duration": 46,
    "start_time": "2022-04-20T17:17:28.389Z"
   },
   {
    "duration": 4,
    "start_time": "2022-04-20T17:17:28.437Z"
   },
   {
    "duration": 22,
    "start_time": "2022-04-20T17:17:28.442Z"
   },
   {
    "duration": 20,
    "start_time": "2022-04-20T17:17:28.467Z"
   },
   {
    "duration": 22,
    "start_time": "2022-04-20T17:17:28.489Z"
   },
   {
    "duration": 25,
    "start_time": "2022-04-20T17:17:28.513Z"
   },
   {
    "duration": 23,
    "start_time": "2022-04-20T17:17:28.540Z"
   },
   {
    "duration": 9,
    "start_time": "2022-04-20T17:17:28.564Z"
   },
   {
    "duration": 14,
    "start_time": "2022-04-20T17:17:28.574Z"
   },
   {
    "duration": 9,
    "start_time": "2022-04-20T17:17:28.590Z"
   },
   {
    "duration": 45,
    "start_time": "2022-04-20T17:17:28.601Z"
   },
   {
    "duration": 4,
    "start_time": "2022-04-20T17:17:28.648Z"
   },
   {
    "duration": 19,
    "start_time": "2022-04-20T17:17:28.654Z"
   },
   {
    "duration": 6,
    "start_time": "2022-04-20T17:17:28.674Z"
   },
   {
    "duration": 11,
    "start_time": "2022-04-20T17:17:28.682Z"
   },
   {
    "duration": 7,
    "start_time": "2022-04-20T17:17:28.695Z"
   },
   {
    "duration": 40,
    "start_time": "2022-04-20T17:17:28.703Z"
   },
   {
    "duration": 6,
    "start_time": "2022-04-20T17:17:28.745Z"
   },
   {
    "duration": 17,
    "start_time": "2022-04-20T17:17:28.752Z"
   },
   {
    "duration": 462,
    "start_time": "2022-04-20T17:17:28.771Z"
   },
   {
    "duration": 357,
    "start_time": "2022-04-20T17:17:29.235Z"
   },
   {
    "duration": 1220,
    "start_time": "2022-04-20T17:17:29.596Z"
   },
   {
    "duration": 14,
    "start_time": "2022-04-20T17:17:30.819Z"
   },
   {
    "duration": 227,
    "start_time": "2022-04-20T17:17:30.835Z"
   },
   {
    "duration": 1902,
    "start_time": "2022-04-20T17:17:31.064Z"
   },
   {
    "duration": 12,
    "start_time": "2022-04-20T17:17:32.968Z"
   },
   {
    "duration": 138,
    "start_time": "2022-04-20T17:17:32.982Z"
   },
   {
    "duration": 14,
    "start_time": "2022-04-20T17:18:14.301Z"
   },
   {
    "duration": 4,
    "start_time": "2022-04-20T17:19:21.078Z"
   },
   {
    "duration": 14,
    "start_time": "2022-04-20T17:20:07.087Z"
   },
   {
    "duration": 12,
    "start_time": "2022-04-20T17:20:27.032Z"
   },
   {
    "duration": 12,
    "start_time": "2022-04-20T17:24:19.781Z"
   },
   {
    "duration": 12,
    "start_time": "2022-04-20T17:24:26.078Z"
   },
   {
    "duration": 1191,
    "start_time": "2022-04-20T17:24:31.677Z"
   },
   {
    "duration": 48,
    "start_time": "2022-04-20T17:24:32.870Z"
   },
   {
    "duration": 17,
    "start_time": "2022-04-20T17:24:32.920Z"
   },
   {
    "duration": 20,
    "start_time": "2022-04-20T17:24:32.939Z"
   },
   {
    "duration": 12,
    "start_time": "2022-04-20T17:24:32.960Z"
   },
   {
    "duration": 9,
    "start_time": "2022-04-20T17:24:32.973Z"
   },
   {
    "duration": 21,
    "start_time": "2022-04-20T17:24:32.983Z"
   },
   {
    "duration": 29,
    "start_time": "2022-04-20T17:24:33.005Z"
   },
   {
    "duration": 19,
    "start_time": "2022-04-20T17:24:33.037Z"
   },
   {
    "duration": 12,
    "start_time": "2022-04-20T17:24:33.059Z"
   },
   {
    "duration": 27,
    "start_time": "2022-04-20T17:24:33.073Z"
   },
   {
    "duration": 37,
    "start_time": "2022-04-20T17:24:33.102Z"
   },
   {
    "duration": 26,
    "start_time": "2022-04-20T17:24:33.141Z"
   },
   {
    "duration": 9,
    "start_time": "2022-04-20T17:24:33.169Z"
   },
   {
    "duration": 12,
    "start_time": "2022-04-20T17:24:33.180Z"
   },
   {
    "duration": 10,
    "start_time": "2022-04-20T17:24:33.194Z"
   },
   {
    "duration": 40,
    "start_time": "2022-04-20T17:24:33.206Z"
   },
   {
    "duration": 7,
    "start_time": "2022-04-20T17:24:33.248Z"
   },
   {
    "duration": 18,
    "start_time": "2022-04-20T17:24:33.257Z"
   },
   {
    "duration": 5,
    "start_time": "2022-04-20T17:24:33.278Z"
   },
   {
    "duration": 9,
    "start_time": "2022-04-20T17:24:33.285Z"
   },
   {
    "duration": 38,
    "start_time": "2022-04-20T17:24:33.296Z"
   },
   {
    "duration": 15,
    "start_time": "2022-04-20T17:24:33.336Z"
   },
   {
    "duration": 6,
    "start_time": "2022-04-20T17:24:33.353Z"
   },
   {
    "duration": 14,
    "start_time": "2022-04-20T17:24:33.361Z"
   },
   {
    "duration": 465,
    "start_time": "2022-04-20T17:24:33.377Z"
   },
   {
    "duration": 367,
    "start_time": "2022-04-20T17:24:33.844Z"
   },
   {
    "duration": 1250,
    "start_time": "2022-04-20T17:24:34.214Z"
   },
   {
    "duration": 7,
    "start_time": "2022-04-20T17:24:35.465Z"
   },
   {
    "duration": 223,
    "start_time": "2022-04-20T17:24:35.474Z"
   },
   {
    "duration": 1856,
    "start_time": "2022-04-20T17:24:35.699Z"
   },
   {
    "duration": 19,
    "start_time": "2022-04-20T17:24:37.556Z"
   },
   {
    "duration": 235,
    "start_time": "2022-04-20T17:24:37.577Z"
   },
   {
    "duration": 225,
    "start_time": "2022-04-20T17:25:38.919Z"
   },
   {
    "duration": 335,
    "start_time": "2022-04-20T17:37:35.712Z"
   },
   {
    "duration": 314,
    "start_time": "2022-04-20T17:38:28.329Z"
   },
   {
    "duration": 312,
    "start_time": "2022-04-20T17:38:54.649Z"
   },
   {
    "duration": 324,
    "start_time": "2022-04-20T17:39:04.050Z"
   },
   {
    "duration": 2092,
    "start_time": "2022-04-20T17:44:38.874Z"
   },
   {
    "duration": 1339,
    "start_time": "2022-04-21T06:25:46.688Z"
   },
   {
    "duration": 55,
    "start_time": "2022-04-21T06:25:48.029Z"
   },
   {
    "duration": 15,
    "start_time": "2022-04-21T06:25:48.086Z"
   },
   {
    "duration": 16,
    "start_time": "2022-04-21T06:25:48.103Z"
   },
   {
    "duration": 10,
    "start_time": "2022-04-21T06:25:48.120Z"
   },
   {
    "duration": 4,
    "start_time": "2022-04-21T06:25:48.131Z"
   },
   {
    "duration": 19,
    "start_time": "2022-04-21T06:25:48.137Z"
   },
   {
    "duration": 3,
    "start_time": "2022-04-21T06:25:48.158Z"
   },
   {
    "duration": 14,
    "start_time": "2022-04-21T06:25:48.163Z"
   },
   {
    "duration": 8,
    "start_time": "2022-04-21T06:25:48.179Z"
   },
   {
    "duration": 43,
    "start_time": "2022-04-21T06:25:48.188Z"
   },
   {
    "duration": 7,
    "start_time": "2022-04-21T06:25:48.233Z"
   },
   {
    "duration": 17,
    "start_time": "2022-04-21T06:25:48.242Z"
   },
   {
    "duration": 17,
    "start_time": "2022-04-21T06:25:48.261Z"
   },
   {
    "duration": 10,
    "start_time": "2022-04-21T06:25:48.280Z"
   },
   {
    "duration": 32,
    "start_time": "2022-04-21T06:25:48.291Z"
   },
   {
    "duration": 13,
    "start_time": "2022-04-21T06:25:48.325Z"
   },
   {
    "duration": 4,
    "start_time": "2022-04-21T06:25:48.339Z"
   },
   {
    "duration": 16,
    "start_time": "2022-04-21T06:25:48.345Z"
   },
   {
    "duration": 5,
    "start_time": "2022-04-21T06:25:48.362Z"
   },
   {
    "duration": 9,
    "start_time": "2022-04-21T06:25:48.369Z"
   },
   {
    "duration": 4,
    "start_time": "2022-04-21T06:25:48.379Z"
   },
   {
    "duration": 43,
    "start_time": "2022-04-21T06:25:48.384Z"
   },
   {
    "duration": 6,
    "start_time": "2022-04-21T06:25:48.428Z"
   },
   {
    "duration": 11,
    "start_time": "2022-04-21T06:25:48.435Z"
   },
   {
    "duration": 424,
    "start_time": "2022-04-21T06:25:48.448Z"
   },
   {
    "duration": 292,
    "start_time": "2022-04-21T06:25:48.873Z"
   },
   {
    "duration": 1024,
    "start_time": "2022-04-21T06:25:49.168Z"
   },
   {
    "duration": 6,
    "start_time": "2022-04-21T06:25:50.193Z"
   },
   {
    "duration": 184,
    "start_time": "2022-04-21T06:25:50.201Z"
   },
   {
    "duration": 1504,
    "start_time": "2022-04-21T06:25:50.387Z"
   },
   {
    "duration": 16,
    "start_time": "2022-04-21T06:25:51.892Z"
   },
   {
    "duration": 195,
    "start_time": "2022-04-21T06:25:51.910Z"
   },
   {
    "duration": 269,
    "start_time": "2022-04-21T06:25:52.106Z"
   },
   {
    "duration": 1464,
    "start_time": "2022-04-21T06:25:52.377Z"
   },
   {
    "duration": 209,
    "start_time": "2022-04-21T06:36:01.687Z"
   },
   {
    "duration": 287,
    "start_time": "2022-04-21T06:36:08.304Z"
   },
   {
    "duration": 246,
    "start_time": "2022-04-21T06:36:33.969Z"
   },
   {
    "duration": 284,
    "start_time": "2022-04-21T06:49:43.540Z"
   },
   {
    "duration": 3,
    "start_time": "2022-04-21T06:54:13.144Z"
   },
   {
    "duration": 348,
    "start_time": "2022-04-21T06:54:14.736Z"
   },
   {
    "duration": 235,
    "start_time": "2022-04-21T06:54:36.641Z"
   },
   {
    "duration": 98,
    "start_time": "2022-04-21T17:40:36.717Z"
   },
   {
    "duration": 1847,
    "start_time": "2022-04-21T17:40:46.538Z"
   },
   {
    "duration": 58,
    "start_time": "2022-04-21T17:40:48.388Z"
   },
   {
    "duration": 23,
    "start_time": "2022-04-21T17:40:48.448Z"
   },
   {
    "duration": 60,
    "start_time": "2022-04-21T17:40:48.474Z"
   },
   {
    "duration": 16,
    "start_time": "2022-04-21T17:40:48.537Z"
   },
   {
    "duration": 20,
    "start_time": "2022-04-21T17:40:48.556Z"
   },
   {
    "duration": 54,
    "start_time": "2022-04-21T17:40:48.579Z"
   },
   {
    "duration": 5,
    "start_time": "2022-04-21T17:40:48.636Z"
   },
   {
    "duration": 26,
    "start_time": "2022-04-21T17:40:48.643Z"
   },
   {
    "duration": 21,
    "start_time": "2022-04-21T17:40:48.673Z"
   },
   {
    "duration": 50,
    "start_time": "2022-04-21T17:40:48.697Z"
   },
   {
    "duration": 12,
    "start_time": "2022-04-21T17:40:48.750Z"
   },
   {
    "duration": 30,
    "start_time": "2022-04-21T17:40:48.764Z"
   },
   {
    "duration": 34,
    "start_time": "2022-04-21T17:40:48.797Z"
   },
   {
    "duration": 20,
    "start_time": "2022-04-21T17:40:48.834Z"
   },
   {
    "duration": 9,
    "start_time": "2022-04-21T17:40:48.857Z"
   },
   {
    "duration": 26,
    "start_time": "2022-04-21T17:40:48.868Z"
   },
   {
    "duration": 34,
    "start_time": "2022-04-21T17:40:48.896Z"
   },
   {
    "duration": 33,
    "start_time": "2022-04-21T17:40:48.935Z"
   },
   {
    "duration": 7,
    "start_time": "2022-04-21T17:40:48.970Z"
   },
   {
    "duration": 14,
    "start_time": "2022-04-21T17:40:48.980Z"
   },
   {
    "duration": 30,
    "start_time": "2022-04-21T17:40:48.997Z"
   },
   {
    "duration": 37,
    "start_time": "2022-04-21T17:40:49.030Z"
   },
   {
    "duration": 8,
    "start_time": "2022-04-21T17:40:49.069Z"
   },
   {
    "duration": 21,
    "start_time": "2022-04-21T17:40:49.080Z"
   },
   {
    "duration": 698,
    "start_time": "2022-04-21T17:40:49.104Z"
   },
   {
    "duration": 569,
    "start_time": "2022-04-21T17:40:49.806Z"
   },
   {
    "duration": 1771,
    "start_time": "2022-04-21T17:40:50.380Z"
   },
   {
    "duration": 8,
    "start_time": "2022-04-21T17:40:52.154Z"
   },
   {
    "duration": 347,
    "start_time": "2022-04-21T17:40:52.164Z"
   },
   {
    "duration": 2726,
    "start_time": "2022-04-21T17:40:52.513Z"
   },
   {
    "duration": 27,
    "start_time": "2022-04-21T17:40:55.241Z"
   },
   {
    "duration": 373,
    "start_time": "2022-04-21T17:40:55.270Z"
   },
   {
    "duration": 478,
    "start_time": "2022-04-21T17:40:55.646Z"
   },
   {
    "duration": 2738,
    "start_time": "2022-04-21T17:40:56.128Z"
   },
   {
    "duration": 389,
    "start_time": "2022-04-21T17:40:58.869Z"
   },
   {
    "duration": 579,
    "start_time": "2022-04-21T17:40:59.260Z"
   },
   {
    "duration": 3,
    "start_time": "2022-04-21T17:40:59.841Z"
   },
   {
    "duration": 442,
    "start_time": "2022-04-21T17:40:59.846Z"
   },
   {
    "duration": 423,
    "start_time": "2022-04-21T17:41:08.912Z"
   },
   {
    "duration": 400,
    "start_time": "2022-04-21T17:41:35.440Z"
   },
   {
    "duration": 408,
    "start_time": "2022-04-21T17:41:54.576Z"
   },
   {
    "duration": 571,
    "start_time": "2022-04-21T17:43:15.041Z"
   },
   {
    "duration": 123,
    "start_time": "2022-04-21T17:43:31.171Z"
   },
   {
    "duration": 530,
    "start_time": "2022-04-21T17:43:47.869Z"
   },
   {
    "duration": 402,
    "start_time": "2022-04-21T17:44:08.164Z"
   },
   {
    "duration": 402,
    "start_time": "2022-04-21T17:44:14.880Z"
   },
   {
    "duration": 427,
    "start_time": "2022-04-21T17:44:20.140Z"
   },
   {
    "duration": 457,
    "start_time": "2022-04-21T17:44:26.292Z"
   },
   {
    "duration": 461,
    "start_time": "2022-04-21T17:44:32.734Z"
   },
   {
    "duration": 571,
    "start_time": "2022-04-21T17:51:06.622Z"
   },
   {
    "duration": 412,
    "start_time": "2022-04-21T17:54:20.238Z"
   },
   {
    "duration": 401,
    "start_time": "2022-04-21T17:57:45.856Z"
   },
   {
    "duration": 240,
    "start_time": "2022-04-21T17:58:05.479Z"
   },
   {
    "duration": 434,
    "start_time": "2022-04-21T17:58:44.361Z"
   },
   {
    "duration": 446,
    "start_time": "2022-04-21T17:58:53.438Z"
   },
   {
    "duration": 525,
    "start_time": "2022-04-21T17:59:01.016Z"
   },
   {
    "duration": 424,
    "start_time": "2022-04-21T17:59:13.872Z"
   },
   {
    "duration": 500,
    "start_time": "2022-04-21T18:00:18.786Z"
   },
   {
    "duration": 517,
    "start_time": "2022-04-21T18:00:30.307Z"
   },
   {
    "duration": 423,
    "start_time": "2022-04-21T18:03:38.174Z"
   },
   {
    "duration": 439,
    "start_time": "2022-04-21T18:04:14.921Z"
   },
   {
    "duration": 8,
    "start_time": "2022-04-21T18:04:28.737Z"
   },
   {
    "duration": 552,
    "start_time": "2022-04-21T18:04:32.904Z"
   },
   {
    "duration": 433,
    "start_time": "2022-04-21T18:05:01.705Z"
   },
   {
    "duration": 148,
    "start_time": "2022-04-21T18:05:15.081Z"
   },
   {
    "duration": 431,
    "start_time": "2022-04-21T18:05:26.985Z"
   },
   {
    "duration": 425,
    "start_time": "2022-04-21T18:06:17.562Z"
   },
   {
    "duration": 473,
    "start_time": "2022-04-21T18:06:45.181Z"
   },
   {
    "duration": 4,
    "start_time": "2022-04-21T18:08:36.373Z"
   },
   {
    "duration": 8,
    "start_time": "2022-04-21T18:08:37.293Z"
   },
   {
    "duration": 464,
    "start_time": "2022-04-21T18:09:06.382Z"
   },
   {
    "duration": 3,
    "start_time": "2022-04-21T18:12:53.612Z"
   },
   {
    "duration": 9,
    "start_time": "2022-04-21T18:12:54.363Z"
   },
   {
    "duration": 560,
    "start_time": "2022-04-21T18:12:56.307Z"
   },
   {
    "duration": 4,
    "start_time": "2022-04-21T18:16:36.593Z"
   },
   {
    "duration": 12,
    "start_time": "2022-04-21T18:16:37.120Z"
   },
   {
    "duration": 497,
    "start_time": "2022-04-21T18:16:37.801Z"
   },
   {
    "duration": 441,
    "start_time": "2022-04-21T18:17:28.154Z"
   },
   {
    "duration": 4,
    "start_time": "2022-04-21T18:17:32.738Z"
   },
   {
    "duration": 7,
    "start_time": "2022-04-21T18:17:33.282Z"
   },
   {
    "duration": 444,
    "start_time": "2022-04-21T18:17:34.058Z"
   },
   {
    "duration": 674,
    "start_time": "2022-04-21T18:17:50.164Z"
   },
   {
    "duration": 1533,
    "start_time": "2022-04-21T18:17:57.138Z"
   },
   {
    "duration": 56,
    "start_time": "2022-04-21T18:17:58.673Z"
   },
   {
    "duration": 23,
    "start_time": "2022-04-21T18:17:58.731Z"
   },
   {
    "duration": 25,
    "start_time": "2022-04-21T18:17:58.757Z"
   },
   {
    "duration": 48,
    "start_time": "2022-04-21T18:17:58.785Z"
   },
   {
    "duration": 6,
    "start_time": "2022-04-21T18:17:58.835Z"
   },
   {
    "duration": 27,
    "start_time": "2022-04-21T18:17:58.843Z"
   },
   {
    "duration": 4,
    "start_time": "2022-04-21T18:17:58.872Z"
   },
   {
    "duration": 21,
    "start_time": "2022-04-21T18:17:58.878Z"
   },
   {
    "duration": 33,
    "start_time": "2022-04-21T18:17:58.901Z"
   },
   {
    "duration": 35,
    "start_time": "2022-04-21T18:17:58.939Z"
   },
   {
    "duration": 13,
    "start_time": "2022-04-21T18:17:58.976Z"
   },
   {
    "duration": 62,
    "start_time": "2022-04-21T18:17:58.992Z"
   },
   {
    "duration": 11,
    "start_time": "2022-04-21T18:17:59.059Z"
   },
   {
    "duration": 13,
    "start_time": "2022-04-21T18:17:59.072Z"
   },
   {
    "duration": 40,
    "start_time": "2022-04-21T18:17:59.087Z"
   },
   {
    "duration": 31,
    "start_time": "2022-04-21T18:17:59.132Z"
   },
   {
    "duration": 7,
    "start_time": "2022-04-21T18:17:59.166Z"
   },
   {
    "duration": 51,
    "start_time": "2022-04-21T18:17:59.175Z"
   },
   {
    "duration": 8,
    "start_time": "2022-04-21T18:17:59.229Z"
   },
   {
    "duration": 14,
    "start_time": "2022-04-21T18:17:59.240Z"
   },
   {
    "duration": 6,
    "start_time": "2022-04-21T18:17:59.256Z"
   },
   {
    "duration": 14,
    "start_time": "2022-04-21T18:17:59.264Z"
   },
   {
    "duration": 7,
    "start_time": "2022-04-21T18:17:59.281Z"
   },
   {
    "duration": 66,
    "start_time": "2022-04-21T18:17:59.290Z"
   },
   {
    "duration": 716,
    "start_time": "2022-04-21T18:17:59.358Z"
   },
   {
    "duration": 563,
    "start_time": "2022-04-21T18:18:00.076Z"
   },
   {
    "duration": 1774,
    "start_time": "2022-04-21T18:18:00.642Z"
   },
   {
    "duration": 9,
    "start_time": "2022-04-21T18:18:02.426Z"
   },
   {
    "duration": 350,
    "start_time": "2022-04-21T18:18:02.439Z"
   },
   {
    "duration": 2697,
    "start_time": "2022-04-21T18:18:02.791Z"
   },
   {
    "duration": 47,
    "start_time": "2022-04-21T18:18:05.490Z"
   },
   {
    "duration": 365,
    "start_time": "2022-04-21T18:18:05.539Z"
   },
   {
    "duration": 473,
    "start_time": "2022-04-21T18:18:05.907Z"
   },
   {
    "duration": 2764,
    "start_time": "2022-04-21T18:18:06.382Z"
   },
   {
    "duration": 386,
    "start_time": "2022-04-21T18:18:09.149Z"
   },
   {
    "duration": 618,
    "start_time": "2022-04-21T18:18:09.541Z"
   },
   {
    "duration": 3,
    "start_time": "2022-04-21T18:18:10.162Z"
   },
   {
    "duration": 540,
    "start_time": "2022-04-21T18:18:10.167Z"
   },
   {
    "duration": 526,
    "start_time": "2022-04-21T18:18:10.709Z"
   },
   {
    "duration": 5,
    "start_time": "2022-04-21T18:18:11.240Z"
   },
   {
    "duration": 12,
    "start_time": "2022-04-21T18:18:11.247Z"
   },
   {
    "duration": 600,
    "start_time": "2022-04-21T18:18:11.262Z"
   },
   {
    "duration": 4,
    "start_time": "2022-04-21T18:18:38.938Z"
   },
   {
    "duration": 10,
    "start_time": "2022-04-21T18:18:39.428Z"
   },
   {
    "duration": 463,
    "start_time": "2022-04-21T18:18:40.316Z"
   },
   {
    "duration": 120,
    "start_time": "2022-04-21T18:21:06.967Z"
   },
   {
    "duration": 221,
    "start_time": "2022-04-21T18:26:28.599Z"
   },
   {
    "duration": 22,
    "start_time": "2022-04-21T18:26:56.752Z"
   },
   {
    "duration": 89,
    "start_time": "2022-04-21T18:29:05.986Z"
   },
   {
    "duration": 92,
    "start_time": "2022-04-21T18:29:28.346Z"
   },
   {
    "duration": 97,
    "start_time": "2022-04-21T18:29:50.962Z"
   },
   {
    "duration": 1579,
    "start_time": "2022-04-21T18:29:59.994Z"
   },
   {
    "duration": 56,
    "start_time": "2022-04-21T18:30:01.575Z"
   },
   {
    "duration": 21,
    "start_time": "2022-04-21T18:30:01.634Z"
   },
   {
    "duration": 34,
    "start_time": "2022-04-21T18:30:01.659Z"
   },
   {
    "duration": 29,
    "start_time": "2022-04-21T18:30:01.695Z"
   },
   {
    "duration": 6,
    "start_time": "2022-04-21T18:30:01.729Z"
   },
   {
    "duration": 33,
    "start_time": "2022-04-21T18:30:01.741Z"
   },
   {
    "duration": 13,
    "start_time": "2022-04-21T18:30:01.776Z"
   },
   {
    "duration": 46,
    "start_time": "2022-04-21T18:30:01.791Z"
   },
   {
    "duration": 52,
    "start_time": "2022-04-21T18:30:01.841Z"
   },
   {
    "duration": 45,
    "start_time": "2022-04-21T18:30:01.895Z"
   },
   {
    "duration": 29,
    "start_time": "2022-04-21T18:30:01.942Z"
   },
   {
    "duration": 41,
    "start_time": "2022-04-21T18:30:01.973Z"
   },
   {
    "duration": 22,
    "start_time": "2022-04-21T18:30:02.017Z"
   },
   {
    "duration": 24,
    "start_time": "2022-04-21T18:30:02.042Z"
   },
   {
    "duration": 21,
    "start_time": "2022-04-21T18:30:02.068Z"
   },
   {
    "duration": 30,
    "start_time": "2022-04-21T18:30:02.092Z"
   },
   {
    "duration": 11,
    "start_time": "2022-04-21T18:30:02.124Z"
   },
   {
    "duration": 31,
    "start_time": "2022-04-21T18:30:02.137Z"
   },
   {
    "duration": 7,
    "start_time": "2022-04-21T18:30:02.170Z"
   },
   {
    "duration": 19,
    "start_time": "2022-04-21T18:30:02.179Z"
   },
   {
    "duration": 27,
    "start_time": "2022-04-21T18:30:02.200Z"
   },
   {
    "duration": 18,
    "start_time": "2022-04-21T18:30:02.229Z"
   },
   {
    "duration": 16,
    "start_time": "2022-04-21T18:30:02.249Z"
   },
   {
    "duration": 36,
    "start_time": "2022-04-21T18:30:02.267Z"
   },
   {
    "duration": 695,
    "start_time": "2022-04-21T18:30:02.305Z"
   },
   {
    "duration": 552,
    "start_time": "2022-04-21T18:30:03.002Z"
   },
   {
    "duration": 1807,
    "start_time": "2022-04-21T18:30:03.559Z"
   },
   {
    "duration": 9,
    "start_time": "2022-04-21T18:30:05.368Z"
   },
   {
    "duration": 401,
    "start_time": "2022-04-21T18:30:05.379Z"
   },
   {
    "duration": 2691,
    "start_time": "2022-04-21T18:30:05.782Z"
   },
   {
    "duration": 27,
    "start_time": "2022-04-21T18:30:08.476Z"
   },
   {
    "duration": 363,
    "start_time": "2022-04-21T18:30:08.505Z"
   },
   {
    "duration": 466,
    "start_time": "2022-04-21T18:30:08.871Z"
   },
   {
    "duration": 2635,
    "start_time": "2022-04-21T18:30:09.341Z"
   },
   {
    "duration": 388,
    "start_time": "2022-04-21T18:30:11.978Z"
   },
   {
    "duration": 689,
    "start_time": "2022-04-21T18:30:12.369Z"
   },
   {
    "duration": 4,
    "start_time": "2022-04-21T18:30:13.060Z"
   },
   {
    "duration": 524,
    "start_time": "2022-04-21T18:30:13.067Z"
   },
   {
    "duration": 511,
    "start_time": "2022-04-21T18:30:13.593Z"
   },
   {
    "duration": 4,
    "start_time": "2022-04-21T18:30:14.106Z"
   },
   {
    "duration": 30,
    "start_time": "2022-04-21T18:30:14.112Z"
   },
   {
    "duration": 463,
    "start_time": "2022-04-21T18:30:14.144Z"
   },
   {
    "duration": 105,
    "start_time": "2022-04-21T18:30:14.609Z"
   },
   {
    "duration": 88,
    "start_time": "2022-04-21T18:30:46.338Z"
   },
   {
    "duration": 2413,
    "start_time": "2022-04-21T18:30:58.652Z"
   },
   {
    "duration": 48,
    "start_time": "2022-04-21T18:31:01.068Z"
   },
   {
    "duration": 29,
    "start_time": "2022-04-21T18:31:01.119Z"
   },
   {
    "duration": 25,
    "start_time": "2022-04-21T18:31:01.151Z"
   },
   {
    "duration": 16,
    "start_time": "2022-04-21T18:31:01.178Z"
   },
   {
    "duration": 8,
    "start_time": "2022-04-21T18:31:01.231Z"
   },
   {
    "duration": 32,
    "start_time": "2022-04-21T18:31:01.241Z"
   },
   {
    "duration": 8,
    "start_time": "2022-04-21T18:31:01.276Z"
   },
   {
    "duration": 27,
    "start_time": "2022-04-21T18:31:01.287Z"
   },
   {
    "duration": 26,
    "start_time": "2022-04-21T18:31:01.327Z"
   },
   {
    "duration": 41,
    "start_time": "2022-04-21T18:31:01.355Z"
   },
   {
    "duration": 13,
    "start_time": "2022-04-21T18:31:01.399Z"
   },
   {
    "duration": 46,
    "start_time": "2022-04-21T18:31:01.414Z"
   },
   {
    "duration": 13,
    "start_time": "2022-04-21T18:31:01.463Z"
   },
   {
    "duration": 23,
    "start_time": "2022-04-21T18:31:01.478Z"
   },
   {
    "duration": 43,
    "start_time": "2022-04-21T18:31:01.503Z"
   },
   {
    "duration": 33,
    "start_time": "2022-04-21T18:31:01.548Z"
   },
   {
    "duration": 14,
    "start_time": "2022-04-21T18:31:01.583Z"
   },
   {
    "duration": 39,
    "start_time": "2022-04-21T18:31:01.599Z"
   },
   {
    "duration": 19,
    "start_time": "2022-04-21T18:31:01.640Z"
   },
   {
    "duration": 34,
    "start_time": "2022-04-21T18:31:01.662Z"
   },
   {
    "duration": 23,
    "start_time": "2022-04-21T18:31:01.699Z"
   },
   {
    "duration": 30,
    "start_time": "2022-04-21T18:31:01.725Z"
   },
   {
    "duration": 17,
    "start_time": "2022-04-21T18:31:01.757Z"
   },
   {
    "duration": 20,
    "start_time": "2022-04-21T18:31:01.776Z"
   },
   {
    "duration": 697,
    "start_time": "2022-04-21T18:31:01.798Z"
   },
   {
    "duration": 571,
    "start_time": "2022-04-21T18:31:02.498Z"
   },
   {
    "duration": 1807,
    "start_time": "2022-04-21T18:31:03.075Z"
   },
   {
    "duration": 8,
    "start_time": "2022-04-21T18:31:04.885Z"
   },
   {
    "duration": 363,
    "start_time": "2022-04-21T18:31:04.895Z"
   },
   {
    "duration": 2718,
    "start_time": "2022-04-21T18:31:05.260Z"
   },
   {
    "duration": 26,
    "start_time": "2022-04-21T18:31:07.980Z"
   },
   {
    "duration": 358,
    "start_time": "2022-04-21T18:31:08.027Z"
   },
   {
    "duration": 476,
    "start_time": "2022-04-21T18:31:08.388Z"
   },
   {
    "duration": 2790,
    "start_time": "2022-04-21T18:31:08.866Z"
   },
   {
    "duration": 403,
    "start_time": "2022-04-21T18:31:11.659Z"
   },
   {
    "duration": 597,
    "start_time": "2022-04-21T18:31:12.065Z"
   },
   {
    "duration": 3,
    "start_time": "2022-04-21T18:31:12.665Z"
   },
   {
    "duration": 537,
    "start_time": "2022-04-21T18:31:12.671Z"
   },
   {
    "duration": 531,
    "start_time": "2022-04-21T18:31:13.210Z"
   },
   {
    "duration": 4,
    "start_time": "2022-04-21T18:31:13.744Z"
   },
   {
    "duration": 12,
    "start_time": "2022-04-21T18:31:13.750Z"
   },
   {
    "duration": 591,
    "start_time": "2022-04-21T18:31:13.764Z"
   },
   {
    "duration": 98,
    "start_time": "2022-04-21T18:31:14.358Z"
   },
   {
    "duration": 1757,
    "start_time": "2022-04-22T05:15:13.463Z"
   },
   {
    "duration": 64,
    "start_time": "2022-04-22T05:15:15.223Z"
   },
   {
    "duration": 22,
    "start_time": "2022-04-22T05:15:15.288Z"
   },
   {
    "duration": 25,
    "start_time": "2022-04-22T05:15:15.313Z"
   },
   {
    "duration": 13,
    "start_time": "2022-04-22T05:15:15.340Z"
   },
   {
    "duration": 6,
    "start_time": "2022-04-22T05:15:15.355Z"
   },
   {
    "duration": 22,
    "start_time": "2022-04-22T05:15:15.394Z"
   },
   {
    "duration": 5,
    "start_time": "2022-04-22T05:15:15.418Z"
   },
   {
    "duration": 22,
    "start_time": "2022-04-22T05:15:15.426Z"
   },
   {
    "duration": 47,
    "start_time": "2022-04-22T05:15:15.453Z"
   },
   {
    "duration": 29,
    "start_time": "2022-04-22T05:15:15.503Z"
   },
   {
    "duration": 12,
    "start_time": "2022-04-22T05:15:15.534Z"
   },
   {
    "duration": 56,
    "start_time": "2022-04-22T05:15:15.549Z"
   },
   {
    "duration": 11,
    "start_time": "2022-04-22T05:15:15.607Z"
   },
   {
    "duration": 17,
    "start_time": "2022-04-22T05:15:15.620Z"
   },
   {
    "duration": 16,
    "start_time": "2022-04-22T05:15:15.639Z"
   },
   {
    "duration": 44,
    "start_time": "2022-04-22T05:15:15.657Z"
   },
   {
    "duration": 6,
    "start_time": "2022-04-22T05:15:15.703Z"
   },
   {
    "duration": 27,
    "start_time": "2022-04-22T05:15:15.711Z"
   },
   {
    "duration": 7,
    "start_time": "2022-04-22T05:15:15.740Z"
   },
   {
    "duration": 10,
    "start_time": "2022-04-22T05:15:15.750Z"
   },
   {
    "duration": 4,
    "start_time": "2022-04-22T05:15:15.794Z"
   },
   {
    "duration": 17,
    "start_time": "2022-04-22T05:15:15.800Z"
   },
   {
    "duration": 7,
    "start_time": "2022-04-22T05:15:15.819Z"
   },
   {
    "duration": 18,
    "start_time": "2022-04-22T05:15:15.828Z"
   },
   {
    "duration": 675,
    "start_time": "2022-04-22T05:15:15.849Z"
   },
   {
    "duration": 507,
    "start_time": "2022-04-22T05:15:16.526Z"
   },
   {
    "duration": 1806,
    "start_time": "2022-04-22T05:15:17.038Z"
   },
   {
    "duration": 8,
    "start_time": "2022-04-22T05:15:18.847Z"
   },
   {
    "duration": 321,
    "start_time": "2022-04-22T05:15:18.857Z"
   },
   {
    "duration": 2456,
    "start_time": "2022-04-22T05:15:19.180Z"
   },
   {
    "duration": 25,
    "start_time": "2022-04-22T05:15:21.638Z"
   },
   {
    "duration": 341,
    "start_time": "2022-04-22T05:15:21.666Z"
   },
   {
    "duration": 423,
    "start_time": "2022-04-22T05:15:22.009Z"
   },
   {
    "duration": 2439,
    "start_time": "2022-04-22T05:15:22.435Z"
   },
   {
    "duration": 371,
    "start_time": "2022-04-22T05:15:24.877Z"
   },
   {
    "duration": 524,
    "start_time": "2022-04-22T05:15:25.251Z"
   },
   {
    "duration": 15,
    "start_time": "2022-04-22T05:15:25.778Z"
   },
   {
    "duration": 482,
    "start_time": "2022-04-22T05:15:25.795Z"
   },
   {
    "duration": 473,
    "start_time": "2022-04-22T05:15:26.279Z"
   },
   {
    "duration": 5,
    "start_time": "2022-04-22T05:15:26.755Z"
   },
   {
    "duration": 10,
    "start_time": "2022-04-22T05:15:26.763Z"
   },
   {
    "duration": 524,
    "start_time": "2022-04-22T05:15:26.793Z"
   },
   {
    "duration": 110,
    "start_time": "2022-04-22T05:15:27.320Z"
   },
   {
    "duration": 149,
    "start_time": "2022-04-22T05:17:31.438Z"
   },
   {
    "duration": 28,
    "start_time": "2022-04-22T05:19:44.745Z"
   },
   {
    "duration": 5273,
    "start_time": "2022-04-22T05:20:16.489Z"
   },
   {
    "duration": 32,
    "start_time": "2022-04-22T05:21:09.003Z"
   },
   {
    "duration": 27,
    "start_time": "2022-04-22T05:21:38.150Z"
   },
   {
    "duration": 27,
    "start_time": "2022-04-22T05:22:46.068Z"
   },
   {
    "duration": 25,
    "start_time": "2022-04-22T05:28:37.751Z"
   },
   {
    "duration": 27,
    "start_time": "2022-04-22T05:28:54.333Z"
   },
   {
    "duration": 28,
    "start_time": "2022-04-22T05:29:09.781Z"
   },
   {
    "duration": 1451,
    "start_time": "2022-04-22T05:29:15.261Z"
   },
   {
    "duration": 63,
    "start_time": "2022-04-22T05:29:16.714Z"
   },
   {
    "duration": 20,
    "start_time": "2022-04-22T05:29:16.779Z"
   },
   {
    "duration": 30,
    "start_time": "2022-04-22T05:29:16.802Z"
   },
   {
    "duration": 15,
    "start_time": "2022-04-22T05:29:16.835Z"
   },
   {
    "duration": 12,
    "start_time": "2022-04-22T05:29:16.852Z"
   },
   {
    "duration": 44,
    "start_time": "2022-04-22T05:29:16.866Z"
   },
   {
    "duration": 4,
    "start_time": "2022-04-22T05:29:16.912Z"
   },
   {
    "duration": 28,
    "start_time": "2022-04-22T05:29:16.918Z"
   },
   {
    "duration": 15,
    "start_time": "2022-04-22T05:29:16.950Z"
   },
   {
    "duration": 46,
    "start_time": "2022-04-22T05:29:16.967Z"
   },
   {
    "duration": 10,
    "start_time": "2022-04-22T05:29:17.015Z"
   },
   {
    "duration": 34,
    "start_time": "2022-04-22T05:29:17.027Z"
   },
   {
    "duration": 31,
    "start_time": "2022-04-22T05:29:17.064Z"
   },
   {
    "duration": 17,
    "start_time": "2022-04-22T05:29:17.097Z"
   },
   {
    "duration": 19,
    "start_time": "2022-04-22T05:29:17.116Z"
   },
   {
    "duration": 26,
    "start_time": "2022-04-22T05:29:17.137Z"
   },
   {
    "duration": 6,
    "start_time": "2022-04-22T05:29:17.165Z"
   },
   {
    "duration": 42,
    "start_time": "2022-04-22T05:29:17.173Z"
   },
   {
    "duration": 7,
    "start_time": "2022-04-22T05:29:17.217Z"
   },
   {
    "duration": 13,
    "start_time": "2022-04-22T05:29:17.226Z"
   },
   {
    "duration": 12,
    "start_time": "2022-04-22T05:29:17.241Z"
   },
   {
    "duration": 30,
    "start_time": "2022-04-22T05:29:17.255Z"
   },
   {
    "duration": 9,
    "start_time": "2022-04-22T05:29:17.293Z"
   },
   {
    "duration": 19,
    "start_time": "2022-04-22T05:29:17.304Z"
   },
   {
    "duration": 661,
    "start_time": "2022-04-22T05:29:17.325Z"
   },
   {
    "duration": 532,
    "start_time": "2022-04-22T05:29:17.988Z"
   },
   {
    "duration": 1622,
    "start_time": "2022-04-22T05:29:18.524Z"
   },
   {
    "duration": 8,
    "start_time": "2022-04-22T05:29:20.148Z"
   },
   {
    "duration": 319,
    "start_time": "2022-04-22T05:29:20.158Z"
   },
   {
    "duration": 2538,
    "start_time": "2022-04-22T05:29:20.479Z"
   },
   {
    "duration": 25,
    "start_time": "2022-04-22T05:29:23.020Z"
   },
   {
    "duration": 333,
    "start_time": "2022-04-22T05:29:23.047Z"
   },
   {
    "duration": 432,
    "start_time": "2022-04-22T05:29:23.382Z"
   },
   {
    "duration": 2446,
    "start_time": "2022-04-22T05:29:23.816Z"
   },
   {
    "duration": 372,
    "start_time": "2022-04-22T05:29:26.265Z"
   },
   {
    "duration": 540,
    "start_time": "2022-04-22T05:29:26.640Z"
   },
   {
    "duration": 4,
    "start_time": "2022-04-22T05:29:27.183Z"
   },
   {
    "duration": 499,
    "start_time": "2022-04-22T05:29:27.194Z"
   },
   {
    "duration": 476,
    "start_time": "2022-04-22T05:29:27.695Z"
   },
   {
    "duration": 4,
    "start_time": "2022-04-22T05:29:28.173Z"
   },
   {
    "duration": 10,
    "start_time": "2022-04-22T05:29:28.192Z"
   },
   {
    "duration": 452,
    "start_time": "2022-04-22T05:29:28.204Z"
   },
   {
    "duration": 41,
    "start_time": "2022-04-22T05:29:28.658Z"
   },
   {
    "duration": 25,
    "start_time": "2022-04-22T05:29:28.701Z"
   },
   {
    "duration": 1464,
    "start_time": "2022-04-22T05:44:34.020Z"
   },
   {
    "duration": 63,
    "start_time": "2022-04-22T05:44:35.486Z"
   },
   {
    "duration": 21,
    "start_time": "2022-04-22T05:44:35.551Z"
   },
   {
    "duration": 29,
    "start_time": "2022-04-22T05:44:35.575Z"
   },
   {
    "duration": 13,
    "start_time": "2022-04-22T05:44:35.606Z"
   },
   {
    "duration": 12,
    "start_time": "2022-04-22T05:44:35.621Z"
   },
   {
    "duration": 32,
    "start_time": "2022-04-22T05:44:35.635Z"
   },
   {
    "duration": 25,
    "start_time": "2022-04-22T05:44:35.669Z"
   },
   {
    "duration": 23,
    "start_time": "2022-04-22T05:44:35.696Z"
   },
   {
    "duration": 12,
    "start_time": "2022-04-22T05:44:35.723Z"
   },
   {
    "duration": 59,
    "start_time": "2022-04-22T05:44:35.737Z"
   },
   {
    "duration": 13,
    "start_time": "2022-04-22T05:44:35.799Z"
   },
   {
    "duration": 30,
    "start_time": "2022-04-22T05:44:35.815Z"
   },
   {
    "duration": 47,
    "start_time": "2022-04-22T05:44:35.847Z"
   },
   {
    "duration": 13,
    "start_time": "2022-04-22T05:44:35.897Z"
   },
   {
    "duration": 9,
    "start_time": "2022-04-22T05:44:35.913Z"
   },
   {
    "duration": 23,
    "start_time": "2022-04-22T05:44:35.924Z"
   },
   {
    "duration": 47,
    "start_time": "2022-04-22T05:44:35.950Z"
   },
   {
    "duration": 23,
    "start_time": "2022-04-22T05:44:35.999Z"
   },
   {
    "duration": 7,
    "start_time": "2022-04-22T05:44:36.024Z"
   },
   {
    "duration": 11,
    "start_time": "2022-04-22T05:44:36.033Z"
   },
   {
    "duration": 4,
    "start_time": "2022-04-22T05:44:36.046Z"
   },
   {
    "duration": 46,
    "start_time": "2022-04-22T05:44:36.052Z"
   },
   {
    "duration": 8,
    "start_time": "2022-04-22T05:44:36.100Z"
   },
   {
    "duration": 17,
    "start_time": "2022-04-22T05:44:36.111Z"
   },
   {
    "duration": 654,
    "start_time": "2022-04-22T05:44:36.130Z"
   },
   {
    "duration": 507,
    "start_time": "2022-04-22T05:44:36.786Z"
   },
   {
    "duration": 1712,
    "start_time": "2022-04-22T05:44:37.297Z"
   },
   {
    "duration": 10,
    "start_time": "2022-04-22T05:44:39.012Z"
   },
   {
    "duration": 322,
    "start_time": "2022-04-22T05:44:39.025Z"
   },
   {
    "duration": 2505,
    "start_time": "2022-04-22T05:44:39.349Z"
   },
   {
    "duration": 38,
    "start_time": "2022-04-22T05:44:41.856Z"
   },
   {
    "duration": 335,
    "start_time": "2022-04-22T05:44:41.896Z"
   },
   {
    "duration": 449,
    "start_time": "2022-04-22T05:44:42.234Z"
   },
   {
    "duration": 2454,
    "start_time": "2022-04-22T05:44:42.685Z"
   },
   {
    "duration": 352,
    "start_time": "2022-04-22T05:44:45.141Z"
   },
   {
    "duration": 523,
    "start_time": "2022-04-22T05:44:45.495Z"
   },
   {
    "duration": 4,
    "start_time": "2022-04-22T05:44:46.020Z"
   },
   {
    "duration": 479,
    "start_time": "2022-04-22T05:44:46.026Z"
   },
   {
    "duration": 458,
    "start_time": "2022-04-22T05:44:46.507Z"
   },
   {
    "duration": 4,
    "start_time": "2022-04-22T05:44:46.967Z"
   },
   {
    "duration": 22,
    "start_time": "2022-04-22T05:44:46.973Z"
   },
   {
    "duration": 452,
    "start_time": "2022-04-22T05:44:46.997Z"
   },
   {
    "duration": 43,
    "start_time": "2022-04-22T05:44:47.451Z"
   },
   {
    "duration": 28,
    "start_time": "2022-04-22T05:44:47.496Z"
   },
   {
    "duration": 1255,
    "start_time": "2022-04-29T11:07:58.468Z"
   },
   {
    "duration": 33,
    "start_time": "2022-04-29T11:07:59.726Z"
   },
   {
    "duration": 15,
    "start_time": "2022-04-29T11:07:59.761Z"
   },
   {
    "duration": 20,
    "start_time": "2022-04-29T11:07:59.778Z"
   },
   {
    "duration": 9,
    "start_time": "2022-04-29T11:07:59.800Z"
   },
   {
    "duration": 4,
    "start_time": "2022-04-29T11:07:59.824Z"
   },
   {
    "duration": 21,
    "start_time": "2022-04-29T11:07:59.829Z"
   },
   {
    "duration": 3,
    "start_time": "2022-04-29T11:07:59.851Z"
   },
   {
    "duration": 17,
    "start_time": "2022-04-29T11:07:59.855Z"
   },
   {
    "duration": 9,
    "start_time": "2022-04-29T11:07:59.874Z"
   },
   {
    "duration": 44,
    "start_time": "2022-04-29T11:07:59.885Z"
   },
   {
    "duration": 8,
    "start_time": "2022-04-29T11:07:59.930Z"
   },
   {
    "duration": 20,
    "start_time": "2022-04-29T11:07:59.939Z"
   },
   {
    "duration": 7,
    "start_time": "2022-04-29T11:07:59.962Z"
   },
   {
    "duration": 10,
    "start_time": "2022-04-29T11:07:59.970Z"
   },
   {
    "duration": 9,
    "start_time": "2022-04-29T11:07:59.982Z"
   },
   {
    "duration": 41,
    "start_time": "2022-04-29T11:07:59.992Z"
   },
   {
    "duration": 4,
    "start_time": "2022-04-29T11:08:00.035Z"
   },
   {
    "duration": 17,
    "start_time": "2022-04-29T11:08:00.040Z"
   },
   {
    "duration": 4,
    "start_time": "2022-04-29T11:08:00.059Z"
   },
   {
    "duration": 8,
    "start_time": "2022-04-29T11:08:00.065Z"
   },
   {
    "duration": 5,
    "start_time": "2022-04-29T11:08:00.074Z"
   },
   {
    "duration": 11,
    "start_time": "2022-04-29T11:08:00.081Z"
   },
   {
    "duration": 30,
    "start_time": "2022-04-29T11:08:00.094Z"
   },
   {
    "duration": 14,
    "start_time": "2022-04-29T11:08:00.125Z"
   },
   {
    "duration": 378,
    "start_time": "2022-04-29T11:08:00.140Z"
   },
   {
    "duration": 295,
    "start_time": "2022-04-29T11:08:00.523Z"
   },
   {
    "duration": 1044,
    "start_time": "2022-04-29T11:08:00.823Z"
   },
   {
    "duration": 6,
    "start_time": "2022-04-29T11:08:01.869Z"
   },
   {
    "duration": 194,
    "start_time": "2022-04-29T11:08:01.876Z"
   },
   {
    "duration": 1578,
    "start_time": "2022-04-29T11:08:02.072Z"
   },
   {
    "duration": 17,
    "start_time": "2022-04-29T11:08:03.652Z"
   },
   {
    "duration": 211,
    "start_time": "2022-04-29T11:08:03.671Z"
   },
   {
    "duration": 269,
    "start_time": "2022-04-29T11:08:03.884Z"
   },
   {
    "duration": 1535,
    "start_time": "2022-04-29T11:08:04.155Z"
   },
   {
    "duration": 230,
    "start_time": "2022-04-29T11:08:05.691Z"
   },
   {
    "duration": 363,
    "start_time": "2022-04-29T11:08:05.923Z"
   },
   {
    "duration": 3,
    "start_time": "2022-04-29T11:08:06.287Z"
   },
   {
    "duration": 416,
    "start_time": "2022-04-29T11:08:06.293Z"
   },
   {
    "duration": 404,
    "start_time": "2022-04-29T11:08:06.712Z"
   },
   {
    "duration": 2,
    "start_time": "2022-04-29T11:08:07.123Z"
   },
   {
    "duration": 9,
    "start_time": "2022-04-29T11:08:07.127Z"
   },
   {
    "duration": 281,
    "start_time": "2022-04-29T11:08:07.137Z"
   },
   {
    "duration": 21,
    "start_time": "2022-04-29T11:08:07.424Z"
   },
   {
    "duration": 19,
    "start_time": "2022-04-29T11:08:07.446Z"
   },
   {
    "duration": 145,
    "start_time": "2022-04-29T11:09:41.805Z"
   },
   {
    "duration": 163,
    "start_time": "2022-04-29T11:15:58.769Z"
   },
   {
    "duration": 130,
    "start_time": "2022-04-29T11:26:01.173Z"
   },
   {
    "duration": 157,
    "start_time": "2022-04-29T11:42:04.452Z"
   },
   {
    "duration": 75,
    "start_time": "2022-05-01T09:19:39.824Z"
   },
   {
    "duration": 2168,
    "start_time": "2022-05-01T09:19:59.956Z"
   },
   {
    "duration": 76,
    "start_time": "2022-05-01T09:20:02.127Z"
   },
   {
    "duration": 644,
    "start_time": "2022-05-01T09:20:02.206Z"
   },
   {
    "duration": 40,
    "start_time": "2022-05-01T09:20:02.854Z"
   },
   {
    "duration": 14,
    "start_time": "2022-05-01T09:20:02.897Z"
   },
   {
    "duration": 5,
    "start_time": "2022-05-01T09:20:02.914Z"
   },
   {
    "duration": 27,
    "start_time": "2022-05-01T09:20:02.922Z"
   },
   {
    "duration": 30,
    "start_time": "2022-05-01T09:20:02.952Z"
   },
   {
    "duration": 31,
    "start_time": "2022-05-01T09:20:02.985Z"
   },
   {
    "duration": 17,
    "start_time": "2022-05-01T09:20:03.022Z"
   },
   {
    "duration": 55,
    "start_time": "2022-05-01T09:20:03.041Z"
   },
   {
    "duration": 21,
    "start_time": "2022-05-01T09:20:03.098Z"
   },
   {
    "duration": 5,
    "start_time": "2022-05-01T09:20:03.122Z"
   },
   {
    "duration": 57,
    "start_time": "2022-05-01T09:20:03.130Z"
   },
   {
    "duration": 14,
    "start_time": "2022-05-01T09:20:03.190Z"
   },
   {
    "duration": 15,
    "start_time": "2022-05-01T09:20:03.207Z"
   },
   {
    "duration": 11,
    "start_time": "2022-05-01T09:20:03.225Z"
   },
   {
    "duration": 57,
    "start_time": "2022-05-01T09:20:03.238Z"
   },
   {
    "duration": 6,
    "start_time": "2022-05-01T09:20:03.303Z"
   },
   {
    "duration": 25,
    "start_time": "2022-05-01T09:20:03.311Z"
   },
   {
    "duration": 7,
    "start_time": "2022-05-01T09:20:03.338Z"
   },
   {
    "duration": 35,
    "start_time": "2022-05-01T09:20:03.347Z"
   },
   {
    "duration": 6,
    "start_time": "2022-05-01T09:20:03.386Z"
   },
   {
    "duration": 23,
    "start_time": "2022-05-01T09:20:03.394Z"
   },
   {
    "duration": 7,
    "start_time": "2022-05-01T09:20:03.419Z"
   },
   {
    "duration": 20,
    "start_time": "2022-05-01T09:20:03.428Z"
   },
   {
    "duration": 739,
    "start_time": "2022-05-01T09:20:03.451Z"
   },
   {
    "duration": 558,
    "start_time": "2022-05-01T09:20:04.201Z"
   },
   {
    "duration": 1844,
    "start_time": "2022-05-01T09:20:04.761Z"
   },
   {
    "duration": 11,
    "start_time": "2022-05-01T09:20:06.607Z"
   },
   {
    "duration": 359,
    "start_time": "2022-05-01T09:20:06.621Z"
   },
   {
    "duration": 2965,
    "start_time": "2022-05-01T09:20:06.985Z"
   },
   {
    "duration": 42,
    "start_time": "2022-05-01T09:20:09.953Z"
   },
   {
    "duration": 366,
    "start_time": "2022-05-01T09:20:09.998Z"
   },
   {
    "duration": 466,
    "start_time": "2022-05-01T09:20:10.366Z"
   },
   {
    "duration": 2602,
    "start_time": "2022-05-01T09:20:10.834Z"
   },
   {
    "duration": 379,
    "start_time": "2022-05-01T09:20:13.439Z"
   },
   {
    "duration": 576,
    "start_time": "2022-05-01T09:20:13.820Z"
   },
   {
    "duration": 4,
    "start_time": "2022-05-01T09:20:14.399Z"
   },
   {
    "duration": 527,
    "start_time": "2022-05-01T09:20:14.406Z"
   },
   {
    "duration": 520,
    "start_time": "2022-05-01T09:20:14.936Z"
   },
   {
    "duration": 4,
    "start_time": "2022-05-01T09:20:15.459Z"
   },
   {
    "duration": 31,
    "start_time": "2022-05-01T09:20:15.465Z"
   },
   {
    "duration": 454,
    "start_time": "2022-05-01T09:20:15.498Z"
   },
   {
    "duration": 47,
    "start_time": "2022-05-01T09:20:15.954Z"
   },
   {
    "duration": 23,
    "start_time": "2022-05-01T09:20:16.003Z"
   },
   {
    "duration": 2001,
    "start_time": "2022-05-01T09:25:52.321Z"
   },
   {
    "duration": 71,
    "start_time": "2022-05-01T09:25:54.326Z"
   },
   {
    "duration": 21,
    "start_time": "2022-05-01T09:25:54.400Z"
   },
   {
    "duration": 24,
    "start_time": "2022-05-01T09:25:54.424Z"
   },
   {
    "duration": 46,
    "start_time": "2022-05-01T09:25:54.450Z"
   },
   {
    "duration": 8,
    "start_time": "2022-05-01T09:25:54.500Z"
   },
   {
    "duration": 31,
    "start_time": "2022-05-01T09:25:54.510Z"
   },
   {
    "duration": 4,
    "start_time": "2022-05-01T09:25:54.544Z"
   },
   {
    "duration": 50,
    "start_time": "2022-05-01T09:25:54.550Z"
   },
   {
    "duration": 15,
    "start_time": "2022-05-01T09:25:54.604Z"
   },
   {
    "duration": 31,
    "start_time": "2022-05-01T09:25:54.622Z"
   },
   {
    "duration": 36,
    "start_time": "2022-05-01T09:25:54.656Z"
   },
   {
    "duration": 9,
    "start_time": "2022-05-01T09:25:54.695Z"
   },
   {
    "duration": 33,
    "start_time": "2022-05-01T09:25:54.707Z"
   },
   {
    "duration": 11,
    "start_time": "2022-05-01T09:25:54.742Z"
   },
   {
    "duration": 45,
    "start_time": "2022-05-01T09:25:54.755Z"
   },
   {
    "duration": 12,
    "start_time": "2022-05-01T09:25:54.802Z"
   },
   {
    "duration": 23,
    "start_time": "2022-05-01T09:25:54.816Z"
   },
   {
    "duration": 6,
    "start_time": "2022-05-01T09:25:54.842Z"
   },
   {
    "duration": 54,
    "start_time": "2022-05-01T09:25:54.850Z"
   },
   {
    "duration": 7,
    "start_time": "2022-05-01T09:25:54.906Z"
   },
   {
    "duration": 10,
    "start_time": "2022-05-01T09:25:54.915Z"
   },
   {
    "duration": 5,
    "start_time": "2022-05-01T09:25:54.927Z"
   },
   {
    "duration": 56,
    "start_time": "2022-05-01T09:25:54.935Z"
   },
   {
    "duration": 12,
    "start_time": "2022-05-01T09:25:54.995Z"
   },
   {
    "duration": 40,
    "start_time": "2022-05-01T09:25:55.010Z"
   },
   {
    "duration": 984,
    "start_time": "2022-05-01T09:25:55.053Z"
   },
   {
    "duration": 568,
    "start_time": "2022-05-01T09:25:56.042Z"
   },
   {
    "duration": 1753,
    "start_time": "2022-05-01T09:25:56.613Z"
   },
   {
    "duration": 18,
    "start_time": "2022-05-01T09:25:58.368Z"
   },
   {
    "duration": 341,
    "start_time": "2022-05-01T09:25:58.388Z"
   },
   {
    "duration": 2103,
    "start_time": "2022-05-01T09:25:58.731Z"
   },
   {
    "duration": 26,
    "start_time": "2022-05-01T09:26:00.836Z"
   },
   {
    "duration": 358,
    "start_time": "2022-05-01T09:26:00.882Z"
   },
   {
    "duration": 472,
    "start_time": "2022-05-01T09:26:01.242Z"
   },
   {
    "duration": 2652,
    "start_time": "2022-05-01T09:26:01.716Z"
   },
   {
    "duration": 403,
    "start_time": "2022-05-01T09:26:04.370Z"
   },
   {
    "duration": 594,
    "start_time": "2022-05-01T09:26:04.775Z"
   },
   {
    "duration": 12,
    "start_time": "2022-05-01T09:26:05.371Z"
   },
   {
    "duration": 526,
    "start_time": "2022-05-01T09:26:05.385Z"
   },
   {
    "duration": 528,
    "start_time": "2022-05-01T09:26:05.913Z"
   },
   {
    "duration": 4,
    "start_time": "2022-05-01T09:26:06.443Z"
   },
   {
    "duration": 13,
    "start_time": "2022-05-01T09:26:06.449Z"
   },
   {
    "duration": 481,
    "start_time": "2022-05-01T09:26:06.464Z"
   },
   {
    "duration": 43,
    "start_time": "2022-05-01T09:26:06.947Z"
   },
   {
    "duration": 28,
    "start_time": "2022-05-01T09:26:06.992Z"
   },
   {
    "duration": 6,
    "start_time": "2022-05-01T09:33:45.831Z"
   },
   {
    "duration": 5,
    "start_time": "2022-05-01T09:33:56.994Z"
   },
   {
    "duration": 1553,
    "start_time": "2022-05-01T09:36:21.870Z"
   },
   {
    "duration": 71,
    "start_time": "2022-05-01T09:36:23.427Z"
   },
   {
    "duration": 21,
    "start_time": "2022-05-01T09:36:23.500Z"
   },
   {
    "duration": 27,
    "start_time": "2022-05-01T09:36:23.524Z"
   },
   {
    "duration": 46,
    "start_time": "2022-05-01T09:36:23.553Z"
   },
   {
    "duration": 5,
    "start_time": "2022-05-01T09:36:23.601Z"
   },
   {
    "duration": 23,
    "start_time": "2022-05-01T09:36:23.609Z"
   },
   {
    "duration": 4,
    "start_time": "2022-05-01T09:36:23.634Z"
   },
   {
    "duration": 51,
    "start_time": "2022-05-01T09:36:23.640Z"
   },
   {
    "duration": 10,
    "start_time": "2022-05-01T09:36:23.695Z"
   },
   {
    "duration": 17,
    "start_time": "2022-05-01T09:36:23.707Z"
   },
   {
    "duration": 4,
    "start_time": "2022-05-01T09:36:23.726Z"
   },
   {
    "duration": 57,
    "start_time": "2022-05-01T09:36:23.732Z"
   },
   {
    "duration": 13,
    "start_time": "2022-05-01T09:36:23.791Z"
   },
   {
    "duration": 5,
    "start_time": "2022-05-01T09:36:23.806Z"
   },
   {
    "duration": 31,
    "start_time": "2022-05-01T09:36:23.813Z"
   },
   {
    "duration": 11,
    "start_time": "2022-05-01T09:36:23.846Z"
   },
   {
    "duration": 15,
    "start_time": "2022-05-01T09:36:23.886Z"
   },
   {
    "duration": 12,
    "start_time": "2022-05-01T09:36:23.903Z"
   },
   {
    "duration": 22,
    "start_time": "2022-05-01T09:36:23.917Z"
   },
   {
    "duration": 6,
    "start_time": "2022-05-01T09:36:23.941Z"
   },
   {
    "duration": 58,
    "start_time": "2022-05-01T09:36:23.948Z"
   },
   {
    "duration": 9,
    "start_time": "2022-05-01T09:36:24.009Z"
   },
   {
    "duration": 11,
    "start_time": "2022-05-01T09:36:24.020Z"
   },
   {
    "duration": 4,
    "start_time": "2022-05-01T09:36:24.034Z"
   },
   {
    "duration": 59,
    "start_time": "2022-05-01T09:36:24.040Z"
   },
   {
    "duration": 12,
    "start_time": "2022-05-01T09:36:24.102Z"
   },
   {
    "duration": 19,
    "start_time": "2022-05-01T09:36:24.120Z"
   },
   {
    "duration": 719,
    "start_time": "2022-05-01T09:36:24.141Z"
   },
   {
    "duration": 948,
    "start_time": "2022-05-01T09:36:24.863Z"
   },
   {
    "duration": 3390,
    "start_time": "2022-05-01T09:36:25.813Z"
   },
   {
    "duration": 11,
    "start_time": "2022-05-01T09:36:29.206Z"
   },
   {
    "duration": 505,
    "start_time": "2022-05-01T09:36:29.219Z"
   },
   {
    "duration": 2375,
    "start_time": "2022-05-01T09:36:29.726Z"
   },
   {
    "duration": 25,
    "start_time": "2022-05-01T09:36:32.103Z"
   },
   {
    "duration": 368,
    "start_time": "2022-05-01T09:36:32.131Z"
   },
   {
    "duration": 474,
    "start_time": "2022-05-01T09:36:32.502Z"
   },
   {
    "duration": 2679,
    "start_time": "2022-05-01T09:36:32.982Z"
   },
   {
    "duration": 405,
    "start_time": "2022-05-01T09:36:35.664Z"
   },
   {
    "duration": 593,
    "start_time": "2022-05-01T09:36:36.072Z"
   },
   {
    "duration": 4,
    "start_time": "2022-05-01T09:36:36.667Z"
   },
   {
    "duration": 541,
    "start_time": "2022-05-01T09:36:36.673Z"
   },
   {
    "duration": 524,
    "start_time": "2022-05-01T09:36:37.216Z"
   },
   {
    "duration": 3,
    "start_time": "2022-05-01T09:36:37.743Z"
   },
   {
    "duration": 12,
    "start_time": "2022-05-01T09:36:37.748Z"
   },
   {
    "duration": 476,
    "start_time": "2022-05-01T09:36:37.762Z"
   },
   {
    "duration": 41,
    "start_time": "2022-05-01T09:36:38.241Z"
   },
   {
    "duration": 31,
    "start_time": "2022-05-01T09:36:38.284Z"
   },
   {
    "duration": 6,
    "start_time": "2022-05-01T09:36:44.181Z"
   },
   {
    "duration": 15,
    "start_time": "2022-05-01T09:36:49.888Z"
   },
   {
    "duration": 6,
    "start_time": "2022-05-01T09:36:50.518Z"
   },
   {
    "duration": 1894,
    "start_time": "2022-05-01T09:37:07.234Z"
   },
   {
    "duration": 53,
    "start_time": "2022-05-01T09:37:09.131Z"
   },
   {
    "duration": 24,
    "start_time": "2022-05-01T09:37:09.191Z"
   },
   {
    "duration": 31,
    "start_time": "2022-05-01T09:37:09.217Z"
   },
   {
    "duration": 56,
    "start_time": "2022-05-01T09:37:09.250Z"
   },
   {
    "duration": 6,
    "start_time": "2022-05-01T09:37:09.308Z"
   },
   {
    "duration": 24,
    "start_time": "2022-05-01T09:37:09.316Z"
   },
   {
    "duration": 4,
    "start_time": "2022-05-01T09:37:09.342Z"
   },
   {
    "duration": 48,
    "start_time": "2022-05-01T09:37:09.350Z"
   },
   {
    "duration": 17,
    "start_time": "2022-05-01T09:37:09.400Z"
   },
   {
    "duration": 15,
    "start_time": "2022-05-01T09:37:09.419Z"
   },
   {
    "duration": 5,
    "start_time": "2022-05-01T09:37:09.437Z"
   },
   {
    "duration": 61,
    "start_time": "2022-05-01T09:37:09.444Z"
   },
   {
    "duration": 6,
    "start_time": "2022-05-01T09:37:09.507Z"
   },
   {
    "duration": 16,
    "start_time": "2022-05-01T09:37:09.516Z"
   },
   {
    "duration": 6,
    "start_time": "2022-05-01T09:37:09.535Z"
   },
   {
    "duration": 63,
    "start_time": "2022-05-01T09:37:09.544Z"
   },
   {
    "duration": 15,
    "start_time": "2022-05-01T09:37:09.610Z"
   },
   {
    "duration": 16,
    "start_time": "2022-05-01T09:37:09.629Z"
   },
   {
    "duration": 47,
    "start_time": "2022-05-01T09:37:09.651Z"
   },
   {
    "duration": 60,
    "start_time": "2022-05-01T09:37:09.701Z"
   },
   {
    "duration": 5,
    "start_time": "2022-05-01T09:37:09.763Z"
   },
   {
    "duration": 40,
    "start_time": "2022-05-01T09:37:09.771Z"
   },
   {
    "duration": 9,
    "start_time": "2022-05-01T09:37:09.815Z"
   },
   {
    "duration": 13,
    "start_time": "2022-05-01T09:37:09.828Z"
   },
   {
    "duration": 7,
    "start_time": "2022-05-01T09:37:09.844Z"
   },
   {
    "duration": 46,
    "start_time": "2022-05-01T09:37:09.859Z"
   },
   {
    "duration": 7,
    "start_time": "2022-05-01T09:37:09.908Z"
   },
   {
    "duration": 19,
    "start_time": "2022-05-01T09:37:09.917Z"
   },
   {
    "duration": 1251,
    "start_time": "2022-05-01T09:37:09.938Z"
   },
   {
    "duration": 1295,
    "start_time": "2022-05-01T09:37:11.197Z"
   },
   {
    "duration": 2699,
    "start_time": "2022-05-01T09:37:12.495Z"
   },
   {
    "duration": 12,
    "start_time": "2022-05-01T09:37:15.196Z"
   },
   {
    "duration": 337,
    "start_time": "2022-05-01T09:37:15.212Z"
   },
   {
    "duration": 2333,
    "start_time": "2022-05-01T09:37:15.551Z"
   },
   {
    "duration": 31,
    "start_time": "2022-05-01T09:37:17.887Z"
   },
   {
    "duration": 552,
    "start_time": "2022-05-01T09:37:17.924Z"
   },
   {
    "duration": 676,
    "start_time": "2022-05-01T09:37:18.483Z"
   },
   {
    "duration": 3509,
    "start_time": "2022-05-01T09:37:19.162Z"
   },
   {
    "duration": 383,
    "start_time": "2022-05-01T09:37:22.673Z"
   },
   {
    "duration": 594,
    "start_time": "2022-05-01T09:37:23.058Z"
   },
   {
    "duration": 4,
    "start_time": "2022-05-01T09:37:23.654Z"
   },
   {
    "duration": 533,
    "start_time": "2022-05-01T09:37:23.660Z"
   },
   {
    "duration": 505,
    "start_time": "2022-05-01T09:37:24.196Z"
   },
   {
    "duration": 4,
    "start_time": "2022-05-01T09:37:24.703Z"
   },
   {
    "duration": 10,
    "start_time": "2022-05-01T09:37:24.709Z"
   },
   {
    "duration": 485,
    "start_time": "2022-05-01T09:37:24.722Z"
   },
   {
    "duration": 26,
    "start_time": "2022-05-01T09:37:25.209Z"
   },
   {
    "duration": 56,
    "start_time": "2022-05-01T09:37:25.238Z"
   },
   {
    "duration": 522,
    "start_time": "2022-05-01T09:44:55.968Z"
   },
   {
    "duration": 1259,
    "start_time": "2022-05-03T18:37:50.847Z"
   },
   {
    "duration": 40,
    "start_time": "2022-05-03T18:37:52.108Z"
   },
   {
    "duration": 13,
    "start_time": "2022-05-03T18:37:52.150Z"
   },
   {
    "duration": 15,
    "start_time": "2022-05-03T18:37:52.165Z"
   },
   {
    "duration": 9,
    "start_time": "2022-05-03T18:37:52.181Z"
   },
   {
    "duration": 3,
    "start_time": "2022-05-03T18:37:52.200Z"
   },
   {
    "duration": 17,
    "start_time": "2022-05-03T18:37:52.204Z"
   },
   {
    "duration": 3,
    "start_time": "2022-05-03T18:37:52.222Z"
   },
   {
    "duration": 13,
    "start_time": "2022-05-03T18:37:52.226Z"
   },
   {
    "duration": 4,
    "start_time": "2022-05-03T18:37:52.241Z"
   },
   {
    "duration": 8,
    "start_time": "2022-05-03T18:37:52.247Z"
   },
   {
    "duration": 4,
    "start_time": "2022-05-03T18:37:52.256Z"
   },
   {
    "duration": 49,
    "start_time": "2022-05-03T18:37:52.261Z"
   },
   {
    "duration": 3,
    "start_time": "2022-05-03T18:37:52.311Z"
   },
   {
    "duration": 8,
    "start_time": "2022-05-03T18:37:52.316Z"
   },
   {
    "duration": 3,
    "start_time": "2022-05-03T18:37:52.325Z"
   },
   {
    "duration": 17,
    "start_time": "2022-05-03T18:37:52.330Z"
   },
   {
    "duration": 7,
    "start_time": "2022-05-03T18:37:52.349Z"
   },
   {
    "duration": 9,
    "start_time": "2022-05-03T18:37:52.357Z"
   },
   {
    "duration": 33,
    "start_time": "2022-05-03T18:37:52.368Z"
   },
   {
    "duration": 16,
    "start_time": "2022-05-03T18:37:52.402Z"
   },
   {
    "duration": 5,
    "start_time": "2022-05-03T18:37:52.419Z"
   },
   {
    "duration": 18,
    "start_time": "2022-05-03T18:37:52.425Z"
   },
   {
    "duration": 5,
    "start_time": "2022-05-03T18:37:52.445Z"
   },
   {
    "duration": 12,
    "start_time": "2022-05-03T18:37:52.452Z"
   },
   {
    "duration": 5,
    "start_time": "2022-05-03T18:37:52.465Z"
   },
   {
    "duration": 37,
    "start_time": "2022-05-03T18:37:52.471Z"
   },
   {
    "duration": 5,
    "start_time": "2022-05-03T18:37:52.512Z"
   },
   {
    "duration": 11,
    "start_time": "2022-05-03T18:37:52.519Z"
   },
   {
    "duration": 373,
    "start_time": "2022-05-03T18:37:52.532Z"
   },
   {
    "duration": 288,
    "start_time": "2022-05-03T18:37:52.907Z"
   },
   {
    "duration": 943,
    "start_time": "2022-05-03T18:37:53.197Z"
   },
   {
    "duration": 7,
    "start_time": "2022-05-03T18:37:54.142Z"
   },
   {
    "duration": 167,
    "start_time": "2022-05-03T18:37:54.150Z"
   },
   {
    "duration": 1147,
    "start_time": "2022-05-03T18:37:54.318Z"
   },
   {
    "duration": 15,
    "start_time": "2022-05-03T18:37:55.466Z"
   },
   {
    "duration": 181,
    "start_time": "2022-05-03T18:37:55.483Z"
   },
   {
    "duration": 186,
    "start_time": "2022-05-03T18:37:55.665Z"
   },
   {
    "duration": 256,
    "start_time": "2022-05-03T18:37:55.852Z"
   },
   {
    "duration": 1307,
    "start_time": "2022-05-03T18:37:56.109Z"
   },
   {
    "duration": 248,
    "start_time": "2022-05-03T18:37:57.418Z"
   },
   {
    "duration": 241,
    "start_time": "2022-05-03T18:37:57.667Z"
   },
   {
    "duration": 3,
    "start_time": "2022-05-03T18:37:57.909Z"
   },
   {
    "duration": 373,
    "start_time": "2022-05-03T18:37:57.913Z"
   },
   {
    "duration": 0,
    "start_time": "2022-05-03T18:37:58.287Z"
   },
   {
    "duration": 0,
    "start_time": "2022-05-03T18:37:58.288Z"
   },
   {
    "duration": 0,
    "start_time": "2022-05-03T18:37:58.289Z"
   },
   {
    "duration": 0,
    "start_time": "2022-05-03T18:37:58.290Z"
   },
   {
    "duration": 0,
    "start_time": "2022-05-03T18:37:58.291Z"
   },
   {
    "duration": 0,
    "start_time": "2022-05-03T18:37:58.292Z"
   },
   {
    "duration": 161,
    "start_time": "2022-05-03T18:38:16.177Z"
   },
   {
    "duration": 257,
    "start_time": "2022-05-03T18:38:32.402Z"
   },
   {
    "duration": 248,
    "start_time": "2022-05-03T18:38:39.738Z"
   },
   {
    "duration": 210,
    "start_time": "2022-05-03T18:38:46.378Z"
   },
   {
    "duration": 210,
    "start_time": "2022-05-03T18:38:56.714Z"
   },
   {
    "duration": 1065,
    "start_time": "2022-05-03T18:39:10.632Z"
   },
   {
    "duration": 51,
    "start_time": "2022-05-03T18:39:11.699Z"
   },
   {
    "duration": 13,
    "start_time": "2022-05-03T18:39:11.751Z"
   },
   {
    "duration": 14,
    "start_time": "2022-05-03T18:39:11.766Z"
   },
   {
    "duration": 8,
    "start_time": "2022-05-03T18:39:11.782Z"
   },
   {
    "duration": 4,
    "start_time": "2022-05-03T18:39:11.791Z"
   },
   {
    "duration": 14,
    "start_time": "2022-05-03T18:39:11.800Z"
   },
   {
    "duration": 3,
    "start_time": "2022-05-03T18:39:11.815Z"
   },
   {
    "duration": 13,
    "start_time": "2022-05-03T18:39:11.819Z"
   },
   {
    "duration": 4,
    "start_time": "2022-05-03T18:39:11.834Z"
   },
   {
    "duration": 12,
    "start_time": "2022-05-03T18:39:11.839Z"
   },
   {
    "duration": 7,
    "start_time": "2022-05-03T18:39:11.852Z"
   },
   {
    "duration": 43,
    "start_time": "2022-05-03T18:39:11.860Z"
   },
   {
    "duration": 4,
    "start_time": "2022-05-03T18:39:11.904Z"
   },
   {
    "duration": 10,
    "start_time": "2022-05-03T18:39:11.909Z"
   },
   {
    "duration": 2,
    "start_time": "2022-05-03T18:39:11.921Z"
   },
   {
    "duration": 18,
    "start_time": "2022-05-03T18:39:11.925Z"
   },
   {
    "duration": 7,
    "start_time": "2022-05-03T18:39:11.944Z"
   },
   {
    "duration": 8,
    "start_time": "2022-05-03T18:39:11.952Z"
   },
   {
    "duration": 7,
    "start_time": "2022-05-03T18:39:11.961Z"
   },
   {
    "duration": 37,
    "start_time": "2022-05-03T18:39:11.969Z"
   },
   {
    "duration": 3,
    "start_time": "2022-05-03T18:39:12.008Z"
   },
   {
    "duration": 14,
    "start_time": "2022-05-03T18:39:12.012Z"
   },
   {
    "duration": 4,
    "start_time": "2022-05-03T18:39:12.028Z"
   },
   {
    "duration": 7,
    "start_time": "2022-05-03T18:39:12.034Z"
   },
   {
    "duration": 3,
    "start_time": "2022-05-03T18:39:12.042Z"
   },
   {
    "duration": 12,
    "start_time": "2022-05-03T18:39:12.046Z"
   },
   {
    "duration": 5,
    "start_time": "2022-05-03T18:39:12.061Z"
   },
   {
    "duration": 43,
    "start_time": "2022-05-03T18:39:12.067Z"
   },
   {
    "duration": 343,
    "start_time": "2022-05-03T18:39:12.112Z"
   },
   {
    "duration": 272,
    "start_time": "2022-05-03T18:39:12.457Z"
   },
   {
    "duration": 922,
    "start_time": "2022-05-03T18:39:12.731Z"
   },
   {
    "duration": 5,
    "start_time": "2022-05-03T18:39:13.655Z"
   },
   {
    "duration": 167,
    "start_time": "2022-05-03T18:39:13.662Z"
   },
   {
    "duration": 1091,
    "start_time": "2022-05-03T18:39:13.831Z"
   },
   {
    "duration": 15,
    "start_time": "2022-05-03T18:39:14.923Z"
   },
   {
    "duration": 187,
    "start_time": "2022-05-03T18:39:14.939Z"
   },
   {
    "duration": 196,
    "start_time": "2022-05-03T18:39:15.127Z"
   },
   {
    "duration": 252,
    "start_time": "2022-05-03T18:39:15.325Z"
   },
   {
    "duration": 1508,
    "start_time": "2022-05-03T18:39:15.578Z"
   },
   {
    "duration": 415,
    "start_time": "2022-05-03T18:39:17.088Z"
   },
   {
    "duration": 419,
    "start_time": "2022-05-03T18:39:17.505Z"
   },
   {
    "duration": 4,
    "start_time": "2022-05-03T18:39:17.926Z"
   },
   {
    "duration": 248,
    "start_time": "2022-05-03T18:39:17.932Z"
   },
   {
    "duration": 321,
    "start_time": "2022-05-03T18:39:18.181Z"
   },
   {
    "duration": 3,
    "start_time": "2022-05-03T18:39:18.503Z"
   },
   {
    "duration": 8,
    "start_time": "2022-05-03T18:39:18.507Z"
   },
   {
    "duration": 240,
    "start_time": "2022-05-03T18:39:18.517Z"
   },
   {
    "duration": 16,
    "start_time": "2022-05-03T18:39:18.758Z"
   },
   {
    "duration": 26,
    "start_time": "2022-05-03T18:39:18.776Z"
   },
   {
    "duration": 194,
    "start_time": "2022-05-03T18:39:57.134Z"
   },
   {
    "duration": 216,
    "start_time": "2022-05-03T18:41:31.914Z"
   },
   {
    "duration": 311,
    "start_time": "2022-05-03T18:42:37.762Z"
   },
   {
    "duration": 220,
    "start_time": "2022-05-03T18:42:43.259Z"
   },
   {
    "duration": 212,
    "start_time": "2022-05-03T18:42:48.578Z"
   },
   {
    "duration": 219,
    "start_time": "2022-05-03T18:42:55.410Z"
   },
   {
    "duration": 210,
    "start_time": "2022-05-03T18:43:23.123Z"
   },
   {
    "duration": 1134,
    "start_time": "2022-05-03T18:43:51.839Z"
   },
   {
    "duration": 42,
    "start_time": "2022-05-03T18:43:52.975Z"
   },
   {
    "duration": 13,
    "start_time": "2022-05-03T18:43:53.018Z"
   },
   {
    "duration": 16,
    "start_time": "2022-05-03T18:43:53.033Z"
   },
   {
    "duration": 8,
    "start_time": "2022-05-03T18:43:53.051Z"
   },
   {
    "duration": 5,
    "start_time": "2022-05-03T18:43:53.060Z"
   },
   {
    "duration": 18,
    "start_time": "2022-05-03T18:43:53.066Z"
   },
   {
    "duration": 15,
    "start_time": "2022-05-03T18:43:53.085Z"
   },
   {
    "duration": 17,
    "start_time": "2022-05-03T18:43:53.101Z"
   },
   {
    "duration": 6,
    "start_time": "2022-05-03T18:43:53.120Z"
   },
   {
    "duration": 14,
    "start_time": "2022-05-03T18:43:53.127Z"
   },
   {
    "duration": 4,
    "start_time": "2022-05-03T18:43:53.142Z"
   },
   {
    "duration": 19,
    "start_time": "2022-05-03T18:43:53.148Z"
   },
   {
    "duration": 3,
    "start_time": "2022-05-03T18:43:53.169Z"
   },
   {
    "duration": 29,
    "start_time": "2022-05-03T18:43:53.173Z"
   },
   {
    "duration": 6,
    "start_time": "2022-05-03T18:43:53.204Z"
   },
   {
    "duration": 20,
    "start_time": "2022-05-03T18:43:53.211Z"
   },
   {
    "duration": 8,
    "start_time": "2022-05-03T18:43:53.233Z"
   },
   {
    "duration": 9,
    "start_time": "2022-05-03T18:43:53.243Z"
   },
   {
    "duration": 6,
    "start_time": "2022-05-03T18:43:53.254Z"
   },
   {
    "duration": 44,
    "start_time": "2022-05-03T18:43:53.261Z"
   },
   {
    "duration": 4,
    "start_time": "2022-05-03T18:43:53.306Z"
   },
   {
    "duration": 19,
    "start_time": "2022-05-03T18:43:53.312Z"
   },
   {
    "duration": 5,
    "start_time": "2022-05-03T18:43:53.332Z"
   },
   {
    "duration": 9,
    "start_time": "2022-05-03T18:43:53.338Z"
   },
   {
    "duration": 3,
    "start_time": "2022-05-03T18:43:53.348Z"
   },
   {
    "duration": 11,
    "start_time": "2022-05-03T18:43:53.352Z"
   },
   {
    "duration": 5,
    "start_time": "2022-05-03T18:43:53.366Z"
   },
   {
    "duration": 38,
    "start_time": "2022-05-03T18:43:53.372Z"
   },
   {
    "duration": 356,
    "start_time": "2022-05-03T18:43:53.412Z"
   },
   {
    "duration": 284,
    "start_time": "2022-05-03T18:43:53.770Z"
   },
   {
    "duration": 969,
    "start_time": "2022-05-03T18:43:54.055Z"
   },
   {
    "duration": 5,
    "start_time": "2022-05-03T18:43:55.026Z"
   },
   {
    "duration": 171,
    "start_time": "2022-05-03T18:43:55.032Z"
   },
   {
    "duration": 1083,
    "start_time": "2022-05-03T18:43:55.204Z"
   },
   {
    "duration": 24,
    "start_time": "2022-05-03T18:43:56.288Z"
   },
   {
    "duration": 179,
    "start_time": "2022-05-03T18:43:56.313Z"
   },
   {
    "duration": 183,
    "start_time": "2022-05-03T18:43:56.493Z"
   },
   {
    "duration": 235,
    "start_time": "2022-05-03T18:43:56.678Z"
   },
   {
    "duration": 1331,
    "start_time": "2022-05-03T18:43:56.914Z"
   },
   {
    "duration": 275,
    "start_time": "2022-05-03T18:43:58.247Z"
   },
   {
    "duration": 240,
    "start_time": "2022-05-03T18:43:58.524Z"
   },
   {
    "duration": 2,
    "start_time": "2022-05-03T18:43:58.765Z"
   },
   {
    "duration": 225,
    "start_time": "2022-05-03T18:43:58.769Z"
   },
   {
    "duration": 236,
    "start_time": "2022-05-03T18:43:59.000Z"
   },
   {
    "duration": 3,
    "start_time": "2022-05-03T18:43:59.238Z"
   },
   {
    "duration": 8,
    "start_time": "2022-05-03T18:43:59.243Z"
   },
   {
    "duration": 199,
    "start_time": "2022-05-03T18:43:59.252Z"
   },
   {
    "duration": 16,
    "start_time": "2022-05-03T18:43:59.453Z"
   },
   {
    "duration": 31,
    "start_time": "2022-05-03T18:43:59.470Z"
   },
   {
    "duration": 246,
    "start_time": "2022-05-03T18:48:19.775Z"
   },
   {
    "duration": 315,
    "start_time": "2022-05-03T18:48:41.911Z"
   },
   {
    "duration": 244,
    "start_time": "2022-05-03T18:49:05.231Z"
   },
   {
    "duration": 243,
    "start_time": "2022-05-03T18:49:11.991Z"
   },
   {
    "duration": 246,
    "start_time": "2022-05-03T18:50:11.707Z"
   },
   {
    "duration": 238,
    "start_time": "2022-05-03T18:50:36.570Z"
   },
   {
    "duration": 178,
    "start_time": "2022-05-03T18:50:58.426Z"
   },
   {
    "duration": 3127,
    "start_time": "2022-05-04T10:31:20.665Z"
   },
   {
    "duration": 40,
    "start_time": "2022-05-04T10:31:23.794Z"
   },
   {
    "duration": 17,
    "start_time": "2022-05-04T10:31:23.874Z"
   },
   {
    "duration": 17,
    "start_time": "2022-05-04T10:31:23.892Z"
   },
   {
    "duration": 12,
    "start_time": "2022-05-04T10:31:23.912Z"
   },
   {
    "duration": 6,
    "start_time": "2022-05-04T10:31:23.925Z"
   },
   {
    "duration": 20,
    "start_time": "2022-05-04T10:31:23.933Z"
   },
   {
    "duration": 3,
    "start_time": "2022-05-04T10:31:23.954Z"
   },
   {
    "duration": 29,
    "start_time": "2022-05-04T10:31:23.959Z"
   },
   {
    "duration": 6,
    "start_time": "2022-05-04T10:31:23.989Z"
   },
   {
    "duration": 14,
    "start_time": "2022-05-04T10:31:23.996Z"
   },
   {
    "duration": 6,
    "start_time": "2022-05-04T10:31:24.012Z"
   },
   {
    "duration": 25,
    "start_time": "2022-05-04T10:31:24.020Z"
   },
   {
    "duration": 5,
    "start_time": "2022-05-04T10:31:24.050Z"
   },
   {
    "duration": 12,
    "start_time": "2022-05-04T10:31:24.057Z"
   },
   {
    "duration": 3,
    "start_time": "2022-05-04T10:31:24.071Z"
   },
   {
    "duration": 33,
    "start_time": "2022-05-04T10:31:24.076Z"
   },
   {
    "duration": 8,
    "start_time": "2022-05-04T10:31:24.111Z"
   },
   {
    "duration": 17,
    "start_time": "2022-05-04T10:31:24.121Z"
   },
   {
    "duration": 9,
    "start_time": "2022-05-04T10:31:24.139Z"
   },
   {
    "duration": 20,
    "start_time": "2022-05-04T10:31:24.150Z"
   },
   {
    "duration": 4,
    "start_time": "2022-05-04T10:31:24.172Z"
   },
   {
    "duration": 21,
    "start_time": "2022-05-04T10:31:24.177Z"
   },
   {
    "duration": 5,
    "start_time": "2022-05-04T10:31:24.200Z"
   },
   {
    "duration": 13,
    "start_time": "2022-05-04T10:31:24.206Z"
   },
   {
    "duration": 12,
    "start_time": "2022-05-04T10:31:24.220Z"
   },
   {
    "duration": 16,
    "start_time": "2022-05-04T10:31:24.233Z"
   },
   {
    "duration": 12,
    "start_time": "2022-05-04T10:31:24.251Z"
   },
   {
    "duration": 15,
    "start_time": "2022-05-04T10:31:24.265Z"
   },
   {
    "duration": 541,
    "start_time": "2022-05-04T10:31:24.282Z"
   },
   {
    "duration": 353,
    "start_time": "2022-05-04T10:31:24.825Z"
   },
   {
    "duration": 1101,
    "start_time": "2022-05-04T10:31:25.180Z"
   },
   {
    "duration": 6,
    "start_time": "2022-05-04T10:31:26.283Z"
   },
   {
    "duration": 194,
    "start_time": "2022-05-04T10:31:26.291Z"
   },
   {
    "duration": 1288,
    "start_time": "2022-05-04T10:31:26.487Z"
   },
   {
    "duration": 18,
    "start_time": "2022-05-04T10:31:27.776Z"
   },
   {
    "duration": 207,
    "start_time": "2022-05-04T10:31:27.795Z"
   },
   {
    "duration": 211,
    "start_time": "2022-05-04T10:31:28.004Z"
   },
   {
    "duration": 279,
    "start_time": "2022-05-04T10:31:28.217Z"
   },
   {
    "duration": 1579,
    "start_time": "2022-05-04T10:31:28.498Z"
   },
   {
    "duration": 332,
    "start_time": "2022-05-04T10:31:30.080Z"
   },
   {
    "duration": 283,
    "start_time": "2022-05-04T10:31:30.414Z"
   },
   {
    "duration": 274,
    "start_time": "2022-05-04T10:31:33.723Z"
   }
  ],
  "kernelspec": {
   "display_name": "Python 3",
   "language": "python",
   "name": "python3"
  },
  "language_info": {
   "codemirror_mode": {
    "name": "ipython",
    "version": 3
   },
   "file_extension": ".py",
   "mimetype": "text/x-python",
   "name": "python",
   "nbconvert_exporter": "python",
   "pygments_lexer": "ipython3",
   "version": "3.8.8"
  },
  "toc": {
   "base_numbering": 1,
   "nav_menu": {},
   "number_sections": true,
   "sideBar": true,
   "skip_h1_title": true,
   "title_cell": "Оглавление",
   "title_sidebar": "Contents",
   "toc_cell": true,
   "toc_position": {
    "height": "calc(100% - 180px)",
    "left": "10px",
    "top": "150px",
    "width": "165px"
   },
   "toc_section_display": true,
   "toc_window_display": true
  }
 },
 "nbformat": 4,
 "nbformat_minor": 2
}
